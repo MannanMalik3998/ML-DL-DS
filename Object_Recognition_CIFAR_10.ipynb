{
  "nbformat": 4,
  "nbformat_minor": 0,
  "metadata": {
    "kernelspec": {
      "name": "python3",
      "display_name": "Python 3"
    },
    "colab": {
      "name": "Object Recognition CIFAR_10.ipynb",
      "provenance": [],
      "collapsed_sections": []
    },
    "accelerator": "GPU"
  },
  "cells": [
    {
      "cell_type": "markdown",
      "metadata": {
        "id": "ctse-BFePkv4",
        "colab_type": "text"
      },
      "source": [
        "**Dataset details**\n",
        "CIFAR-10 dataset, which consists of 60,000 32x32 color images in 10 classes, with 6000 images per class. There are 50000 training images and 10000 test images.\n"
      ]
    },
    {
      "cell_type": "code",
      "metadata": {
        "id": "ZDRRB9aJPkv5",
        "colab_type": "code",
        "colab": {}
      },
      "source": [
        "# Load necessary packages\n",
        "from keras.datasets import cifar10\n",
        "from keras.utils import np_utils\n",
        "from matplotlib import pyplot as plt\n",
        "import numpy as np\n",
        "from PIL import Image"
      ],
      "execution_count": 0,
      "outputs": []
    },
    {
      "cell_type": "code",
      "metadata": {
        "id": "nqRFLV6ZPkv_",
        "colab_type": "code",
        "colab": {}
      },
      "source": [
        "# load the data\n",
        "(X_train, y_train), (X_test, y_test) = cifar10.load_data()"
      ],
      "execution_count": 0,
      "outputs": []
    },
    {
      "cell_type": "code",
      "metadata": {
        "id": "tPHQQP32PkwC",
        "colab_type": "code",
        "colab": {
          "base_uri": "https://localhost:8080/",
          "height": 50
        },
        "outputId": "5d2d1314-0c52-49d2-ebca-febac3e40e13"
      },
      "source": [
        "# Lets determine the dataset characteristics\n",
        "print('Training Images: {}'.format(X_train.shape))\n",
        "print('Testing Images: {}'.format(X_test.shape))"
      ],
      "execution_count": 11,
      "outputs": [
        {
          "output_type": "stream",
          "text": [
            "Training Images: (50000, 32, 32, 3)\n",
            "Testing Images: (10000, 32, 32, 3)\n"
          ],
          "name": "stdout"
        }
      ]
    },
    {
      "cell_type": "markdown",
      "metadata": {
        "id": "NWqsm90RPkwN",
        "colab_type": "text"
      },
      "source": [
        "### 2. Preprocessing the dataset\n",
        "\n",
        "First things first, we need to preprocess the dataset so the images and labels are in a form that Keras can ingest. To start, we'll define a NumPy seed for reproducibility, then normalize the images. \n",
        "\n",
        "Furthermore, we will also convert our class labels to one-hot vectors.  This is a standard output format for neural networks. "
      ]
    },
    {
      "cell_type": "code",
      "metadata": {
        "id": "0gMXNHkXPkwO",
        "colab_type": "code",
        "colab": {}
      },
      "source": [
        "np.random.seed(6) \n",
        "\n",
        "# normalize the inputs from 0-255 to 0.0-1.0\n",
        "X_train = X_train.astype('float32')\n",
        "X_test = X_test.astype('float32')\n",
        "X_train = X_train / 255.0\n",
        "X_test = X_test / 255.0"
      ],
      "execution_count": 0,
      "outputs": []
    },
    {
      "cell_type": "code",
      "metadata": {
        "id": "PoyJWd7SPkwR",
        "colab_type": "code",
        "colab": {
          "base_uri": "https://localhost:8080/",
          "height": 50
        },
        "outputId": "8c18d8d5-26b3-45b2-b2a9-6b283c326fb7"
      },
      "source": [
        "# class labels shape\n",
        "print(y_train.shape)\n",
        "print(y_train[0])"
      ],
      "execution_count": 13,
      "outputs": [
        {
          "output_type": "stream",
          "text": [
            "(50000, 1)\n",
            "[6]\n"
          ],
          "name": "stdout"
        }
      ]
    },
    {
      "cell_type": "markdown",
      "metadata": {
        "id": "4i97jUKWPkwV",
        "colab_type": "text"
      },
      "source": [
        "**One Hot Encoding**\n",
        "In one hot encoding, the class label of 6 should be denoted [0, 0, 0, 0, 0, 0, 1, 0, 0, 0].  We can accomplish this using the np_utils.to_categorical() function."
      ]
    },
    {
      "cell_type": "code",
      "metadata": {
        "id": "D_5a0A8BPkwV",
        "colab_type": "code",
        "colab": {
          "base_uri": "https://localhost:8080/",
          "height": 50
        },
        "outputId": "8bd462e0-00a4-465c-ed44-c5dee56ec253"
      },
      "source": [
        "# hot encode outputs\n",
        "y_train = np_utils.to_categorical(y_train)\n",
        "y_test = np_utils.to_categorical(y_test)\n",
        "num_classes = y_test.shape[1]\n",
        "\n",
        "print(y_train.shape)\n",
        "print(y_train[0])"
      ],
      "execution_count": 14,
      "outputs": [
        {
          "output_type": "stream",
          "text": [
            "(50000, 10)\n",
            "[0. 0. 0. 0. 0. 0. 1. 0. 0. 0.]\n"
          ],
          "name": "stdout"
        }
      ]
    },
    {
      "cell_type": "code",
      "metadata": {
        "id": "-ry5XT3dWyXX",
        "colab_type": "code",
        "colab": {
          "base_uri": "https://localhost:8080/",
          "height": 33
        },
        "outputId": "1fc0d0cc-3ede-4024-aa98-e1dbda2df221"
      },
      "source": [
        "print(X_train.shape)"
      ],
      "execution_count": 15,
      "outputs": [
        {
          "output_type": "stream",
          "text": [
            "(50000, 32, 32, 3)\n"
          ],
          "name": "stdout"
        }
      ]
    },
    {
      "cell_type": "markdown",
      "metadata": {
        "id": "CcrAbd4QPkwa",
        "colab_type": "text"
      },
      "source": [
        "**Generating model**"
      ]
    },
    {
      "cell_type": "code",
      "metadata": {
        "id": "4ce32qz_Pkwb",
        "colab_type": "code",
        "colab": {
          "base_uri": "https://localhost:8080/",
          "height": 358
        },
        "outputId": "2fccdf2e-9a76-4a7d-c429-c8f964554e41"
      },
      "source": [
        "from tensorflow.keras.optimizers import SGD\n",
        "from tensorflow.python.keras.layers import Dense, Dropout, Activation, Flatten,Conv2D, GlobalAveragePooling2D\n",
        "from tensorflow.python.keras import Sequential\n",
        "from tensorflow.keras.callbacks import EarlyStopping, ModelCheckpoint\n",
        "\n",
        "sgd = SGD(lr=0.01, decay=1e-6, momentum=0.9, nesterov=True)\n",
        "\n",
        "#change the path to your directory\n",
        "where_to_save= '/content/sample_data/weights.hdf5'\n",
        "monitor='val_accuracy'\n",
        "\n",
        "#These hyperparameters are used to save time\n",
        "epochs = 5\n",
        "batch_size = 100\n",
        "#Below hyperparamets will provide more accuracy\n",
        "# epochs = 350\n",
        "# batch_size = 32\n",
        "\n",
        "#Define model architecture\n",
        "model = Sequential()\n",
        "\n",
        "model.add(Conv2D(96, (3, 3), activation='relu', padding = 'same', input_shape=(32, 32, 3)))\n",
        "model.add(Conv2D(96, (3, 3), activation='relu', padding = 'same'))\n",
        "model.add(Conv2D(96, (3, 3), padding = 'same', strides = (2,2)))\n",
        "model.add(Dropout(0.5))\n",
        "\n",
        "model.add(Conv2D(192, (3, 3), activation='relu', padding = 'same'))\n",
        "model.add(Conv2D(192, (3, 3), activation='relu', padding = 'same'))\n",
        "model.add(Conv2D(192, (3, 3), padding = 'same', strides = (2,2)))\n",
        "model.add(Dropout(0.5))\n",
        "\n",
        "model.add(Conv2D(192, (3, 3), activation='relu', padding = 'same'))\n",
        "model.add(Conv2D(192, (1, 1), activation='relu', padding = 'valid'))\n",
        "model.add(Conv2D(10, (1, 1), padding = 'valid'))\n",
        "\n",
        "# add GlobalAveragePooling2D layer with Softmax activation\n",
        "model.add(GlobalAveragePooling2D())\n",
        "model.add(Activation('softmax'))\n",
        "\n",
        "model.compile(\n",
        "    loss='categorical_crossentropy', \n",
        "    optimizer=sgd, \n",
        "    metrics=['accuracy'],\n",
        "            )\n",
        "\n",
        "# fit the model\n",
        "model.fit(X_train, y_train, validation_data=(X_test, y_test), epochs=epochs, batch_size=batch_size, \n",
        "          verbose = 1,callbacks=[\n",
        "                                EarlyStopping(verbose=True, patience=5, monitor=monitor),\n",
        "                                ModelCheckpoint(where_to_save, monitor=monitor, verbose=True,save_best_only=True)\n",
        "                                ]\n",
        "    )\n"
      ],
      "execution_count": 20,
      "outputs": [
        {
          "output_type": "stream",
          "text": [
            "Epoch 1/5\n",
            "500/500 [==============================] - ETA: 0s - loss: 2.1217 - accuracy: 0.1938\n",
            "Epoch 00001: val_accuracy improved from -inf to 0.29220, saving model to /content/sample_data/weights.hdf5\n",
            "500/500 [==============================] - 26s 53ms/step - loss: 2.1217 - accuracy: 0.1938 - val_loss: 1.8889 - val_accuracy: 0.2922\n",
            "Epoch 2/5\n",
            "500/500 [==============================] - ETA: 0s - loss: 1.8054 - accuracy: 0.3291\n",
            "Epoch 00002: val_accuracy improved from 0.29220 to 0.38880, saving model to /content/sample_data/weights.hdf5\n",
            "500/500 [==============================] - 27s 53ms/step - loss: 1.8054 - accuracy: 0.3291 - val_loss: 1.6356 - val_accuracy: 0.3888\n",
            "Epoch 3/5\n",
            "500/500 [==============================] - ETA: 0s - loss: 1.5848 - accuracy: 0.4136\n",
            "Epoch 00003: val_accuracy improved from 0.38880 to 0.46540, saving model to /content/sample_data/weights.hdf5\n",
            "500/500 [==============================] - 27s 53ms/step - loss: 1.5848 - accuracy: 0.4136 - val_loss: 1.4394 - val_accuracy: 0.4654\n",
            "Epoch 4/5\n",
            "500/500 [==============================] - ETA: 0s - loss: 1.4203 - accuracy: 0.4818\n",
            "Epoch 00004: val_accuracy improved from 0.46540 to 0.52430, saving model to /content/sample_data/weights.hdf5\n",
            "500/500 [==============================] - 26s 53ms/step - loss: 1.4203 - accuracy: 0.4818 - val_loss: 1.3012 - val_accuracy: 0.5243\n",
            "Epoch 5/5\n",
            "500/500 [==============================] - ETA: 0s - loss: 1.2689 - accuracy: 0.5435\n",
            "Epoch 00005: val_accuracy improved from 0.52430 to 0.56550, saving model to /content/sample_data/weights.hdf5\n",
            "500/500 [==============================] - 26s 53ms/step - loss: 1.2689 - accuracy: 0.5435 - val_loss: 1.2098 - val_accuracy: 0.5655\n"
          ],
          "name": "stdout"
        },
        {
          "output_type": "execute_result",
          "data": {
            "text/plain": [
              "<tensorflow.python.keras.callbacks.History at 0x7ff888e53588>"
            ]
          },
          "metadata": {
            "tags": []
          },
          "execution_count": 20
        }
      ]
    },
    {
      "cell_type": "code",
      "metadata": {
        "id": "NgS65IsCdH77",
        "colab_type": "code",
        "colab": {
          "base_uri": "https://localhost:8080/",
          "height": 586
        },
        "outputId": "e719e35f-a643-4484-80c7-e4cc1f363fba"
      },
      "source": [
        "# print model summary\n",
        "print (model.summary())"
      ],
      "execution_count": 21,
      "outputs": [
        {
          "output_type": "stream",
          "text": [
            "Model: \"sequential_4\"\n",
            "_________________________________________________________________\n",
            "Layer (type)                 Output Shape              Param #   \n",
            "=================================================================\n",
            "conv2d_36 (Conv2D)           (None, 32, 32, 96)        2688      \n",
            "_________________________________________________________________\n",
            "conv2d_37 (Conv2D)           (None, 32, 32, 96)        83040     \n",
            "_________________________________________________________________\n",
            "conv2d_38 (Conv2D)           (None, 16, 16, 96)        83040     \n",
            "_________________________________________________________________\n",
            "dropout_8 (Dropout)          (None, 16, 16, 96)        0         \n",
            "_________________________________________________________________\n",
            "conv2d_39 (Conv2D)           (None, 16, 16, 192)       166080    \n",
            "_________________________________________________________________\n",
            "conv2d_40 (Conv2D)           (None, 16, 16, 192)       331968    \n",
            "_________________________________________________________________\n",
            "conv2d_41 (Conv2D)           (None, 8, 8, 192)         331968    \n",
            "_________________________________________________________________\n",
            "dropout_9 (Dropout)          (None, 8, 8, 192)         0         \n",
            "_________________________________________________________________\n",
            "conv2d_42 (Conv2D)           (None, 8, 8, 192)         331968    \n",
            "_________________________________________________________________\n",
            "conv2d_43 (Conv2D)           (None, 8, 8, 192)         37056     \n",
            "_________________________________________________________________\n",
            "conv2d_44 (Conv2D)           (None, 8, 8, 10)          1930      \n",
            "_________________________________________________________________\n",
            "global_average_pooling2d_4 ( (None, 10)                0         \n",
            "_________________________________________________________________\n",
            "activation_4 (Activation)    (None, 10)                0         \n",
            "=================================================================\n",
            "Total params: 1,369,738\n",
            "Trainable params: 1,369,738\n",
            "Non-trainable params: 0\n",
            "_________________________________________________________________\n",
            "None\n"
          ],
          "name": "stdout"
        }
      ]
    },
    {
      "cell_type": "code",
      "metadata": {
        "id": "JtOqb9GdTLQr",
        "colab_type": "code",
        "colab": {
          "base_uri": "https://localhost:8080/",
          "height": 50
        },
        "outputId": "1bf06b91-f99a-4fec-a068-cba7fe0db3fa"
      },
      "source": [
        "scores = model.evaluate(X_test, y_test, verbose=1)\n",
        "print(\"Accuracy: %.2f%%\" % (scores[1]*100))"
      ],
      "execution_count": 23,
      "outputs": [
        {
          "output_type": "stream",
          "text": [
            "313/313 [==============================] - 2s 8ms/step - loss: 1.2102 - accuracy: 0.5655\n",
            "Accuracy: 56.55%\n"
          ],
          "name": "stdout"
        }
      ]
    }
  ]
}