{
  "nbformat": 4,
  "nbformat_minor": 0,
  "metadata": {
    "colab": {
      "name": "16K-3620.ipynb",
      "provenance": [],
      "collapsed_sections": []
    },
    "kernelspec": {
      "name": "python3",
      "display_name": "Python 3"
    },
    "accelerator": "GPU"
  },
  "cells": [
    {
      "cell_type": "markdown",
      "metadata": {
        "id": "KkNcTOUAv3gP",
        "colab_type": "text"
      },
      "source": [
        "**Read text file**"
      ]
    },
    {
      "cell_type": "code",
      "metadata": {
        "id": "LkinIVgOYiVC",
        "colab_type": "code",
        "outputId": "4a92917e-3bca-45d3-8eb7-f3f3fa5340c6",
        "colab": {
          "base_uri": "https://localhost:8080/",
          "height": 421
        }
      },
      "source": [
        "import pandas as pd\n",
        "# change dataPath to point to text file\n",
        "dataPath='/content/drive/My Drive/Sem8/DS/Mid2/Lab/data2.txt'\n",
        "data=pd.read_csv(dataPath, sep = \",\")\n",
        "data"
      ],
      "execution_count": 0,
      "outputs": [
        {
          "output_type": "execute_result",
          "data": {
            "text/html": [
              "<div>\n",
              "<style scoped>\n",
              "    .dataframe tbody tr th:only-of-type {\n",
              "        vertical-align: middle;\n",
              "    }\n",
              "\n",
              "    .dataframe tbody tr th {\n",
              "        vertical-align: top;\n",
              "    }\n",
              "\n",
              "    .dataframe thead th {\n",
              "        text-align: right;\n",
              "    }\n",
              "</style>\n",
              "<table border=\"1\" class=\"dataframe\">\n",
              "  <thead>\n",
              "    <tr style=\"text-align: right;\">\n",
              "      <th></th>\n",
              "      <th>Refund</th>\n",
              "      <th>Marital_Status</th>\n",
              "      <th>Taxable_Income</th>\n",
              "      <th>Evade</th>\n",
              "    </tr>\n",
              "  </thead>\n",
              "  <tbody>\n",
              "    <tr>\n",
              "      <th>0</th>\n",
              "      <td>yes</td>\n",
              "      <td>single</td>\n",
              "      <td>115000</td>\n",
              "      <td>yes</td>\n",
              "    </tr>\n",
              "    <tr>\n",
              "      <th>1</th>\n",
              "      <td>yes</td>\n",
              "      <td>single</td>\n",
              "      <td>60000</td>\n",
              "      <td>no</td>\n",
              "    </tr>\n",
              "    <tr>\n",
              "      <th>2</th>\n",
              "      <td>yes</td>\n",
              "      <td>single</td>\n",
              "      <td>40000</td>\n",
              "      <td>yes</td>\n",
              "    </tr>\n",
              "    <tr>\n",
              "      <th>3</th>\n",
              "      <td>yes</td>\n",
              "      <td>married</td>\n",
              "      <td>130000</td>\n",
              "      <td>yes</td>\n",
              "    </tr>\n",
              "    <tr>\n",
              "      <th>4</th>\n",
              "      <td>yes</td>\n",
              "      <td>married</td>\n",
              "      <td>80000</td>\n",
              "      <td>no</td>\n",
              "    </tr>\n",
              "    <tr>\n",
              "      <th>5</th>\n",
              "      <td>yes</td>\n",
              "      <td>divorced</td>\n",
              "      <td>130000</td>\n",
              "      <td>yes</td>\n",
              "    </tr>\n",
              "    <tr>\n",
              "      <th>6</th>\n",
              "      <td>yes</td>\n",
              "      <td>divorced</td>\n",
              "      <td>80000</td>\n",
              "      <td>no</td>\n",
              "    </tr>\n",
              "    <tr>\n",
              "      <th>7</th>\n",
              "      <td>no</td>\n",
              "      <td>single</td>\n",
              "      <td>75000</td>\n",
              "      <td>no</td>\n",
              "    </tr>\n",
              "    <tr>\n",
              "      <th>8</th>\n",
              "      <td>no</td>\n",
              "      <td>single</td>\n",
              "      <td>65000</td>\n",
              "      <td>yes</td>\n",
              "    </tr>\n",
              "    <tr>\n",
              "      <th>9</th>\n",
              "      <td>no</td>\n",
              "      <td>married</td>\n",
              "      <td>125000</td>\n",
              "      <td>yes</td>\n",
              "    </tr>\n",
              "    <tr>\n",
              "      <th>10</th>\n",
              "      <td>no</td>\n",
              "      <td>married</td>\n",
              "      <td>80000</td>\n",
              "      <td>no</td>\n",
              "    </tr>\n",
              "    <tr>\n",
              "      <th>11</th>\n",
              "      <td>no</td>\n",
              "      <td>divorced</td>\n",
              "      <td>90000</td>\n",
              "      <td>yes</td>\n",
              "    </tr>\n",
              "    <tr>\n",
              "      <th>12</th>\n",
              "      <td>no</td>\n",
              "      <td>divorced</td>\n",
              "      <td>75000</td>\n",
              "      <td>no</td>\n",
              "    </tr>\n",
              "  </tbody>\n",
              "</table>\n",
              "</div>"
            ],
            "text/plain": [
              "   Refund Marital_Status  Taxable_Income Evade\n",
              "0     yes         single          115000   yes\n",
              "1     yes         single           60000    no\n",
              "2     yes         single           40000   yes\n",
              "3     yes        married          130000   yes\n",
              "4     yes        married           80000    no\n",
              "5     yes       divorced          130000   yes\n",
              "6     yes       divorced           80000    no\n",
              "7      no         single           75000    no\n",
              "8      no         single           65000   yes\n",
              "9      no        married          125000   yes\n",
              "10     no        married           80000    no\n",
              "11     no       divorced           90000   yes\n",
              "12     no       divorced           75000    no"
            ]
          },
          "metadata": {
            "tags": []
          },
          "execution_count": 25
        }
      ]
    },
    {
      "cell_type": "code",
      "metadata": {
        "id": "2yjD9O8FZdA_",
        "colab_type": "code",
        "colab": {}
      },
      "source": [
        "# data=data.replace('yes',1)\n",
        "# data=data.replace('no',0)\n",
        "# data.head()"
      ],
      "execution_count": 0,
      "outputs": []
    },
    {
      "cell_type": "markdown",
      "metadata": {
        "id": "NUhcUmR_v7tc",
        "colab_type": "text"
      },
      "source": [
        "**Normalizing data**"
      ]
    },
    {
      "cell_type": "code",
      "metadata": {
        "id": "4kshuMTjiYWI",
        "colab_type": "code",
        "outputId": "44fbe144-c12f-4e18-f54e-5cd6aaa2d685",
        "colab": {
          "base_uri": "https://localhost:8080/",
          "height": 191
        }
      },
      "source": [
        "data['Taxable_Income']=data['Taxable_Income']/1000\n",
        "data.head()"
      ],
      "execution_count": 0,
      "outputs": [
        {
          "output_type": "execute_result",
          "data": {
            "text/html": [
              "<div>\n",
              "<style scoped>\n",
              "    .dataframe tbody tr th:only-of-type {\n",
              "        vertical-align: middle;\n",
              "    }\n",
              "\n",
              "    .dataframe tbody tr th {\n",
              "        vertical-align: top;\n",
              "    }\n",
              "\n",
              "    .dataframe thead th {\n",
              "        text-align: right;\n",
              "    }\n",
              "</style>\n",
              "<table border=\"1\" class=\"dataframe\">\n",
              "  <thead>\n",
              "    <tr style=\"text-align: right;\">\n",
              "      <th></th>\n",
              "      <th>Refund</th>\n",
              "      <th>Marital_Status</th>\n",
              "      <th>Taxable_Income</th>\n",
              "      <th>Evade</th>\n",
              "    </tr>\n",
              "  </thead>\n",
              "  <tbody>\n",
              "    <tr>\n",
              "      <th>0</th>\n",
              "      <td>yes</td>\n",
              "      <td>single</td>\n",
              "      <td>115.0</td>\n",
              "      <td>yes</td>\n",
              "    </tr>\n",
              "    <tr>\n",
              "      <th>1</th>\n",
              "      <td>yes</td>\n",
              "      <td>single</td>\n",
              "      <td>60.0</td>\n",
              "      <td>no</td>\n",
              "    </tr>\n",
              "    <tr>\n",
              "      <th>2</th>\n",
              "      <td>yes</td>\n",
              "      <td>single</td>\n",
              "      <td>40.0</td>\n",
              "      <td>yes</td>\n",
              "    </tr>\n",
              "    <tr>\n",
              "      <th>3</th>\n",
              "      <td>yes</td>\n",
              "      <td>married</td>\n",
              "      <td>130.0</td>\n",
              "      <td>yes</td>\n",
              "    </tr>\n",
              "    <tr>\n",
              "      <th>4</th>\n",
              "      <td>yes</td>\n",
              "      <td>married</td>\n",
              "      <td>80.0</td>\n",
              "      <td>no</td>\n",
              "    </tr>\n",
              "  </tbody>\n",
              "</table>\n",
              "</div>"
            ],
            "text/plain": [
              "  Refund Marital_Status  Taxable_Income Evade\n",
              "0    yes         single           115.0   yes\n",
              "1    yes         single            60.0    no\n",
              "2    yes         single            40.0   yes\n",
              "3    yes        married           130.0   yes\n",
              "4    yes        married            80.0    no"
            ]
          },
          "metadata": {
            "tags": []
          },
          "execution_count": 27
        }
      ]
    },
    {
      "cell_type": "markdown",
      "metadata": {
        "id": "v1tL04brnS_P",
        "colab_type": "text"
      },
      "source": [
        "**Calculation of Mean**"
      ]
    },
    {
      "cell_type": "code",
      "metadata": {
        "id": "yVh3CX2sevQO",
        "colab_type": "code",
        "outputId": "d9aacef5-71fb-406b-efcb-a15ec18fd9bb",
        "colab": {
          "base_uri": "https://localhost:8080/",
          "height": 66
        }
      },
      "source": [
        "# mean\n",
        "sumNo=0\n",
        "sumYes=0\n",
        "countNo=0\n",
        "countYes=0\n",
        "for i in range(len(data)):#iterate over all the rows \n",
        "\n",
        "  #iloc operator returns the specified column value of the row\n",
        "  #for no\n",
        "  if( data.iloc[i, 3]=='no'):\n",
        "    sumNo+= data.iloc[i, 2]\n",
        "    countNo+=1\n",
        "  #for yes\n",
        "  else:\n",
        "    sumYes+= data.iloc[i, 2]\n",
        "    countYes+=1  \n",
        "\n",
        "# print('Sum: {0}--{1}'.format(sumNo,sumYes))\n",
        "sumNo=sumNo/countNo\n",
        "sumYes=sumYes/countYes\n",
        "\n",
        "meanNo=sumNo\n",
        "meanYes=sumYes\n",
        "print('Sample Mean:\\nNo: {0}\\nYes: {1}'.format(sumNo,sumYes))\n"
      ],
      "execution_count": 0,
      "outputs": [
        {
          "output_type": "stream",
          "text": [
            "Sample Mean:\n",
            "No: 75.0\n",
            "Yes: 99.28571428571429\n"
          ],
          "name": "stdout"
        }
      ]
    },
    {
      "cell_type": "markdown",
      "metadata": {
        "id": "i_lz-cuAvzBP",
        "colab_type": "text"
      },
      "source": [
        "**Calculating sample variance**"
      ]
    },
    {
      "cell_type": "code",
      "metadata": {
        "id": "bzVAdD4AnYjz",
        "colab_type": "code",
        "outputId": "00a86574-ec4d-4a5c-cee2-63249f87fb39",
        "colab": {
          "base_uri": "https://localhost:8080/",
          "height": 66
        }
      },
      "source": [
        "varNo=0.0\n",
        "varYes=0.0\n",
        "a=0\n",
        "#iterate over all the rows\n",
        "for i in range(len(data)):\n",
        "  if( data.iloc[i, 3]=='no'):\n",
        "    a=data.iloc[i, 2]-sumNo\n",
        "    varNo+=a**2\n",
        "  else:\n",
        "    a=data.iloc[i, 2]-sumYes\n",
        "    varYes+=a**2\n",
        "\n",
        "varNo=varNo/(countNo-1)\n",
        "varYes=varYes/(countYes-1)\n",
        "print('Sample Variance:\\nNo: {0}\\nYes: {1}'.format(varNo,varYes))\n",
        "\n",
        "\n"
      ],
      "execution_count": 0,
      "outputs": [
        {
          "output_type": "stream",
          "text": [
            "Sample Variance:\n",
            "No: 60.0\n",
            "Yes: 1261.9047619047617\n"
          ],
          "name": "stdout"
        }
      ]
    },
    {
      "cell_type": "markdown",
      "metadata": {
        "id": "mxldilayvtl3",
        "colab_type": "text"
      },
      "source": [
        "**Calculating normal distribution**"
      ]
    },
    {
      "cell_type": "code",
      "metadata": {
        "id": "eTXQ1n-qrRHZ",
        "colab_type": "code",
        "outputId": "c3e924d4-8733-46da-ee62-813e894e42f7",
        "colab": {
          "base_uri": "https://localhost:8080/",
          "height": 50
        }
      },
      "source": [
        "import math\n",
        "from math import pi\n",
        "# A=value, U=mean, S= variance\n",
        "def calcNormalDistribution(A,U,S):\n",
        "  a=1/math.sqrt(2*pi*S)\n",
        "  b=-1*(A-U)**2/(2*S)\n",
        "  b=math.exp(b)\n",
        "  return (a*b)\n",
        "  \n",
        "  \n",
        "print(calcNormalDistribution(120,meanNo,varNo))\n",
        "print(calcNormalDistribution(120,meanYes,varYes))"
      ],
      "execution_count": 0,
      "outputs": [
        {
          "output_type": "stream",
          "text": [
            "2.4161008521253155e-09\n",
            "0.009474599505848034\n"
          ],
          "name": "stdout"
        }
      ]
    },
    {
      "cell_type": "code",
      "metadata": {
        "id": "9xlG3gLNzjV7",
        "colab_type": "code",
        "outputId": "4ab0c5ff-43d8-4a3d-9d1d-9ae0270dfe4f",
        "colab": {
          "base_uri": "https://localhost:8080/",
          "height": 82
        }
      },
      "source": [
        "countNo=0\n",
        "countYes=0\n",
        "dict={'Refund':{'yes':0,'no':0},\n",
        "      'Marital_Status':{'single':0,'married':0,'divorced':0}\n",
        "      }\n",
        "   \n",
        "for i in range(len(data)):\n",
        "  if( data.iloc[i, 3]=='no'):\n",
        "    countNo+=1\n",
        "  else:\n",
        "    countYes+=1\n",
        "  dict['Refund'][data.iloc[i,0]]+=1\n",
        "  dict['Marital_Status'][data.iloc[i,1]]+=1\n",
        "print(dict)\n",
        "print('Counts of classes:\\nNo: {0}\\nYes: {1}'.format(countNo,countYes))\n"
      ],
      "execution_count": 0,
      "outputs": [
        {
          "output_type": "stream",
          "text": [
            "{'Refund': {'yes': 7, 'no': 6}, 'Marital_Status': {'single': 5, 'married': 4, 'divorced': 4}}\n",
            "Counts of classes:\n",
            "No: 6\n",
            "Yes: 7\n"
          ],
          "name": "stdout"
        }
      ]
    },
    {
      "cell_type": "code",
      "metadata": {
        "id": "eexlRqU6TAGn",
        "colab_type": "code",
        "outputId": "6af693f1-4b71-4d05-e050-5730378fb25e",
        "colab": {
          "base_uri": "https://localhost:8080/",
          "height": 82
        }
      },
      "source": [
        "countNo=0\n",
        "countYes=0\n",
        "dict={'Refund':{'yes':{'yes':0,'no':0},'no':{'yes':0,'no':0}},\n",
        "      'Marital_Status':{'yes':{'single':0,'married':0,'divorced':0},'no':{'single':0,'married':0,'divorced':0}}\n",
        "      }\n",
        "# dict   \n",
        "for i in range(len(data)):\n",
        "  if( data.iloc[i, 3]=='no'):\n",
        "    countNo+=1\n",
        "    dict['Refund']['no'][data.iloc[i,0]]+=1\n",
        "    dict['Marital_Status']['no'][data.iloc[i,1]]+=1\n",
        "  else:\n",
        "    countYes+=1\n",
        "    dict['Refund']['yes'][data.iloc[i,0]]+=1\n",
        "    dict['Marital_Status']['yes'][data.iloc[i,1]]+=1\n",
        "\n",
        "print('Counts of classes:\\nNo: {0}\\nYes: {1}'.format(countNo,countYes))\n",
        "print(dict)"
      ],
      "execution_count": 0,
      "outputs": [
        {
          "output_type": "stream",
          "text": [
            "Counts of classes:\n",
            "No: 6\n",
            "Yes: 7\n",
            "{'Refund': {'yes': {'yes': 4, 'no': 3}, 'no': {'yes': 3, 'no': 3}}, 'Marital_Status': {'yes': {'single': 3, 'married': 2, 'divorced': 2}, 'no': {'single': 2, 'married': 2, 'divorced': 2}}}\n"
          ],
          "name": "stdout"
        }
      ]
    },
    {
      "cell_type": "markdown",
      "metadata": {
        "id": "koOZFhqJdfBe",
        "colab_type": "text"
      },
      "source": [
        "**Calculation of probabilities**"
      ]
    },
    {
      "cell_type": "code",
      "metadata": {
        "id": "WRseNpBLuHRH",
        "colab_type": "code",
        "outputId": "94a7a974-fde3-442b-dac2-1ca27bae02bf",
        "colab": {
          "base_uri": "https://localhost:8080/",
          "height": 147
        }
      },
      "source": [
        "\n",
        "dict['Refund']['no']['yes'] = dict['Refund']['no']['yes']/countNo\n",
        "dict['Refund']['no']['no'] = dict['Refund']['no']['no']/countNo\n",
        "dict['Refund']['yes']['no'] = dict['Refund']['yes']['no']/countYes\n",
        "dict['Refund']['yes']['yes'] = dict['Refund']['yes']['yes']/countYes\n",
        "dict['Marital_Status']['yes']['single']=dict['Marital_Status']['yes']['single']/countYes\n",
        "dict['Marital_Status']['no']['single']=dict['Marital_Status']['no']['single']/countNo\n",
        "dict['Marital_Status']['no']['divorced']=dict['Marital_Status']['no']['divorced']/countNo\n",
        "dict['Marital_Status']['yes']['divorced']=dict['Marital_Status']['yes']['divorced']/countYes\n",
        "dict['Marital_Status']['yes']['married']=dict['Marital_Status']['yes']['married']/countYes\n",
        "dict['Marital_Status']['no']['married']=dict['Marital_Status']['no']['married']/countNo\n",
        "dict  "
      ],
      "execution_count": 0,
      "outputs": [
        {
          "output_type": "execute_result",
          "data": {
            "text/plain": [
              "{'Marital_Status': {'no': {'divorced': 0.3333333333333333,\n",
              "   'married': 0.3333333333333333,\n",
              "   'single': 0.3333333333333333},\n",
              "  'yes': {'divorced': 0.2857142857142857,\n",
              "   'married': 0.2857142857142857,\n",
              "   'single': 0.42857142857142855}},\n",
              " 'Refund': {'no': {'no': 0.5, 'yes': 0.5},\n",
              "  'yes': {'no': 0.42857142857142855, 'yes': 0.5714285714285714}}}"
            ]
          },
          "metadata": {
            "tags": []
          },
          "execution_count": 33
        }
      ]
    },
    {
      "cell_type": "code",
      "metadata": {
        "id": "NFHVVuiYanD-",
        "colab_type": "code",
        "outputId": "2268459e-c00e-489f-b12c-f7570461a736",
        "colab": {
          "base_uri": "https://localhost:8080/",
          "height": 163
        }
      },
      "source": [
        "# Refund = yes/no\n",
        "# Status = single/married/divorced\n",
        "# Income = 110\n",
        "def predict(Refund,Status,Income):\n",
        "  # print(dict['Refund']['no'][Refund])\n",
        "  # print(dict['Marital_Status']['yes'][Status])\n",
        "  # print(calcNormalDistribution(Income, meanNo, varNo))\n",
        "  a=dict['Refund']['no'][Refund]*dict['Marital_Status']['no'][Status]*calcNormalDistribution(Income, meanNo, varNo)\n",
        "  b=dict['Refund']['yes'][Refund]*dict['Marital_Status']['yes'][Status]*calcNormalDistribution(Income, meanYes, varYes)\n",
        "  # print(dict['Refund']['no'][Refund])\n",
        "  # print(dict['Marital_Status']['yes'][Status])\n",
        "  # print(calcNormalDistribution(Income, meanYes, varYes))\n",
        "  print('Probability belonging to class:\\nNo: {0}\\nYes: {1}'.format(a,b))\n",
        "\n",
        "  if(a<b):\n",
        "    print(\"\\n***********\\nEvade Yes\\n\\n\\n\")\n",
        "  else:\n",
        "    print(\"\\n***********\\nEvade No\\n\\n\\n\")\n",
        "\n",
        "predict('no','married',120)"
      ],
      "execution_count": 0,
      "outputs": [
        {
          "output_type": "stream",
          "text": [
            "Probability belonging to class:\n",
            "No: 4.0268347535421923e-10\n",
            "Yes: 0.0011601550415324122\n",
            "\n",
            "***********\n",
            "Evade Yes\n",
            "\n",
            "\n",
            "\n"
          ],
          "name": "stdout"
        }
      ]
    },
    {
      "cell_type": "markdown",
      "metadata": {
        "id": "LcVcJvgRh3PI",
        "colab_type": "text"
      },
      "source": [
        "**Given test examples**"
      ]
    },
    {
      "cell_type": "code",
      "metadata": {
        "id": "SaGOaih9hE--",
        "colab_type": "code",
        "outputId": "2f9b47c0-fb33-489a-b383-c13751bc0600",
        "colab": {
          "base_uri": "https://localhost:8080/",
          "height": 310
        }
      },
      "source": [
        "# X1 = {Refund = Yes, Status = Divorced,\n",
        "# Income = 90K, Evade = ?}\n",
        "\n",
        "predict('yes', 'divorced',90)\n",
        "\n",
        "# X2 = {Refund = No, Status = Married,\n",
        "# Income = 60K, Evade = ?}\n",
        "predict('no', 'married',60)\n",
        "\n"
      ],
      "execution_count": 0,
      "outputs": [
        {
          "output_type": "stream",
          "text": [
            "Probability belonging to class:\n",
            "No: 0.0013163792765403877\n",
            "Yes: 0.0017719573476815387\n",
            "\n",
            "***********\n",
            "Evade Yes\n",
            "\n",
            "\n",
            "\n",
            "Probability belonging to class:\n",
            "No: 0.0013163792765403877\n",
            "Yes: 0.0007460551295694149\n",
            "\n",
            "***********\n",
            "Evade No\n",
            "\n",
            "\n",
            "\n"
          ],
          "name": "stdout"
        }
      ]
    },
    {
      "cell_type": "markdown",
      "metadata": {
        "id": "VSTiZAOij8bL",
        "colab_type": "text"
      },
      "source": [
        "**Prediction on actual data**"
      ]
    },
    {
      "cell_type": "code",
      "metadata": {
        "id": "_kU_V2z2h6Fp",
        "colab_type": "code",
        "outputId": "f8ecf0a0-074d-4e3c-dbb4-bd860d1f77f9",
        "colab": {
          "base_uri": "https://localhost:8080/",
          "height": 1000
        }
      },
      "source": [
        "# predict('no', 'single',85)\n",
        "for i in range(len(data)):\n",
        "  predict(data.iloc[i,0],data.iloc[i,1],data.iloc[i,2])"
      ],
      "execution_count": 0,
      "outputs": [
        {
          "output_type": "stream",
          "text": [
            "Probability belonging to class:\n",
            "No: 1.390241018999713e-08\n",
            "Yes: 0.0024939570968435906\n",
            "\n",
            "***********\n",
            "Evade Yes\n",
            "\n",
            "\n",
            "\n",
            "Probability belonging to class:\n",
            "No: 0.0013163792765403877\n",
            "Yes: 0.0014921102591388298\n",
            "\n",
            "***********\n",
            "Evade Yes\n",
            "\n",
            "\n",
            "\n",
            "Probability belonging to class:\n",
            "No: 3.1641739747151164e-07\n",
            "Yes: 0.0006832184195349983\n",
            "\n",
            "***********\n",
            "Evade Yes\n",
            "\n",
            "\n",
            "\n",
            "Probability belonging to class:\n",
            "No: 9.679281613368414e-14\n",
            "Yes: 0.0012617026776772858\n",
            "\n",
            "***********\n",
            "Evade Yes\n",
            "\n",
            "\n",
            "\n",
            "Probability belonging to class:\n",
            "No: 0.0069695569822880174\n",
            "Yes: 0.0015822964395496369\n",
            "\n",
            "***********\n",
            "Evade No\n",
            "\n",
            "\n",
            "\n",
            "Probability belonging to class:\n",
            "No: 9.679281613368414e-14\n",
            "Yes: 0.0012617026776772858\n",
            "\n",
            "***********\n",
            "Evade Yes\n",
            "\n",
            "\n",
            "\n",
            "Probability belonging to class:\n",
            "No: 0.0069695569822880174\n",
            "Yes: 0.0015822964395496369\n",
            "\n",
            "***********\n",
            "Evade No\n",
            "\n",
            "\n",
            "\n",
            "Probability belonging to class:\n",
            "No: 0.00858387115607088\n",
            "Yes: 0.0016328705107119968\n",
            "\n",
            "***********\n",
            "Evade No\n",
            "\n",
            "\n",
            "\n",
            "Probability belonging to class:\n",
            "No: 0.003730535026483987\n",
            "Yes: 0.0012946806258982034\n",
            "\n",
            "***********\n",
            "Evade No\n",
            "\n",
            "\n",
            "\n",
            "Probability belonging to class:\n",
            "No: 7.6892057834714e-12\n",
            "Yes: 0.0010582033535650637\n",
            "\n",
            "***********\n",
            "Evade Yes\n",
            "\n",
            "\n",
            "\n",
            "Probability belonging to class:\n",
            "No: 0.0069695569822880174\n",
            "Yes: 0.0011867223296622277\n",
            "\n",
            "***********\n",
            "Evade No\n",
            "\n",
            "\n",
            "\n",
            "Probability belonging to class:\n",
            "No: 0.0013163792765403877\n",
            "Yes: 0.001328968010761154\n",
            "\n",
            "***********\n",
            "Evade Yes\n",
            "\n",
            "\n",
            "\n",
            "Probability belonging to class:\n",
            "No: 0.00858387115607088\n",
            "Yes: 0.0010885803404746645\n",
            "\n",
            "***********\n",
            "Evade No\n",
            "\n",
            "\n",
            "\n"
          ],
          "name": "stdout"
        }
      ]
    },
    {
      "cell_type": "code",
      "metadata": {
        "id": "wbYbNc9dzqHc",
        "colab_type": "code",
        "outputId": "c18dcbcc-ecae-4f1f-d0b7-0cac226c0125",
        "colab": {
          "base_uri": "https://localhost:8080/",
          "height": 602
        }
      },
      "source": [
        "#Assignment_2_Test_Samples\n",
        "predict('yes', 'single',110)\n",
        "predict('yes', 'single',5)\n",
        "predict('yes', 'married',95)\n",
        "predict('no', 'divorced',63)"
      ],
      "execution_count": 0,
      "outputs": [
        {
          "output_type": "stream",
          "text": [
            "Probability belonging to class:\n",
            "No: 3.1641739747151164e-07\n",
            "Yes: 0.002628015858726654\n",
            "\n",
            "***********\n",
            "Evade Yes\n",
            "\n",
            "\n",
            "\n",
            "Probability belonging to class:\n",
            "No: 1.5848634354277526e-20\n",
            "Yes: 8.1214810158956e-05\n",
            "\n",
            "***********\n",
            "Evade Yes\n",
            "\n",
            "\n",
            "\n",
            "Probability belonging to class:\n",
            "No: 0.0003062209625153443\n",
            "Yes: 0.0018202458496457896\n",
            "\n",
            "***********\n",
            "Evade Yes\n",
            "\n",
            "\n",
            "\n",
            "Probability belonging to class:\n",
            "No: 0.002585412308008652\n",
            "Yes: 0.000816175729354402\n",
            "\n",
            "***********\n",
            "Evade No\n",
            "\n",
            "\n",
            "\n"
          ],
          "name": "stdout"
        }
      ]
    },
    {
      "cell_type": "code",
      "metadata": {
        "id": "VQE5vEPc1cmX",
        "colab_type": "code",
        "outputId": "cb62becc-bb6f-4646-eba2-fdef4b63e1b1",
        "colab": {
          "base_uri": "https://localhost:8080/",
          "height": 50
        }
      },
      "source": [
        "print(calcNormalDistribution(110,meanNo,varNo))\n",
        "print(calcNormalDistribution(110,meanYes,varYes))"
      ],
      "execution_count": 0,
      "outputs": [
        {
          "output_type": "stream",
          "text": [
            "1.89850438482907e-06\n",
            "0.010731064756467172\n"
          ],
          "name": "stdout"
        }
      ]
    },
    {
      "cell_type": "code",
      "metadata": {
        "id": "1nIICaW21jgM",
        "colab_type": "code",
        "outputId": "5ec8baed-6694-477b-d611-203b45f4ea13",
        "colab": {
          "base_uri": "https://localhost:8080/",
          "height": 147
        }
      },
      "source": [
        "print(calcNormalDistribution(5,meanNo,varNo))\n",
        "print(calcNormalDistribution(5,meanYes,varYes))\n",
        "print('****************************************')\n",
        "print(calcNormalDistribution(95,meanNo,varNo))\n",
        "print(calcNormalDistribution(95,meanYes,varYes))\n",
        "print('****************************************')\n",
        "print(calcNormalDistribution(63,meanNo,varNo))\n",
        "print(calcNormalDistribution(63,meanYes,varYes))"
      ],
      "execution_count": 0,
      "outputs": [
        {
          "output_type": "stream",
          "text": [
            "9.509180612566517e-20\n",
            "0.00033162714148240373\n",
            "****************************************\n",
            "0.001837325775092066\n",
            "0.011149005829080462\n",
            "****************************************\n",
            "0.015512473848051914\n",
            "0.00666543512306095\n"
          ],
          "name": "stdout"
        }
      ]
    }
  ]
}