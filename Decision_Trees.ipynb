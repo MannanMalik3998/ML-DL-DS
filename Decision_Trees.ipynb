{
  "nbformat": 4,
  "nbformat_minor": 0,
  "metadata": {
    "kernelspec": {
      "display_name": "Python 3",
      "language": "python",
      "name": "python3"
    },
    "language_info": {
      "codemirror_mode": {
        "name": "ipython",
        "version": 3
      },
      "file_extension": ".py",
      "mimetype": "text/x-python",
      "name": "python",
      "nbconvert_exporter": "python",
      "pygments_lexer": "ipython3",
      "version": "3.7.6"
    },
    "colab": {
      "name": "16K-3620.ipynb",
      "provenance": []
    }
  },
  "cells": [
    {
      "cell_type": "code",
      "metadata": {
        "id": "-jyjssGEyz5V",
        "colab_type": "code",
        "colab": {}
      },
      "source": [
        "import pandas as pd\n",
        "from statistics import mean \n",
        "from sklearn.model_selection import cross_val_score\n",
        "from sklearn import datasets\n",
        "from sklearn.tree import DecisionTreeClassifier \n",
        "from sklearn.model_selection import train_test_split \n",
        "from sklearn import metrics \n",
        "import sklearn\n",
        "import numpy as np"
      ],
      "execution_count": 0,
      "outputs": []
    },
    {
      "cell_type": "markdown",
      "metadata": {
        "id": "uwquC15ayz5t",
        "colab_type": "text"
      },
      "source": [
        "###  Dataset 1"
      ]
    },
    {
      "cell_type": "code",
      "metadata": {
        "id": "OQVjfAs7yz5v",
        "colab_type": "code",
        "colab": {},
        "outputId": "4418dbc8-6cc1-4b89-e794-2e05abfb90fc"
      },
      "source": [
        "clf = DecisionTreeClassifier(criterion=\"gini\",ccp_alpha=0.015)\n",
        "iris = sklearn.datasets.load_iris()\n",
        "\n",
        "X = iris.data\n",
        "y = iris.target\n",
        "\n",
        "acc=[]\n",
        "print('Dataset Iris | Criterion Gini | With pruning | Holdout approach | Mean Accuracies:')\n",
        "for i in range(1,101):\n",
        "    X_train, X_test, y_train, y_test = train_test_split(X, y, test_size=0.3) # 70% training and 30% test\n",
        "    clf=clf.fit(X_train,y_train)\n",
        "    y_pred = clf.predict(X_test)\n",
        "    acc.append(metrics.accuracy_score(y_test, y_pred))\n",
        "#     print(\"{0}){1}\".format(i,metrics.accuracy_score(y_test, y_pred)))\n",
        "mean(acc)\n",
        "# np.mean(acc)"
      ],
      "execution_count": 0,
      "outputs": [
        {
          "output_type": "stream",
          "text": [
            "Dataset Iris | Criterion Gini | With pruning | Holdout approach | Mean Accuracies:\n"
          ],
          "name": "stdout"
        },
        {
          "output_type": "execute_result",
          "data": {
            "text/plain": [
              "0.9442222222222222"
            ]
          },
          "metadata": {
            "tags": []
          },
          "execution_count": 2
        }
      ]
    },
    {
      "cell_type": "code",
      "metadata": {
        "scrolled": true,
        "id": "lWybIjFQyz6R",
        "colab_type": "code",
        "colab": {},
        "outputId": "5c013a19-008d-446e-b6c5-319b7f68519f"
      },
      "source": [
        "clf = DecisionTreeClassifier(criterion=\"gini\")\n",
        "iris = sklearn.datasets.load_iris()\n",
        "\n",
        "X = iris.data\n",
        "y = iris.target\n",
        "\n",
        "print('Dataset Iris | Criterion Gini | Without pruning | Holdout approach | Mean Accuracies:')\n",
        "for i in range(1,101):\n",
        "    X_train, X_test, y_train, y_test = train_test_split(X, y, test_size=0.3) # 70% training and 30% test\n",
        "    clf=clf.fit(X_train,y_train)\n",
        "    y_pred = clf.predict(X_test)\n",
        "    acc.append(metrics.accuracy_score(y_test, y_pred))\n",
        "#     print(\"{0}){1}\".format(i,metrics.accuracy_score(y_test, y_pred)))\n",
        "mean(acc)"
      ],
      "execution_count": 0,
      "outputs": [
        {
          "output_type": "stream",
          "text": [
            "Dataset Iris | Criterion Gini | Without pruning | Holdout approach | Mean Accuracies:\n"
          ],
          "name": "stdout"
        },
        {
          "output_type": "execute_result",
          "data": {
            "text/plain": [
              "0.9448888888888889"
            ]
          },
          "metadata": {
            "tags": []
          },
          "execution_count": 3
        }
      ]
    },
    {
      "cell_type": "code",
      "metadata": {
        "id": "d26jLejfyz6y",
        "colab_type": "code",
        "colab": {},
        "outputId": "d04c4250-266f-424f-ac98-bb45bfc44850"
      },
      "source": [
        "clf = DecisionTreeClassifier(criterion=\"entropy\",ccp_alpha=0.015)\n",
        "iris = sklearn.datasets.load_iris()\n",
        "\n",
        "X = iris.data\n",
        "y = iris.target\n",
        "\n",
        "acc=[]\n",
        "print('Dataset Iris | Criterion Entropy | With pruning | Holdout approach | Mean Accuracies:')\n",
        "for i in range(1,101):\n",
        "    X_train, X_test, y_train, y_test = train_test_split(X, y, test_size=0.3) # 70% training and 30% test\n",
        "    clf=clf.fit(X_train,y_train)\n",
        "    y_pred = clf.predict(X_test)\n",
        "    acc.append(metrics.accuracy_score(y_test, y_pred))\n",
        "#     print(\"{0}){1}\".format(i,metrics.accuracy_score(y_test, y_pred)))\n",
        "mean(acc)"
      ],
      "execution_count": 0,
      "outputs": [
        {
          "output_type": "stream",
          "text": [
            "Dataset Iris | Criterion Entropy | With pruning | Holdout approach | Mean Accuracies:\n"
          ],
          "name": "stdout"
        },
        {
          "output_type": "execute_result",
          "data": {
            "text/plain": [
              "0.9442222222222222"
            ]
          },
          "metadata": {
            "tags": []
          },
          "execution_count": 4
        }
      ]
    },
    {
      "cell_type": "code",
      "metadata": {
        "id": "SdOVnW9Hyz7D",
        "colab_type": "code",
        "colab": {},
        "outputId": "e141a386-afae-4fb3-b546-0e5778d1e0d3"
      },
      "source": [
        "clf = DecisionTreeClassifier(criterion=\"entropy\")\n",
        "iris = sklearn.datasets.load_iris()\n",
        "\n",
        "X = iris.data\n",
        "y = iris.target\n",
        "acc=[]\n",
        "print('Dataset Iris | Criterion Entropy | Without pruning | Holdout approach | Mean Accuracies:')\n",
        "for i in range(1,101):\n",
        "    X_train, X_test, y_train, y_test = train_test_split(X, y, test_size=0.3) # 70% training and 30% test\n",
        "    clf=clf.fit(X_train,y_train)\n",
        "    y_pred = clf.predict(X_test)\n",
        "    acc.append(metrics.accuracy_score(y_test, y_pred))\n",
        "#     print(\"{0}){1}\".format(i,metrics.accuracy_score(y_test, y_pred)))\n",
        "mean(acc)"
      ],
      "execution_count": 0,
      "outputs": [
        {
          "output_type": "stream",
          "text": [
            "Dataset Iris | Criterion Entropy | Without pruning | Holdout approach | Mean Accuracies:\n"
          ],
          "name": "stdout"
        },
        {
          "output_type": "execute_result",
          "data": {
            "text/plain": [
              "0.9408888888888889"
            ]
          },
          "metadata": {
            "tags": []
          },
          "execution_count": 5
        }
      ]
    },
    {
      "cell_type": "code",
      "metadata": {
        "id": "BG29iRnHyz7W",
        "colab_type": "code",
        "colab": {},
        "outputId": "12b0e0b6-88db-4493-b463-89a6af0a7cbb"
      },
      "source": [
        "clf = DecisionTreeClassifier(criterion=\"entropy\")\n",
        "acc=[]\n",
        "print('Dataset Iris | Criterion Entropy | Without pruning | 10*10 CV | Mean Accuracies:')\n",
        "for i in range(1,11):\n",
        "    accuracies = cross_val_score(clf, X, y, cv=10)\n",
        "    acc.append(accuracies)\n",
        "#     print(\"{0}){1}\".format(i,accuracies))\n",
        "\n",
        "np.mean(acc)"
      ],
      "execution_count": 0,
      "outputs": [
        {
          "output_type": "stream",
          "text": [
            "Dataset Iris | Criterion Entropy | Without pruning | 10*10 CV | Mean Accuracies:\n"
          ],
          "name": "stdout"
        },
        {
          "output_type": "execute_result",
          "data": {
            "text/plain": [
              "0.9540000000000002"
            ]
          },
          "metadata": {
            "tags": []
          },
          "execution_count": 6
        }
      ]
    },
    {
      "cell_type": "code",
      "metadata": {
        "id": "awcWsX0hyz7l",
        "colab_type": "code",
        "colab": {},
        "outputId": "071066e3-db77-471e-9ada-4b8c78f69dd4"
      },
      "source": [
        "clf = DecisionTreeClassifier(criterion=\"entropy\",ccp_alpha=0.015)\n",
        "acc=[]\n",
        "print('Dataset Iris | Criterion Entropy | With pruning | 10*10 CV | Mean Accuracies:')\n",
        "for i in range(1,11):\n",
        "    accuracies = cross_val_score(clf, X, y, cv=10)\n",
        "    acc.append(accuracies)\n",
        "#     print(\"{0}){1}\".format(i,accuracies))\n",
        "\n",
        "np.mean(acc)"
      ],
      "execution_count": 0,
      "outputs": [
        {
          "output_type": "stream",
          "text": [
            "Dataset Iris | Criterion Entropy | With pruning | 10*10 CV | Mean Accuracies:\n"
          ],
          "name": "stdout"
        },
        {
          "output_type": "execute_result",
          "data": {
            "text/plain": [
              "0.9533333333333335"
            ]
          },
          "metadata": {
            "tags": []
          },
          "execution_count": 7
        }
      ]
    },
    {
      "cell_type": "code",
      "metadata": {
        "id": "OScshW79yz8C",
        "colab_type": "code",
        "colab": {},
        "outputId": "aaf43510-748c-4f93-877a-70dd213458aa"
      },
      "source": [
        "clf = DecisionTreeClassifier(criterion=\"gini\",ccp_alpha=0.015)\n",
        "acc=[]\n",
        "print('Dataset Iris | Criterion Gini | With pruning | 10*10 CV | Mean Accuracies:')\n",
        "for i in range(1,11):\n",
        "    accuracies = cross_val_score(clf, X, y, cv=10)\n",
        "    acc.append(accuracies)\n",
        "#     print(\"{0}){1}\".format(i,accuracies))\n",
        "\n",
        "np.mean(acc)"
      ],
      "execution_count": 0,
      "outputs": [
        {
          "output_type": "stream",
          "text": [
            "Dataset Iris | Criterion Gini | With pruning | 10*10 CV | Mean Accuracies:\n"
          ],
          "name": "stdout"
        },
        {
          "output_type": "execute_result",
          "data": {
            "text/plain": [
              "0.9666666666666667"
            ]
          },
          "metadata": {
            "tags": []
          },
          "execution_count": 8
        }
      ]
    },
    {
      "cell_type": "code",
      "metadata": {
        "id": "Iq4NcIkRyz8T",
        "colab_type": "code",
        "colab": {},
        "outputId": "369ed1a8-9046-4412-8cff-efe2ecd8996e"
      },
      "source": [
        "clf = DecisionTreeClassifier(criterion=\"gini\")\n",
        "acc=[]\n",
        "print('Dataset Iris | Criterion Gini | Without pruning | 10*10 CV | Mean Accuracies:')\n",
        "for i in range(1,11):\n",
        "    accuracies = cross_val_score(clf, X, y, cv=10)\n",
        "    acc.append(accuracies)\n",
        "#     print(\"{0}){1}\".format(i,accuracies))\n",
        "\n",
        "np.mean(acc)"
      ],
      "execution_count": 0,
      "outputs": [
        {
          "output_type": "stream",
          "text": [
            "Dataset Iris | Criterion Gini | Without pruning | 10*10 CV | Mean Accuracies:\n"
          ],
          "name": "stdout"
        },
        {
          "output_type": "execute_result",
          "data": {
            "text/plain": [
              "0.9566666666666669"
            ]
          },
          "metadata": {
            "tags": []
          },
          "execution_count": 9
        }
      ]
    },
    {
      "cell_type": "markdown",
      "metadata": {
        "id": "ylgtueXVyz8g",
        "colab_type": "text"
      },
      "source": [
        "### Dataset 2"
      ]
    },
    {
      "cell_type": "code",
      "metadata": {
        "id": "bV7U3F3uyz8j",
        "colab_type": "code",
        "colab": {},
        "outputId": "87014239-ec2e-44e8-dbf3-d7d8b646c9d2"
      },
      "source": [
        "data3 =  sklearn.datasets.load_diabetes()\n",
        "X=data3.data\n",
        "y=data3.target\n",
        "print(data3.feature_names)\n",
        "\n",
        "\n",
        "clf = DecisionTreeClassifier(criterion=\"gini\",ccp_alpha=0.015)\n",
        "acc=[]\n",
        "print('Dataset diabetes | Criterion Gini | With pruning | Holdout approach | Mean Accuracies:')\n",
        "for i in range(1,101):\n",
        "    X_train, X_test, y_train, y_test = train_test_split(X, y, test_size=0.3) # 70% training and 30% test\n",
        "    clf=clf.fit(X_train,y_train)\n",
        "    y_pred = clf.predict(X_test)\n",
        "    acc.append(metrics.accuracy_score(y_test, y_pred))\n",
        "#     print(\"{0}){1}\".format(i,metrics.accuracy_score(y_test, y_pred)))\n",
        "mean(acc)\n",
        "# np.mean(acc)"
      ],
      "execution_count": 0,
      "outputs": [
        {
          "output_type": "stream",
          "text": [
            "['age', 'sex', 'bmi', 'bp', 's1', 's2', 's3', 's4', 's5', 's6']\n",
            "Dataset diabetes | Criterion Gini | With pruning | Holdout approach | Mean Accuracies:\n"
          ],
          "name": "stdout"
        },
        {
          "output_type": "execute_result",
          "data": {
            "text/plain": [
              "0.002932330827067669"
            ]
          },
          "metadata": {
            "tags": []
          },
          "execution_count": 10
        }
      ]
    },
    {
      "cell_type": "code",
      "metadata": {
        "id": "6kKBBAM9yz81",
        "colab_type": "code",
        "colab": {},
        "outputId": "a133d3ed-4e97-4606-8763-7133f45ceabd"
      },
      "source": [
        "data3 =  sklearn.datasets.load_diabetes()\n",
        "X=data3.data\n",
        "y=data3.target\n",
        "\n",
        "clf = DecisionTreeClassifier(criterion=\"gini\")\n",
        "print('Dataset diabetes | Criterion Gini | Without pruning | Holdout approach | Mean Accuracies:')\n",
        "for i in range(1,101):\n",
        "    X_train, X_test, y_train, y_test = train_test_split(X, y, test_size=0.3) # 70% training and 30% test\n",
        "    clf=clf.fit(X_train,y_train)\n",
        "    y_pred = clf.predict(X_test)\n",
        "    acc.append(metrics.accuracy_score(y_test, y_pred))\n",
        "#     print(\"{0}){1}\".format(i,metrics.accuracy_score(y_test, y_pred)))\n",
        "mean(acc)"
      ],
      "execution_count": 0,
      "outputs": [
        {
          "output_type": "stream",
          "text": [
            "Dataset diabetes | Criterion Gini | Without pruning | Holdout approach | Mean Accuracies:\n"
          ],
          "name": "stdout"
        },
        {
          "output_type": "execute_result",
          "data": {
            "text/plain": [
              "0.0044736842105263155"
            ]
          },
          "metadata": {
            "tags": []
          },
          "execution_count": 11
        }
      ]
    },
    {
      "cell_type": "code",
      "metadata": {
        "id": "w_K8Itblyz9Q",
        "colab_type": "code",
        "colab": {},
        "outputId": "02952f10-c0b7-43d9-9d15-2244c69d2d28"
      },
      "source": [
        "data3 =  sklearn.datasets.load_diabetes()\n",
        "X=data3.data\n",
        "y=data3.target\n",
        "\n",
        "clf = DecisionTreeClassifier(criterion=\"entropy\",ccp_alpha=0.015)\n",
        "acc=[]\n",
        "print('Dataset diabetes | Criterion Entropy | With pruning | Holdout approach | Mean Accuracies:')\n",
        "for i in range(1,101):\n",
        "    X_train, X_test, y_train, y_test = train_test_split(X, y, test_size=0.3) # 70% training and 30% test\n",
        "    clf=clf.fit(X_train,y_train)\n",
        "    y_pred = clf.predict(X_test)\n",
        "    acc.append(metrics.accuracy_score(y_test, y_pred))\n",
        "#     print(\"{0}){1}\".format(i,metrics.accuracy_score(y_test, y_pred)))\n",
        "mean(acc)"
      ],
      "execution_count": 0,
      "outputs": [
        {
          "output_type": "stream",
          "text": [
            "Dataset diabetes | Criterion Entropy | With pruning | Holdout approach | Mean Accuracies:\n"
          ],
          "name": "stdout"
        },
        {
          "output_type": "execute_result",
          "data": {
            "text/plain": [
              "0.006165413533834586"
            ]
          },
          "metadata": {
            "tags": []
          },
          "execution_count": 12
        }
      ]
    },
    {
      "cell_type": "code",
      "metadata": {
        "id": "KBrxCl2Syz9f",
        "colab_type": "code",
        "colab": {},
        "outputId": "4221cf91-b5dd-4748-863b-53bc8d87fc49"
      },
      "source": [
        "data3 =  sklearn.datasets.load_diabetes()\n",
        "X=data3.data\n",
        "y=data3.target\n",
        "clf = DecisionTreeClassifier(criterion=\"entropy\")\n",
        "acc=[]\n",
        "print('Dataset diabetes | Criterion Entropy | Without pruning | Holdout approach | Mean Accuracies:')\n",
        "for i in range(1,101):\n",
        "    X_train, X_test, y_train, y_test = train_test_split(X, y, test_size=0.3) # 70% training and 30% test\n",
        "    clf=clf.fit(X_train,y_train)\n",
        "    y_pred = clf.predict(X_test)\n",
        "    acc.append(metrics.accuracy_score(y_test, y_pred))\n",
        "#     print(\"{0}){1}\".format(i,metrics.accuracy_score(y_test, y_pred)))\n",
        "mean(acc)"
      ],
      "execution_count": 0,
      "outputs": [
        {
          "output_type": "stream",
          "text": [
            "Dataset diabetes | Criterion Entropy | Without pruning | Holdout approach | Mean Accuracies:\n"
          ],
          "name": "stdout"
        },
        {
          "output_type": "execute_result",
          "data": {
            "text/plain": [
              "0.007894736842105263"
            ]
          },
          "metadata": {
            "tags": []
          },
          "execution_count": 13
        }
      ]
    },
    {
      "cell_type": "code",
      "metadata": {
        "id": "B6GrPJb4yz9y",
        "colab_type": "code",
        "colab": {},
        "outputId": "505d4a47-1759-4093-ac0a-3d9abb5893a4"
      },
      "source": [
        "data3 =  sklearn.datasets.load_diabetes()\n",
        "X=data3.data\n",
        "y=data3.target\n",
        "clf = DecisionTreeClassifier(criterion=\"entropy\")\n",
        "acc=[]\n",
        "print('Dataset daibetes | Criterion Entropy | Without pruning | 10*10 CV | Mean Accuracies:')\n",
        "# for i in range(1,11):\n",
        "#     accuracies = cross_val_score(clf, X, y, cv=10)\n",
        "#     acc.append(accuracies)\n",
        "# #     print(\"{0}){1}\".format(i,accuracies))\n",
        "\n",
        "# np.mean(acc)\n",
        "print('ValueError: n_splits=10 cannot be greater than the number of members in each class.')"
      ],
      "execution_count": 0,
      "outputs": [
        {
          "output_type": "stream",
          "text": [
            "Dataset daibetes | Criterion Entropy | Without pruning | 10*10 CV | Mean Accuracies:\n",
            "ValueError: n_splits=10 cannot be greater than the number of members in each class.\n"
          ],
          "name": "stdout"
        }
      ]
    },
    {
      "cell_type": "markdown",
      "metadata": {
        "id": "GmYBauFQyz-C",
        "colab_type": "text"
      },
      "source": [
        "### Dataset 3"
      ]
    },
    {
      "cell_type": "code",
      "metadata": {
        "id": "SKYRI0KDyz-G",
        "colab_type": "code",
        "colab": {},
        "outputId": "2738fd96-14d2-431c-9d19-c765872cb45c"
      },
      "source": [
        "data4 =  sklearn.datasets.load_digits()\n",
        "X=data4.data\n",
        "y=data4.target\n",
        "print(data4.target_names)\n",
        "\n",
        "\n",
        "clf = DecisionTreeClassifier(criterion=\"gini\",ccp_alpha=0.015)\n",
        "acc=[]\n",
        "print('Dataset digits | Criterion Gini | With pruning | Holdout approach | Mean Accuracies:')\n",
        "for i in range(1,101):\n",
        "    X_train, X_test, y_train, y_test = train_test_split(X, y, test_size=0.3) # 70% training and 30% test\n",
        "    clf=clf.fit(X_train,y_train)\n",
        "    y_pred = clf.predict(X_test)\n",
        "    acc.append(metrics.accuracy_score(y_test, y_pred))\n",
        "#     print(\"{0}){1}\".format(i,metrics.accuracy_score(y_test, y_pred)))\n",
        "mean(acc)\n",
        "# np.mean(acc)"
      ],
      "execution_count": 0,
      "outputs": [
        {
          "output_type": "stream",
          "text": [
            "[0 1 2 3 4 5 6 7 8 9]\n",
            "Dataset digits | Criterion Gini | With pruning | Holdout approach | Mean Accuracies:\n"
          ],
          "name": "stdout"
        },
        {
          "output_type": "execute_result",
          "data": {
            "text/plain": [
              "0.7497777777777778"
            ]
          },
          "metadata": {
            "tags": []
          },
          "execution_count": 15
        }
      ]
    },
    {
      "cell_type": "code",
      "metadata": {
        "id": "xqs5q7lDyz-U",
        "colab_type": "code",
        "colab": {},
        "outputId": "175f8f35-1ba3-4d1c-ef90-2db5385d84d0"
      },
      "source": [
        "data4 =  sklearn.datasets.load_digits()\n",
        "X=data4.data\n",
        "y=data4.target\n",
        "clf = DecisionTreeClassifier(criterion=\"gini\")\n",
        "print('Dataset digits | Criterion Gini | Without pruning | Holdout approach | Mean Accuracies:')\n",
        "for i in range(1,101):\n",
        "    X_train, X_test, y_train, y_test = train_test_split(X, y, test_size=0.3) # 70% training and 30% test\n",
        "    clf=clf.fit(X_train,y_train)\n",
        "    y_pred = clf.predict(X_test)\n",
        "    acc.append(metrics.accuracy_score(y_test, y_pred))\n",
        "#     print(\"{0}){1}\".format(i,metrics.accuracy_score(y_test, y_pred)))\n",
        "mean(acc)"
      ],
      "execution_count": 0,
      "outputs": [
        {
          "output_type": "stream",
          "text": [
            "Dataset digits | Criterion Gini | Without pruning | Holdout approach | Mean Accuracies:\n"
          ],
          "name": "stdout"
        },
        {
          "output_type": "execute_result",
          "data": {
            "text/plain": [
              "0.7964722222222222"
            ]
          },
          "metadata": {
            "tags": []
          },
          "execution_count": 16
        }
      ]
    },
    {
      "cell_type": "code",
      "metadata": {
        "id": "LvChw6RLyz-l",
        "colab_type": "code",
        "colab": {},
        "outputId": "3d9f679a-7072-4d46-aed0-0b96aa20da8d"
      },
      "source": [
        "data4 =  sklearn.datasets.load_digits()\n",
        "X=data4.data\n",
        "y=data4.target\n",
        "clf = DecisionTreeClassifier(criterion=\"entropy\",ccp_alpha=0.015)\n",
        "acc=[]\n",
        "print('Dataset digits | Criterion Entropy | With pruning | Holdout approach | Mean Accuracies:')\n",
        "for i in range(1,101):\n",
        "    X_train, X_test, y_train, y_test = train_test_split(X, y, test_size=0.3) # 70% training and 30% test\n",
        "    clf=clf.fit(X_train,y_train)\n",
        "    y_pred = clf.predict(X_test)\n",
        "    acc.append(metrics.accuracy_score(y_test, y_pred))\n",
        "#     print(\"{0}){1}\".format(i,metrics.accuracy_score(y_test, y_pred)))\n",
        "mean(acc)"
      ],
      "execution_count": 0,
      "outputs": [
        {
          "output_type": "stream",
          "text": [
            "Dataset digits | Criterion Entropy | With pruning | Holdout approach | Mean Accuracies:\n"
          ],
          "name": "stdout"
        },
        {
          "output_type": "execute_result",
          "data": {
            "text/plain": [
              "0.8227962962962962"
            ]
          },
          "metadata": {
            "tags": []
          },
          "execution_count": 17
        }
      ]
    },
    {
      "cell_type": "code",
      "metadata": {
        "id": "i46PEYiiyz-0",
        "colab_type": "code",
        "colab": {},
        "outputId": "d4b97b25-2167-4f3f-c933-d773b1e681a1"
      },
      "source": [
        "data4 =  sklearn.datasets.load_digits()\n",
        "X=data4.data\n",
        "y=data4.target\n",
        "clf = DecisionTreeClassifier(criterion=\"entropy\")\n",
        "acc=[]\n",
        "print('Dataset digits | Criterion Entropy | Without pruning | Holdout approach | Mean Accuracies:')\n",
        "for i in range(1,101):\n",
        "    X_train, X_test, y_train, y_test = train_test_split(X, y, test_size=0.3) # 70% training and 30% test\n",
        "    clf=clf.fit(X_train,y_train)\n",
        "    y_pred = clf.predict(X_test)\n",
        "    acc.append(metrics.accuracy_score(y_test, y_pred))\n",
        "#     print(\"{0}){1}\".format(i,metrics.accuracy_score(y_test, y_pred)))\n",
        "mean(acc)"
      ],
      "execution_count": 0,
      "outputs": [
        {
          "output_type": "stream",
          "text": [
            "Dataset digits | Criterion Entropy | Without pruning | Holdout approach | Mean Accuracies:\n"
          ],
          "name": "stdout"
        },
        {
          "output_type": "execute_result",
          "data": {
            "text/plain": [
              "0.8563888888888889"
            ]
          },
          "metadata": {
            "tags": []
          },
          "execution_count": 18
        }
      ]
    },
    {
      "cell_type": "code",
      "metadata": {
        "id": "Z_IZAc4yyz_G",
        "colab_type": "code",
        "colab": {},
        "outputId": "66faa1f8-71b3-4d9e-d430-11ef71514ddf"
      },
      "source": [
        "data4 =  sklearn.datasets.load_digits()\n",
        "X=data4.data\n",
        "y=data4.target\n",
        "clf = DecisionTreeClassifier(criterion=\"entropy\")\n",
        "acc=[]\n",
        "print('Dataset digits | Criterion Entropy | Without pruning | 10*10 CV | Mean Accuracies:')\n",
        "for i in range(1,11):\n",
        "    accuracies = cross_val_score(clf, X, y, cv=10)\n",
        "    acc.append(accuracies)\n",
        "#     print(\"{0}){1}\".format(i,accuracies))\n",
        "\n",
        "np.mean(acc)"
      ],
      "execution_count": 0,
      "outputs": [
        {
          "output_type": "stream",
          "text": [
            "Dataset digits | Criterion Entropy | Without pruning | 10*10 CV | Mean Accuracies:\n"
          ],
          "name": "stdout"
        },
        {
          "output_type": "execute_result",
          "data": {
            "text/plain": [
              "0.8198125387957789"
            ]
          },
          "metadata": {
            "tags": []
          },
          "execution_count": 19
        }
      ]
    },
    {
      "cell_type": "code",
      "metadata": {
        "id": "hJLFF-_Cyz_V",
        "colab_type": "code",
        "colab": {},
        "outputId": "983d4293-bc69-4d8f-d63a-a50b3795652c"
      },
      "source": [
        "data4 =  sklearn.datasets.load_digits()\n",
        "X=data4.data\n",
        "y=data4.target\n",
        "clf = DecisionTreeClassifier(criterion=\"entropy\",ccp_alpha=0.015)\n",
        "acc=[]\n",
        "print('Dataset digits | Criterion Entropy | With pruning | 10*10 CV | Mean Accuracies:')\n",
        "for i in range(1,11):\n",
        "    accuracies = cross_val_score(clf, X, y, cv=10)\n",
        "    acc.append(accuracies)\n",
        "#     print(\"{0}){1}\".format(i,accuracies))\n",
        "\n",
        "np.mean(acc)"
      ],
      "execution_count": 0,
      "outputs": [
        {
          "output_type": "stream",
          "text": [
            "Dataset digits | Criterion Entropy | With pruning | 10*10 CV | Mean Accuracies:\n"
          ],
          "name": "stdout"
        },
        {
          "output_type": "execute_result",
          "data": {
            "text/plain": [
              "0.7742091868404717"
            ]
          },
          "metadata": {
            "tags": []
          },
          "execution_count": 20
        }
      ]
    },
    {
      "cell_type": "code",
      "metadata": {
        "id": "oxJC5sRdyz_e",
        "colab_type": "code",
        "colab": {},
        "outputId": "0c0e2a35-c101-496b-c267-81d95ce9c3d4"
      },
      "source": [
        "data4 =  sklearn.datasets.load_digits()\n",
        "X=data4.data\n",
        "y=data4.target\n",
        "clf = DecisionTreeClassifier(criterion=\"gini\",ccp_alpha=0.015)\n",
        "acc=[]\n",
        "print('Dataset digits | Criterion Gini | With pruning | 10*10 CV | Mean Accuracies:')\n",
        "for i in range(1,11):\n",
        "    accuracies = cross_val_score(clf, X, y, cv=10)\n",
        "    acc.append(accuracies)\n",
        "#     print(\"{0}){1}\".format(i,accuracies))\n",
        "\n",
        "np.mean(acc)"
      ],
      "execution_count": 0,
      "outputs": [
        {
          "output_type": "stream",
          "text": [
            "Dataset digits | Criterion Gini | With pruning | 10*10 CV | Mean Accuracies:\n"
          ],
          "name": "stdout"
        },
        {
          "output_type": "execute_result",
          "data": {
            "text/plain": [
              "0.728969584109249"
            ]
          },
          "metadata": {
            "tags": []
          },
          "execution_count": 21
        }
      ]
    },
    {
      "cell_type": "code",
      "metadata": {
        "id": "gxLl14Y7yz_q",
        "colab_type": "code",
        "colab": {},
        "outputId": "5649a2ce-762c-4b19-ca88-9766b26a5afb"
      },
      "source": [
        "data4 =  sklearn.datasets.load_digits()\n",
        "X=data4.data\n",
        "y=data4.target\n",
        "clf = DecisionTreeClassifier(criterion=\"gini\")\n",
        "acc=[]\n",
        "print('Dataset digits | Criterion Gini | Without pruning | 10*10 CV | Mean Accuracies:')\n",
        "for i in range(1,11):\n",
        "    accuracies = cross_val_score(clf, X, y, cv=10)\n",
        "    acc.append(accuracies)\n",
        "#     print(\"{0}){1}\".format(i,accuracies))\n",
        "\n",
        "np.mean(acc)"
      ],
      "execution_count": 0,
      "outputs": [
        {
          "output_type": "stream",
          "text": [
            "Dataset digits | Criterion Gini | Without pruning | 10*10 CV | Mean Accuracies:\n"
          ],
          "name": "stdout"
        },
        {
          "output_type": "execute_result",
          "data": {
            "text/plain": [
              "0.8233454376163872"
            ]
          },
          "metadata": {
            "tags": []
          },
          "execution_count": 22
        }
      ]
    },
    {
      "cell_type": "markdown",
      "metadata": {
        "id": "cXfJ_ES4yz_2",
        "colab_type": "text"
      },
      "source": [
        "### Dataset 4"
      ]
    },
    {
      "cell_type": "code",
      "metadata": {
        "id": "ib-Hg21Zyz_4",
        "colab_type": "code",
        "colab": {},
        "outputId": "a2cd2227-c2b6-449c-9a6d-761a4e6dfdfa"
      },
      "source": [
        "data5 =  sklearn.datasets.load_wine()\n",
        "X=data5.data\n",
        "y=data5.target\n",
        "print(data5.feature_names)\n",
        "\n",
        "\n",
        "clf = DecisionTreeClassifier(criterion=\"gini\",ccp_alpha=0.015)\n",
        "acc=[]\n",
        "print('Dataset wine | Criterion Gini | With pruning | Holdout approach | Mean Accuracies:')\n",
        "for i in range(1,101):\n",
        "    X_train, X_test, y_train, y_test = train_test_split(X, y, test_size=0.3) # 70% training and 30% test\n",
        "    clf=clf.fit(X_train,y_train)\n",
        "    y_pred = clf.predict(X_test)\n",
        "    acc.append(metrics.accuracy_score(y_test, y_pred))\n",
        "#     print(\"{0}){1}\".format(i,metrics.accuracy_score(y_test, y_pred)))\n",
        "mean(acc)\n",
        "# np.mean(acc)"
      ],
      "execution_count": 0,
      "outputs": [
        {
          "output_type": "stream",
          "text": [
            "['alcohol', 'malic_acid', 'ash', 'alcalinity_of_ash', 'magnesium', 'total_phenols', 'flavanoids', 'nonflavanoid_phenols', 'proanthocyanins', 'color_intensity', 'hue', 'od280/od315_of_diluted_wines', 'proline']\n",
            "Dataset wine | Criterion Gini | With pruning | Holdout approach | Mean Accuracies:\n"
          ],
          "name": "stdout"
        },
        {
          "output_type": "execute_result",
          "data": {
            "text/plain": [
              "0.9124074074074074"
            ]
          },
          "metadata": {
            "tags": []
          },
          "execution_count": 23
        }
      ]
    },
    {
      "cell_type": "code",
      "metadata": {
        "id": "LIx0gLMsy0AF",
        "colab_type": "code",
        "colab": {},
        "outputId": "3c90aab6-2d28-417c-f36f-e81d43b579f3"
      },
      "source": [
        "data5 =  sklearn.datasets.load_wine()\n",
        "X=data5.data\n",
        "y=data5.target\n",
        "\n",
        "clf = DecisionTreeClassifier(criterion=\"gini\")\n",
        "print('Dataset wine | Criterion Gini | Without pruning | Holdout approach | Mean Accuracies:')\n",
        "for i in range(1,101):\n",
        "    X_train, X_test, y_train, y_test = train_test_split(X, y, test_size=0.3) # 70% training and 30% test\n",
        "    clf=clf.fit(X_train,y_train)\n",
        "    y_pred = clf.predict(X_test)\n",
        "    acc.append(metrics.accuracy_score(y_test, y_pred))\n",
        "#     print(\"{0}){1}\".format(i,metrics.accuracy_score(y_test, y_pred)))\n",
        "mean(acc)"
      ],
      "execution_count": 0,
      "outputs": [
        {
          "output_type": "stream",
          "text": [
            "Dataset wine | Criterion Gini | Without pruning | Holdout approach | Mean Accuracies:\n"
          ],
          "name": "stdout"
        },
        {
          "output_type": "execute_result",
          "data": {
            "text/plain": [
              "0.9103703703703704"
            ]
          },
          "metadata": {
            "tags": []
          },
          "execution_count": 24
        }
      ]
    },
    {
      "cell_type": "code",
      "metadata": {
        "id": "Xbweb9zsy0AT",
        "colab_type": "code",
        "colab": {},
        "outputId": "319b8ccf-d0b3-41ba-f3ee-47301b06b277"
      },
      "source": [
        "data5 =  sklearn.datasets.load_wine()\n",
        "X=data5.data\n",
        "y=data5.target\n",
        "\n",
        "clf = DecisionTreeClassifier(criterion=\"entropy\",ccp_alpha=0.015)\n",
        "acc=[]\n",
        "print('Dataset wine | Criterion Entropy | With pruning | Holdout approach | Mean Accuracies:')\n",
        "for i in range(1,101):\n",
        "    X_train, X_test, y_train, y_test = train_test_split(X, y, test_size=0.3) # 70% training and 30% test\n",
        "    clf=clf.fit(X_train,y_train)\n",
        "    y_pred = clf.predict(X_test)\n",
        "    acc.append(metrics.accuracy_score(y_test, y_pred))\n",
        "#     print(\"{0}){1}\".format(i,metrics.accuracy_score(y_test, y_pred)))\n",
        "mean(acc)"
      ],
      "execution_count": 0,
      "outputs": [
        {
          "output_type": "stream",
          "text": [
            "Dataset wine | Criterion Entropy | With pruning | Holdout approach | Mean Accuracies:\n"
          ],
          "name": "stdout"
        },
        {
          "output_type": "execute_result",
          "data": {
            "text/plain": [
              "0.9172222222222222"
            ]
          },
          "metadata": {
            "tags": []
          },
          "execution_count": 25
        }
      ]
    },
    {
      "cell_type": "code",
      "metadata": {
        "id": "kbAYR7XQy0Ah",
        "colab_type": "code",
        "colab": {},
        "outputId": "3cbba659-4c33-4b81-ea06-90e3a9d3032d"
      },
      "source": [
        "data5 =  sklearn.datasets.load_wine()\n",
        "X=data5.data\n",
        "y=data5.target\n",
        "clf = DecisionTreeClassifier(criterion=\"entropy\")\n",
        "acc=[]\n",
        "print('Dataset wine | Criterion Entropy | Without pruning | Holdout approach | Mean Accuracies:')\n",
        "for i in range(1,101):\n",
        "    X_train, X_test, y_train, y_test = train_test_split(X, y, test_size=0.3) # 70% training and 30% test\n",
        "    clf=clf.fit(X_train,y_train)\n",
        "    y_pred = clf.predict(X_test)\n",
        "    acc.append(metrics.accuracy_score(y_test, y_pred))\n",
        "#     print(\"{0}){1}\".format(i,metrics.accuracy_score(y_test, y_pred)))\n",
        "mean(acc)"
      ],
      "execution_count": 0,
      "outputs": [
        {
          "output_type": "stream",
          "text": [
            "Dataset wine | Criterion Entropy | Without pruning | Holdout approach | Mean Accuracies:\n"
          ],
          "name": "stdout"
        },
        {
          "output_type": "execute_result",
          "data": {
            "text/plain": [
              "0.9207407407407407"
            ]
          },
          "metadata": {
            "tags": []
          },
          "execution_count": 26
        }
      ]
    },
    {
      "cell_type": "code",
      "metadata": {
        "id": "AfUGaG9ay0Ay",
        "colab_type": "code",
        "colab": {},
        "outputId": "efb59207-32f8-480b-db1a-5dd520307b38"
      },
      "source": [
        "data5 =  sklearn.datasets.load_wine()\n",
        "X=data5.data\n",
        "y=data5.target\n",
        "clf = DecisionTreeClassifier(criterion=\"entropy\")\n",
        "acc=[]\n",
        "print('Dataset wine | Criterion Entropy | Without pruning | 10*10 CV | Mean Accuracies:')\n",
        "for i in range(1,11):\n",
        "    accuracies = cross_val_score(clf, X, y, cv=10)\n",
        "    acc.append(accuracies)\n",
        "#     print(\"{0}){1}\".format(i,accuracies))\n",
        "\n",
        "np.mean(acc)"
      ],
      "execution_count": 0,
      "outputs": [
        {
          "output_type": "stream",
          "text": [
            "Dataset wine | Criterion Entropy | Without pruning | 10*10 CV | Mean Accuracies:\n"
          ],
          "name": "stdout"
        },
        {
          "output_type": "execute_result",
          "data": {
            "text/plain": [
              "0.9019607843137255"
            ]
          },
          "metadata": {
            "tags": []
          },
          "execution_count": 27
        }
      ]
    },
    {
      "cell_type": "code",
      "metadata": {
        "id": "qOpRWtULy0BE",
        "colab_type": "code",
        "colab": {},
        "outputId": "dce1de22-0db9-40d4-ebcc-7f60e70f5b2c"
      },
      "source": [
        "data5 =  sklearn.datasets.load_wine()\n",
        "X=data5.data\n",
        "y=data5.target\n",
        "clf = DecisionTreeClassifier(criterion=\"entropy\",ccp_alpha=0.015)\n",
        "acc=[]\n",
        "print('Dataset wine | Criterion Entropy | With pruning | 10*10 CV | Mean Accuracies:')\n",
        "for i in range(1,11):\n",
        "    accuracies = cross_val_score(clf, X, y, cv=10)\n",
        "    acc.append(accuracies)\n",
        "#     print(\"{0}){1}\".format(i,accuracies))\n",
        "\n",
        "np.mean(acc)"
      ],
      "execution_count": 0,
      "outputs": [
        {
          "output_type": "stream",
          "text": [
            "Dataset wine | Criterion Entropy | With pruning | 10*10 CV | Mean Accuracies:\n"
          ],
          "name": "stdout"
        },
        {
          "output_type": "execute_result",
          "data": {
            "text/plain": [
              "0.902516339869281"
            ]
          },
          "metadata": {
            "tags": []
          },
          "execution_count": 28
        }
      ]
    },
    {
      "cell_type": "code",
      "metadata": {
        "id": "8NAfE6iJy0BO",
        "colab_type": "code",
        "colab": {},
        "outputId": "8d061ba7-6983-4c3c-b11f-5748bfb10b24"
      },
      "source": [
        "data5 =  sklearn.datasets.load_wine()\n",
        "X=data5.data\n",
        "y=data5.target\n",
        "clf = DecisionTreeClassifier(criterion=\"gini\",ccp_alpha=0.015)\n",
        "acc=[]\n",
        "print('Dataset wine | Criterion Gini | With pruning | 10*10 CV | Mean Accuracies:')\n",
        "for i in range(1,11):\n",
        "    accuracies = cross_val_score(clf, X, y, cv=10)\n",
        "    acc.append(accuracies)\n",
        "#     print(\"{0}){1}\".format(i,accuracies))\n",
        "\n",
        "np.mean(acc)"
      ],
      "execution_count": 0,
      "outputs": [
        {
          "output_type": "stream",
          "text": [
            "Dataset wine | Criterion Gini | With pruning | 10*10 CV | Mean Accuracies:\n"
          ],
          "name": "stdout"
        },
        {
          "output_type": "execute_result",
          "data": {
            "text/plain": [
              "0.8940522875816994"
            ]
          },
          "metadata": {
            "tags": []
          },
          "execution_count": 29
        }
      ]
    },
    {
      "cell_type": "code",
      "metadata": {
        "id": "vwWXbb3jy0Bg",
        "colab_type": "code",
        "colab": {},
        "outputId": "9465161d-9f9f-43f4-e1ca-bbaeec799b2c"
      },
      "source": [
        "data5 =  sklearn.datasets.load_wine()\n",
        "X=data5.data\n",
        "y=data5.target\n",
        "clf = DecisionTreeClassifier(criterion=\"gini\")\n",
        "acc=[]\n",
        "print('Dataset wine | Criterion Gini | Without pruning | 10*10 CV | Mean Accuracies:')\n",
        "for i in range(1,11):\n",
        "    accuracies = cross_val_score(clf, X, y, cv=10)\n",
        "    acc.append(accuracies)\n",
        "#     print(\"{0}){1}\".format(i,accuracies))\n",
        "\n",
        "np.mean(acc)"
      ],
      "execution_count": 0,
      "outputs": [
        {
          "output_type": "stream",
          "text": [
            "Dataset wine | Criterion Gini | Without pruning | 10*10 CV | Mean Accuracies:\n"
          ],
          "name": "stdout"
        },
        {
          "output_type": "execute_result",
          "data": {
            "text/plain": [
              "0.8694771241830065"
            ]
          },
          "metadata": {
            "tags": []
          },
          "execution_count": 30
        }
      ]
    },
    {
      "cell_type": "markdown",
      "metadata": {
        "id": "cb99_ZVly0Bz",
        "colab_type": "text"
      },
      "source": [
        "### Dataset 5"
      ]
    },
    {
      "cell_type": "code",
      "metadata": {
        "scrolled": true,
        "id": "k73Ttvxxy0B1",
        "colab_type": "code",
        "colab": {},
        "outputId": "12bdc102-5c1a-4d03-c5a4-123c9e289211"
      },
      "source": [
        "data6 =  sklearn.datasets.load_breast_cancer()\n",
        "X=data6.data\n",
        "y=data6.target\n",
        "print(data6.feature_names)\n",
        "\n",
        "\n",
        "clf = DecisionTreeClassifier(criterion=\"gini\",ccp_alpha=0.015)\n",
        "acc=[]\n",
        "print('Dataset breast cancer | Criterion Gini | With pruning | Holdout approach | Mean Accuracies:')\n",
        "for i in range(1,101):\n",
        "    X_train, X_test, y_train, y_test = train_test_split(X, y, test_size=0.3) # 70% training and 30% test\n",
        "    clf=clf.fit(X_train,y_train)\n",
        "    y_pred = clf.predict(X_test)\n",
        "    acc.append(metrics.accuracy_score(y_test, y_pred))\n",
        "#     print(\"{0}){1}\".format(i,metrics.accuracy_score(y_test, y_pred)))\n",
        "mean(acc)\n",
        "# np.mean(acc)"
      ],
      "execution_count": 0,
      "outputs": [
        {
          "output_type": "stream",
          "text": [
            "['mean radius' 'mean texture' 'mean perimeter' 'mean area'\n",
            " 'mean smoothness' 'mean compactness' 'mean concavity'\n",
            " 'mean concave points' 'mean symmetry' 'mean fractal dimension'\n",
            " 'radius error' 'texture error' 'perimeter error' 'area error'\n",
            " 'smoothness error' 'compactness error' 'concavity error'\n",
            " 'concave points error' 'symmetry error' 'fractal dimension error'\n",
            " 'worst radius' 'worst texture' 'worst perimeter' 'worst area'\n",
            " 'worst smoothness' 'worst compactness' 'worst concavity'\n",
            " 'worst concave points' 'worst symmetry' 'worst fractal dimension']\n",
            "Dataset breast cancer | Criterion Gini | With pruning | Holdout approach | Mean Accuracies:\n"
          ],
          "name": "stdout"
        },
        {
          "output_type": "execute_result",
          "data": {
            "text/plain": [
              "0.925204678362573"
            ]
          },
          "metadata": {
            "tags": []
          },
          "execution_count": 31
        }
      ]
    },
    {
      "cell_type": "code",
      "metadata": {
        "id": "ovPFFVxzy0Co",
        "colab_type": "code",
        "colab": {},
        "outputId": "78ab7a74-5b30-4f3a-9158-8cd6ec95b806"
      },
      "source": [
        "data6 =  sklearn.datasets.load_breast_cancer()\n",
        "X=data6.data\n",
        "y=data6.target\n",
        "clf = DecisionTreeClassifier(criterion=\"gini\")\n",
        "print('Dataset breast cancer | Criterion Gini | Without pruning | Holdout approach | Mean Accuracies:')\n",
        "for i in range(1,101):\n",
        "    X_train, X_test, y_train, y_test = train_test_split(X, y, test_size=0.3) # 70% training and 30% test\n",
        "    clf=clf.fit(X_train,y_train)\n",
        "    y_pred = clf.predict(X_test)\n",
        "    acc.append(metrics.accuracy_score(y_test, y_pred))\n",
        "#     print(\"{0}){1}\".format(i,metrics.accuracy_score(y_test, y_pred)))\n",
        "mean(acc)"
      ],
      "execution_count": 0,
      "outputs": [
        {
          "output_type": "stream",
          "text": [
            "Dataset breast cancer | Criterion Gini | Without pruning | Holdout approach | Mean Accuracies:\n"
          ],
          "name": "stdout"
        },
        {
          "output_type": "execute_result",
          "data": {
            "text/plain": [
              "0.9258771929824561"
            ]
          },
          "metadata": {
            "tags": []
          },
          "execution_count": 32
        }
      ]
    },
    {
      "cell_type": "code",
      "metadata": {
        "id": "8jOMphRby0DB",
        "colab_type": "code",
        "colab": {},
        "outputId": "2931ab44-7d03-4d20-bac8-82280b125b14"
      },
      "source": [
        "data6 =  sklearn.datasets.load_breast_cancer()\n",
        "X=data6.data\n",
        "y=data6.target\n",
        "clf = DecisionTreeClassifier(criterion=\"entropy\",ccp_alpha=0.015)\n",
        "acc=[]\n",
        "print('Dataset breast cancer | Criterion Entropy | With pruning | Holdout approach | Mean Accuracies:')\n",
        "for i in range(1,101):\n",
        "    X_train, X_test, y_train, y_test = train_test_split(X, y, test_size=0.3) # 70% training and 30% test\n",
        "    clf=clf.fit(X_train,y_train)\n",
        "    y_pred = clf.predict(X_test)\n",
        "    acc.append(metrics.accuracy_score(y_test, y_pred))\n",
        "#     print(\"{0}){1}\".format(i,metrics.accuracy_score(y_test, y_pred)))\n",
        "mean(acc)"
      ],
      "execution_count": 0,
      "outputs": [
        {
          "output_type": "stream",
          "text": [
            "Dataset breast cancer | Criterion Entropy | With pruning | Holdout approach | Mean Accuracies:\n"
          ],
          "name": "stdout"
        },
        {
          "output_type": "execute_result",
          "data": {
            "text/plain": [
              "0.9331578947368421"
            ]
          },
          "metadata": {
            "tags": []
          },
          "execution_count": 33
        }
      ]
    },
    {
      "cell_type": "code",
      "metadata": {
        "id": "CUlcXSbJy0DN",
        "colab_type": "code",
        "colab": {},
        "outputId": "0cdbe9ac-3326-47d1-a1b1-5842e7392d36"
      },
      "source": [
        "data6 =  sklearn.datasets.load_breast_cancer()\n",
        "X=data6.data\n",
        "y=data6.target\n",
        "clf = DecisionTreeClassifier(criterion=\"entropy\")\n",
        "acc=[]\n",
        "print('Dataset breast cancer | Criterion Entropy | Without pruning | Holdout approach | Mean Accuracies:')\n",
        "for i in range(1,101):\n",
        "    X_train, X_test, y_train, y_test = train_test_split(X, y, test_size=0.3) # 70% training and 30% test\n",
        "    clf=clf.fit(X_train,y_train)\n",
        "    y_pred = clf.predict(X_test)\n",
        "    acc.append(metrics.accuracy_score(y_test, y_pred))\n",
        "#     print(\"{0}){1}\".format(i,metrics.accuracy_score(y_test, y_pred)))\n",
        "mean(acc)"
      ],
      "execution_count": 0,
      "outputs": [
        {
          "output_type": "stream",
          "text": [
            "Dataset breast cancer | Criterion Entropy | Without pruning | Holdout approach | Mean Accuracies:\n"
          ],
          "name": "stdout"
        },
        {
          "output_type": "execute_result",
          "data": {
            "text/plain": [
              "0.9302923976608187"
            ]
          },
          "metadata": {
            "tags": []
          },
          "execution_count": 34
        }
      ]
    },
    {
      "cell_type": "code",
      "metadata": {
        "id": "3HcvrzSBy0DX",
        "colab_type": "code",
        "colab": {},
        "outputId": "bb055ddf-f4e3-4037-8534-ae9bdf17ae46"
      },
      "source": [
        "data6 =  sklearn.datasets.load_breast_cancer()\n",
        "X=data6.data\n",
        "y=data6.target\n",
        "clf = DecisionTreeClassifier(criterion=\"entropy\")\n",
        "acc=[]\n",
        "print('Dataset breast cancer | Criterion Entropy | Without pruning | 10*10 CV | Mean Accuracies:')\n",
        "for i in range(1,11):\n",
        "    accuracies = cross_val_score(clf, X, y, cv=10)\n",
        "    acc.append(accuracies)\n",
        "#     print(\"{0}){1}\".format(i,accuracies))\n",
        "\n",
        "np.mean(acc)"
      ],
      "execution_count": 0,
      "outputs": [
        {
          "output_type": "stream",
          "text": [
            "Dataset breast cancer | Criterion Entropy | Without pruning | 10*10 CV | Mean Accuracies:\n"
          ],
          "name": "stdout"
        },
        {
          "output_type": "execute_result",
          "data": {
            "text/plain": [
              "0.9344423558897244"
            ]
          },
          "metadata": {
            "tags": []
          },
          "execution_count": 35
        }
      ]
    },
    {
      "cell_type": "code",
      "metadata": {
        "id": "v_ZwoQlSy0Da",
        "colab_type": "code",
        "colab": {},
        "outputId": "780c6c01-d37d-4bd2-defd-cc0e23660b01"
      },
      "source": [
        "data6 =  sklearn.datasets.load_breast_cancer()\n",
        "X=data6.data\n",
        "y=data6.target\n",
        "clf = DecisionTreeClassifier(criterion=\"entropy\",ccp_alpha=0.015)\n",
        "acc=[]\n",
        "print('Dataset breast cancer | Criterion Entropy | With pruning | 10*10 CV | Mean Accuracies:')\n",
        "for i in range(1,11):\n",
        "    accuracies = cross_val_score(clf, X, y, cv=10)\n",
        "    acc.append(accuracies)\n",
        "#     print(\"{0}){1}\".format(i,accuracies))\n",
        "\n",
        "np.mean(acc)"
      ],
      "execution_count": 0,
      "outputs": [
        {
          "output_type": "stream",
          "text": [
            "Dataset breast cancer | Criterion Entropy | With pruning | 10*10 CV | Mean Accuracies:\n"
          ],
          "name": "stdout"
        },
        {
          "output_type": "execute_result",
          "data": {
            "text/plain": [
              "0.9381328320802005"
            ]
          },
          "metadata": {
            "tags": []
          },
          "execution_count": 36
        }
      ]
    },
    {
      "cell_type": "code",
      "metadata": {
        "id": "nXteHNw8y0Dh",
        "colab_type": "code",
        "colab": {},
        "outputId": "adc1cb82-1a2a-438b-9e85-c932f7459265"
      },
      "source": [
        "data6 =  sklearn.datasets.load_breast_cancer()\n",
        "X=data6.data\n",
        "y=data6.target\n",
        "clf = DecisionTreeClassifier(criterion=\"gini\",ccp_alpha=0.015)\n",
        "acc=[]\n",
        "print('Dataset breast cancer | Criterion Gini | With pruning | 10*10 CV | Mean Accuracies:')\n",
        "for i in range(1,11):\n",
        "    accuracies = cross_val_score(clf, X, y, cv=10)\n",
        "    acc.append(accuracies)\n",
        "#     print(\"{0}){1}\".format(i,accuracies))\n",
        "\n",
        "np.mean(acc)"
      ],
      "execution_count": 0,
      "outputs": [
        {
          "output_type": "stream",
          "text": [
            "Dataset breast cancer | Criterion Gini | With pruning | 10*10 CV | Mean Accuracies:\n"
          ],
          "name": "stdout"
        },
        {
          "output_type": "execute_result",
          "data": {
            "text/plain": [
              "0.9223872180451126"
            ]
          },
          "metadata": {
            "tags": []
          },
          "execution_count": 37
        }
      ]
    },
    {
      "cell_type": "code",
      "metadata": {
        "id": "Z41oa5dCy0Dk",
        "colab_type": "code",
        "colab": {},
        "outputId": "275f22a5-34b6-4dca-e224-83efa8dc311c"
      },
      "source": [
        "data6 =  sklearn.datasets.load_breast_cancer()\n",
        "X=data6.data\n",
        "y=data6.target\n",
        "clf = DecisionTreeClassifier(criterion=\"gini\")\n",
        "acc=[]\n",
        "print('Dataset breast cancer | Criterion Gini | Without pruning | 10*10 CV | Mean Accuracies:')\n",
        "for i in range(1,11):\n",
        "    accuracies = cross_val_score(clf, X, y, cv=10)\n",
        "    acc.append(accuracies)\n",
        "#     print(\"{0}){1}\".format(i,accuracies))\n",
        "\n",
        "np.mean(acc)"
      ],
      "execution_count": 0,
      "outputs": [
        {
          "output_type": "stream",
          "text": [
            "Dataset breast cancer | Criterion Gini | Without pruning | 10*10 CV | Mean Accuracies:\n"
          ],
          "name": "stdout"
        },
        {
          "output_type": "execute_result",
          "data": {
            "text/plain": [
              "0.913937969924812"
            ]
          },
          "metadata": {
            "tags": []
          },
          "execution_count": 38
        }
      ]
    }
  ]
}