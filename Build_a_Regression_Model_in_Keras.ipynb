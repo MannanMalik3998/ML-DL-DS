{
  "nbformat": 4,
  "nbformat_minor": 0,
  "metadata": {
    "colab": {
      "name": "Build a Regression Model in Keras.ipynb",
      "provenance": [],
      "collapsed_sections": []
    },
    "kernelspec": {
      "name": "python3",
      "display_name": "Python 3"
    },
    "accelerator": "GPU"
  },
  "cells": [
    {
      "cell_type": "markdown",
      "metadata": {
        "id": "WMW6ldtbq76P",
        "colab_type": "text"
      },
      "source": [
        "**A) Build a baseline model**"
      ]
    },
    {
      "cell_type": "code",
      "metadata": {
        "id": "A43iWd6bq_LE",
        "colab_type": "code",
        "outputId": "6232d8c4-bbe2-4a7c-c49a-eab89b4fc610",
        "colab": {
          "base_uri": "https://localhost:8080/",
          "height": 80
        }
      },
      "source": [
        "#Necessary imports\n",
        "import pandas as pd\n",
        "import numpy as np\n",
        "import keras\n",
        "from sklearn.model_selection import train_test_split\n",
        "from sklearn.metrics import mean_squared_error\n",
        "from keras.models import Sequential\n",
        "from keras.layers import Dense"
      ],
      "execution_count": 0,
      "outputs": [
        {
          "output_type": "stream",
          "text": [
            "Using TensorFlow backend.\n"
          ],
          "name": "stderr"
        },
        {
          "output_type": "display_data",
          "data": {
            "text/html": [
              "<p style=\"color: red;\">\n",
              "The default version of TensorFlow in Colab will soon switch to TensorFlow 2.x.<br>\n",
              "We recommend you <a href=\"https://www.tensorflow.org/guide/migrate\" target=\"_blank\">upgrade</a> now \n",
              "or ensure your notebook will continue to use TensorFlow 1.x via the <code>%tensorflow_version 1.x</code> magic:\n",
              "<a href=\"https://colab.research.google.com/notebooks/tensorflow_version.ipynb\" target=\"_blank\">more info</a>.</p>\n"
            ],
            "text/plain": [
              "<IPython.core.display.HTML object>"
            ]
          },
          "metadata": {
            "tags": []
          }
        }
      ]
    },
    {
      "cell_type": "code",
      "metadata": {
        "id": "ZwfvJMpcsEEC",
        "colab_type": "code",
        "outputId": "928c9cda-4cf4-4392-d94e-1d8dfe0d5858",
        "colab": {
          "base_uri": "https://localhost:8080/",
          "height": 153
        }
      },
      "source": [
        "#Reading the data directly from the provided link\n",
        "data = pd.read_csv('https://cocl.us/concrete_data')\n",
        "print(data.head())"
      ],
      "execution_count": 0,
      "outputs": [
        {
          "output_type": "stream",
          "text": [
            "   Cement  Blast Furnace Slag  Fly Ash  ...  Fine Aggregate  Age  Strength\n",
            "0   540.0                 0.0      0.0  ...           676.0   28     79.99\n",
            "1   540.0                 0.0      0.0  ...           676.0   28     61.89\n",
            "2   332.5               142.5      0.0  ...           594.0  270     40.27\n",
            "3   332.5               142.5      0.0  ...           594.0  365     41.05\n",
            "4   198.6               132.4      0.0  ...           825.5  360     44.30\n",
            "\n",
            "[5 rows x 9 columns]\n"
          ],
          "name": "stdout"
        }
      ]
    },
    {
      "cell_type": "markdown",
      "metadata": {
        "id": "YgZCNF9yyi8P",
        "colab_type": "text"
      },
      "source": [
        "**Separate data**"
      ]
    },
    {
      "cell_type": "code",
      "metadata": {
        "id": "wuTAAq4ktMHC",
        "colab_type": "code",
        "outputId": "c1726fef-eae1-4f42-e2d6-77e2d84ed16c",
        "colab": {
          "base_uri": "https://localhost:8080/",
          "height": 153
        }
      },
      "source": [
        "X = data[data.columns[0:8]]\n",
        "print(X.head())"
      ],
      "execution_count": 0,
      "outputs": [
        {
          "output_type": "stream",
          "text": [
            "   Cement  Blast Furnace Slag  Fly Ash  ...  Coarse Aggregate  Fine Aggregate  Age\n",
            "0   540.0                 0.0      0.0  ...            1040.0           676.0   28\n",
            "1   540.0                 0.0      0.0  ...            1055.0           676.0   28\n",
            "2   332.5               142.5      0.0  ...             932.0           594.0  270\n",
            "3   332.5               142.5      0.0  ...             932.0           594.0  365\n",
            "4   198.6               132.4      0.0  ...             978.4           825.5  360\n",
            "\n",
            "[5 rows x 8 columns]\n"
          ],
          "name": "stdout"
        }
      ]
    },
    {
      "cell_type": "markdown",
      "metadata": {
        "id": "ube0OzRFyne5",
        "colab_type": "text"
      },
      "source": [
        "**Separate target labels**"
      ]
    },
    {
      "cell_type": "code",
      "metadata": {
        "id": "wVTGZqdDyuGf",
        "colab_type": "code",
        "outputId": "60ef0eb6-70b4-411a-ff64-e87963aacc32",
        "colab": {
          "base_uri": "https://localhost:8080/",
          "height": 119
        }
      },
      "source": [
        "y=data['Strength']\n",
        "print(y.head())"
      ],
      "execution_count": 0,
      "outputs": [
        {
          "output_type": "stream",
          "text": [
            "0    79.99\n",
            "1    61.89\n",
            "2    40.27\n",
            "3    41.05\n",
            "4    44.30\n",
            "Name: Strength, dtype: float64\n"
          ],
          "name": "stdout"
        }
      ]
    },
    {
      "cell_type": "code",
      "metadata": {
        "id": "LJ-hZWvkzczC",
        "colab_type": "code",
        "outputId": "581acb3d-ba0e-4a6e-8dbe-b4c12077523c",
        "colab": {
          "base_uri": "https://localhost:8080/",
          "height": 34
        }
      },
      "source": [
        "X.shape[1]"
      ],
      "execution_count": 0,
      "outputs": [
        {
          "output_type": "execute_result",
          "data": {
            "text/plain": [
              "8"
            ]
          },
          "metadata": {
            "tags": []
          },
          "execution_count": 5
        }
      ]
    },
    {
      "cell_type": "markdown",
      "metadata": {
        "id": "Q0CctIwPy-r1",
        "colab_type": "text"
      },
      "source": [
        "**Building models**"
      ]
    },
    {
      "cell_type": "code",
      "metadata": {
        "id": "Mx25Lk1kzF_H",
        "colab_type": "code",
        "outputId": "4e418e9e-4d60-42c4-fbd9-0ec7b8bf57d8",
        "colab": {
          "base_uri": "https://localhost:8080/",
          "height": 1000
        }
      },
      "source": [
        "#Empty list to store the mean squared errors\n",
        "MSE = []\n",
        "\n",
        "for x in range(50):#run loop 50 times\n",
        "    \n",
        "    #define structure\n",
        "    model = Sequential()\n",
        "    model.add(Dense(10, activation='relu', input_shape=(X.shape[1],)))#Hidden layer\n",
        "    model.add(Dense(1))#last layer\n",
        "\n",
        "    #Splitting the data with the desired parameters\n",
        "    X_train, X_test, y_train, y_test = train_test_split(X, y, test_size=0.3, random_state=42)\n",
        "\n",
        "    # compile model\n",
        "    model.compile(optimizer='adam', loss='mean_squared_error')\n",
        "    \n",
        "    #Verbose is set to 0 to prevent excess printing\n",
        "    model.fit(X_train, y_train, epochs=50, verbose=0)#Fit the model\n",
        "    \n",
        "    #Model evaluation\n",
        "    y_pred = model.predict(X_test)\n",
        "    MSE.append(mean_squared_error(y_test, y_pred))\n",
        "    print('{}) Mean Squared Error: {}.'.format(x,MSE[x]))"
      ],
      "execution_count": 0,
      "outputs": [
        {
          "output_type": "stream",
          "text": [
            "WARNING:tensorflow:From /usr/local/lib/python3.6/dist-packages/keras/backend/tensorflow_backend.py:66: The name tf.get_default_graph is deprecated. Please use tf.compat.v1.get_default_graph instead.\n",
            "\n",
            "WARNING:tensorflow:From /usr/local/lib/python3.6/dist-packages/keras/backend/tensorflow_backend.py:541: The name tf.placeholder is deprecated. Please use tf.compat.v1.placeholder instead.\n",
            "\n",
            "WARNING:tensorflow:From /usr/local/lib/python3.6/dist-packages/keras/backend/tensorflow_backend.py:4432: The name tf.random_uniform is deprecated. Please use tf.random.uniform instead.\n",
            "\n",
            "WARNING:tensorflow:From /usr/local/lib/python3.6/dist-packages/keras/optimizers.py:793: The name tf.train.Optimizer is deprecated. Please use tf.compat.v1.train.Optimizer instead.\n",
            "\n",
            "WARNING:tensorflow:From /usr/local/lib/python3.6/dist-packages/keras/backend/tensorflow_backend.py:1033: The name tf.assign_add is deprecated. Please use tf.compat.v1.assign_add instead.\n",
            "\n",
            "WARNING:tensorflow:From /usr/local/lib/python3.6/dist-packages/keras/backend/tensorflow_backend.py:1020: The name tf.assign is deprecated. Please use tf.compat.v1.assign instead.\n",
            "\n",
            "WARNING:tensorflow:From /usr/local/lib/python3.6/dist-packages/keras/backend/tensorflow_backend.py:3005: The name tf.Session is deprecated. Please use tf.compat.v1.Session instead.\n",
            "\n",
            "WARNING:tensorflow:From /usr/local/lib/python3.6/dist-packages/keras/backend/tensorflow_backend.py:190: The name tf.get_default_session is deprecated. Please use tf.compat.v1.get_default_session instead.\n",
            "\n",
            "WARNING:tensorflow:From /usr/local/lib/python3.6/dist-packages/keras/backend/tensorflow_backend.py:197: The name tf.ConfigProto is deprecated. Please use tf.compat.v1.ConfigProto instead.\n",
            "\n",
            "WARNING:tensorflow:From /usr/local/lib/python3.6/dist-packages/keras/backend/tensorflow_backend.py:207: The name tf.global_variables is deprecated. Please use tf.compat.v1.global_variables instead.\n",
            "\n",
            "WARNING:tensorflow:From /usr/local/lib/python3.6/dist-packages/keras/backend/tensorflow_backend.py:216: The name tf.is_variable_initialized is deprecated. Please use tf.compat.v1.is_variable_initialized instead.\n",
            "\n",
            "WARNING:tensorflow:From /usr/local/lib/python3.6/dist-packages/keras/backend/tensorflow_backend.py:223: The name tf.variables_initializer is deprecated. Please use tf.compat.v1.variables_initializer instead.\n",
            "\n",
            "0) Mean Squared Error: 488.4575115100256.\n",
            "1) Mean Squared Error: 739.3552825463751.\n",
            "2) Mean Squared Error: 480.1242127348534.\n",
            "3) Mean Squared Error: 1716.0368841140498.\n",
            "4) Mean Squared Error: 673.414981030216.\n",
            "5) Mean Squared Error: 830.7824065218681.\n",
            "6) Mean Squared Error: 248.71325030391674.\n",
            "7) Mean Squared Error: 224.5813283760283.\n",
            "8) Mean Squared Error: 101.68019536801593.\n",
            "9) Mean Squared Error: 160.81676336283894.\n",
            "10) Mean Squared Error: 439.9788830001301.\n",
            "11) Mean Squared Error: 544.3535929198509.\n",
            "12) Mean Squared Error: 226.38085511038216.\n",
            "13) Mean Squared Error: 371.87532472987806.\n",
            "14) Mean Squared Error: 523.1551716736709.\n",
            "15) Mean Squared Error: 116.81561296193269.\n",
            "16) Mean Squared Error: 192.49382011197557.\n",
            "17) Mean Squared Error: 743.7839541716701.\n",
            "18) Mean Squared Error: 279.3142167102942.\n",
            "19) Mean Squared Error: 271.241784161604.\n",
            "20) Mean Squared Error: 247.35389832461522.\n",
            "21) Mean Squared Error: 484.1682628757761.\n",
            "22) Mean Squared Error: 144.80708265454962.\n",
            "23) Mean Squared Error: 480.84018958796855.\n",
            "24) Mean Squared Error: 130.624679206568.\n",
            "25) Mean Squared Error: 185.8239798221698.\n",
            "26) Mean Squared Error: 596.0226637595281.\n",
            "27) Mean Squared Error: 434.7688574066644.\n",
            "28) Mean Squared Error: 121.90408930923483.\n",
            "29) Mean Squared Error: 190.79681562324762.\n",
            "30) Mean Squared Error: 451.4274968709368.\n",
            "31) Mean Squared Error: 107.56795907297024.\n",
            "32) Mean Squared Error: 143.11349023868206.\n",
            "33) Mean Squared Error: 116.33112934178024.\n",
            "34) Mean Squared Error: 386.2915984050053.\n",
            "35) Mean Squared Error: 718.0948851532845.\n",
            "36) Mean Squared Error: 365.1280412467294.\n",
            "37) Mean Squared Error: 109.3211527556322.\n",
            "38) Mean Squared Error: 139.37587174275023.\n",
            "39) Mean Squared Error: 110.98622551323675.\n",
            "40) Mean Squared Error: 110.6082721773025.\n",
            "41) Mean Squared Error: 105.36545397886402.\n",
            "42) Mean Squared Error: 122.45453961320852.\n",
            "43) Mean Squared Error: 215.71845402341268.\n",
            "44) Mean Squared Error: 114.9154746070428.\n",
            "45) Mean Squared Error: 1033.880316333562.\n",
            "46) Mean Squared Error: 563.9002063181326.\n",
            "47) Mean Squared Error: 105.65317414362073.\n",
            "48) Mean Squared Error: 253.1642721398341.\n",
            "49) Mean Squared Error: 2874.29874946436.\n"
          ],
          "name": "stdout"
        }
      ]
    },
    {
      "cell_type": "code",
      "metadata": {
        "id": "jlZhjTz23y7p",
        "colab_type": "code",
        "outputId": "75a054c4-c375-4d63-9582-01e85d5e3b3b",
        "colab": {
          "base_uri": "https://localhost:8080/",
          "height": 54
        }
      },
      "source": [
        "print(MSE)"
      ],
      "execution_count": 0,
      "outputs": [
        {
          "output_type": "stream",
          "text": [
            "[488.4575115100256, 739.3552825463751, 480.1242127348534, 1716.0368841140498, 673.414981030216, 830.7824065218681, 248.71325030391674, 224.5813283760283, 101.68019536801593, 160.81676336283894, 439.9788830001301, 544.3535929198509, 226.38085511038216, 371.87532472987806, 523.1551716736709, 116.81561296193269, 192.49382011197557, 743.7839541716701, 279.3142167102942, 271.241784161604, 247.35389832461522, 484.1682628757761, 144.80708265454962, 480.84018958796855, 130.624679206568, 185.8239798221698, 596.0226637595281, 434.7688574066644, 121.90408930923483, 190.79681562324762, 451.4274968709368, 107.56795907297024, 143.11349023868206, 116.33112934178024, 386.2915984050053, 718.0948851532845, 365.1280412467294, 109.3211527556322, 139.37587174275023, 110.98622551323675, 110.6082721773025, 105.36545397886402, 122.45453961320852, 215.71845402341268, 114.9154746070428, 1033.880316333562, 563.9002063181326, 105.65317414362073, 253.1642721398341, 2874.29874946436]\n"
          ],
          "name": "stdout"
        }
      ]
    },
    {
      "cell_type": "markdown",
      "metadata": {
        "id": "Rrbnv8Tw1_gw",
        "colab_type": "text"
      },
      "source": [
        "**Mean and standard deviation of MSE**"
      ]
    },
    {
      "cell_type": "code",
      "metadata": {
        "id": "WI4jDlzG188r",
        "colab_type": "code",
        "outputId": "770e58f5-231d-4cba-9d98-5d7693304682",
        "colab": {
          "base_uri": "https://localhost:8080/",
          "height": 51
        }
      },
      "source": [
        "print('Mean of MSE: {}'.format(np.mean(MSE)))\n",
        "print('Standard deviation of MSE: {}'.format(np.std(MSE)))"
      ],
      "execution_count": 0,
      "outputs": [
        {
          "output_type": "stream",
          "text": [
            "Mean of MSE: 410.7612662626049\n",
            "Standard deviation of MSE: 461.15287074915716\n"
          ],
          "name": "stdout"
        }
      ]
    },
    {
      "cell_type": "markdown",
      "metadata": {
        "id": "UlgO-H9j6TgJ",
        "colab_type": "text"
      },
      "source": [
        "**B) Normalize the data**"
      ]
    },
    {
      "cell_type": "code",
      "metadata": {
        "id": "0B3RTJz_6lrq",
        "colab_type": "code",
        "outputId": "759f6ac1-f428-4579-faab-803c6daffc5b",
        "colab": {
          "base_uri": "https://localhost:8080/",
          "height": 153
        }
      },
      "source": [
        "X_Norm=(X-X.mean())/X.std()\n",
        "print(X_Norm.head())"
      ],
      "execution_count": 0,
      "outputs": [
        {
          "output_type": "stream",
          "text": [
            "     Cement  Blast Furnace Slag  ...  Fine Aggregate       Age\n",
            "0  2.476712           -0.856472  ...       -1.217079 -0.279597\n",
            "1  2.476712           -0.856472  ...       -1.217079 -0.279597\n",
            "2  0.491187            0.795140  ...       -2.239829  3.551340\n",
            "3  0.491187            0.795140  ...       -2.239829  5.055221\n",
            "4 -0.790075            0.678079  ...        0.647569  4.976069\n",
            "\n",
            "[5 rows x 8 columns]\n"
          ],
          "name": "stdout"
        }
      ]
    },
    {
      "cell_type": "code",
      "metadata": {
        "id": "IQ67ZuXd6Z6a",
        "colab_type": "code",
        "outputId": "9961290f-dc9f-478a-ab58-2186b7af16c3",
        "colab": {
          "base_uri": "https://localhost:8080/",
          "height": 1000
        }
      },
      "source": [
        "#Empty list to store the mean squared errors\n",
        "MSE = []\n",
        "\n",
        "for x in range(50):#run loop 50 times\n",
        "    \n",
        "    #define structure\n",
        "    model = Sequential()\n",
        "    model.add(Dense(10, activation='relu', input_shape=(X.shape[1],)))#Hidden layer\n",
        "    model.add(Dense(1))#last layer\n",
        "\n",
        "    #Splitting the data with the desired parameters\n",
        "    X_train, X_test, y_train, y_test = train_test_split(X_Norm, y, test_size=0.3, random_state=42)\n",
        "\n",
        "    # compile model\n",
        "    model.compile(optimizer='adam', loss='mean_squared_error')\n",
        "    \n",
        "    #Verbose is set to 0 to prevent excess printing\n",
        "    model.fit(X_train, y_train, epochs=50, verbose=0)#Fit the model\n",
        "    \n",
        "    #Model evaluation\n",
        "    y_pred = model.predict(X_test)\n",
        "    MSE.append(mean_squared_error(y_test, y_pred))\n",
        "    print('{}) Mean Squared Error: {}.'.format(x,MSE[x]))"
      ],
      "execution_count": 0,
      "outputs": [
        {
          "output_type": "stream",
          "text": [
            "WARNING:tensorflow:From /usr/local/lib/python3.6/dist-packages/keras/backend/tensorflow_backend.py:66: The name tf.get_default_graph is deprecated. Please use tf.compat.v1.get_default_graph instead.\n",
            "\n",
            "WARNING:tensorflow:From /usr/local/lib/python3.6/dist-packages/keras/backend/tensorflow_backend.py:541: The name tf.placeholder is deprecated. Please use tf.compat.v1.placeholder instead.\n",
            "\n",
            "WARNING:tensorflow:From /usr/local/lib/python3.6/dist-packages/keras/backend/tensorflow_backend.py:4432: The name tf.random_uniform is deprecated. Please use tf.random.uniform instead.\n",
            "\n",
            "WARNING:tensorflow:From /usr/local/lib/python3.6/dist-packages/keras/optimizers.py:793: The name tf.train.Optimizer is deprecated. Please use tf.compat.v1.train.Optimizer instead.\n",
            "\n",
            "WARNING:tensorflow:From /usr/local/lib/python3.6/dist-packages/keras/backend/tensorflow_backend.py:1033: The name tf.assign_add is deprecated. Please use tf.compat.v1.assign_add instead.\n",
            "\n",
            "WARNING:tensorflow:From /usr/local/lib/python3.6/dist-packages/keras/backend/tensorflow_backend.py:1020: The name tf.assign is deprecated. Please use tf.compat.v1.assign instead.\n",
            "\n",
            "WARNING:tensorflow:From /usr/local/lib/python3.6/dist-packages/keras/backend/tensorflow_backend.py:3005: The name tf.Session is deprecated. Please use tf.compat.v1.Session instead.\n",
            "\n",
            "WARNING:tensorflow:From /usr/local/lib/python3.6/dist-packages/keras/backend/tensorflow_backend.py:190: The name tf.get_default_session is deprecated. Please use tf.compat.v1.get_default_session instead.\n",
            "\n",
            "WARNING:tensorflow:From /usr/local/lib/python3.6/dist-packages/keras/backend/tensorflow_backend.py:197: The name tf.ConfigProto is deprecated. Please use tf.compat.v1.ConfigProto instead.\n",
            "\n",
            "WARNING:tensorflow:From /usr/local/lib/python3.6/dist-packages/keras/backend/tensorflow_backend.py:207: The name tf.global_variables is deprecated. Please use tf.compat.v1.global_variables instead.\n",
            "\n",
            "WARNING:tensorflow:From /usr/local/lib/python3.6/dist-packages/keras/backend/tensorflow_backend.py:216: The name tf.is_variable_initialized is deprecated. Please use tf.compat.v1.is_variable_initialized instead.\n",
            "\n",
            "WARNING:tensorflow:From /usr/local/lib/python3.6/dist-packages/keras/backend/tensorflow_backend.py:223: The name tf.variables_initializer is deprecated. Please use tf.compat.v1.variables_initializer instead.\n",
            "\n",
            "0) Mean Squared Error: 300.8467514704805.\n",
            "1) Mean Squared Error: 290.081480438938.\n",
            "2) Mean Squared Error: 256.37060490191317.\n",
            "3) Mean Squared Error: 423.3747494680695.\n",
            "4) Mean Squared Error: 432.97336227873933.\n",
            "5) Mean Squared Error: 341.4521567349626.\n",
            "6) Mean Squared Error: 301.8119457941616.\n",
            "7) Mean Squared Error: 265.316572186965.\n",
            "8) Mean Squared Error: 302.3289378005663.\n",
            "9) Mean Squared Error: 365.42452484148845.\n",
            "10) Mean Squared Error: 535.3777459281438.\n",
            "11) Mean Squared Error: 323.38475904886474.\n",
            "12) Mean Squared Error: 210.72450058581387.\n",
            "13) Mean Squared Error: 565.9626206063575.\n",
            "14) Mean Squared Error: 353.4555031255745.\n",
            "15) Mean Squared Error: 263.0897190756655.\n",
            "16) Mean Squared Error: 368.14554226480635.\n",
            "17) Mean Squared Error: 249.49393882901092.\n",
            "18) Mean Squared Error: 254.64910685742842.\n",
            "19) Mean Squared Error: 364.4933690810529.\n",
            "20) Mean Squared Error: 340.22674178908346.\n",
            "21) Mean Squared Error: 570.1221279730943.\n",
            "22) Mean Squared Error: 364.97315356741643.\n",
            "23) Mean Squared Error: 315.8960215827699.\n",
            "24) Mean Squared Error: 235.03621325963218.\n",
            "25) Mean Squared Error: 240.1712155059746.\n",
            "26) Mean Squared Error: 294.23991417242746.\n",
            "27) Mean Squared Error: 324.8539730681118.\n",
            "28) Mean Squared Error: 239.5756821260515.\n",
            "29) Mean Squared Error: 385.8269674424448.\n",
            "30) Mean Squared Error: 357.87033773262675.\n",
            "31) Mean Squared Error: 317.7222999673103.\n",
            "32) Mean Squared Error: 293.64956843248257.\n",
            "33) Mean Squared Error: 465.4344148473529.\n",
            "34) Mean Squared Error: 363.5348541676998.\n",
            "35) Mean Squared Error: 239.0589155977017.\n",
            "36) Mean Squared Error: 260.8472155787269.\n",
            "37) Mean Squared Error: 432.29156969669805.\n",
            "38) Mean Squared Error: 360.4610902029637.\n",
            "39) Mean Squared Error: 303.06671214149964.\n",
            "40) Mean Squared Error: 337.62971262541396.\n",
            "41) Mean Squared Error: 454.40874061813196.\n",
            "42) Mean Squared Error: 276.51033659243893.\n",
            "43) Mean Squared Error: 362.8630832076106.\n",
            "44) Mean Squared Error: 215.7358226047502.\n",
            "45) Mean Squared Error: 444.4566882967751.\n",
            "46) Mean Squared Error: 254.88737044665035.\n",
            "47) Mean Squared Error: 464.4291211689438.\n",
            "48) Mean Squared Error: 356.1233087102461.\n",
            "49) Mean Squared Error: 397.0041799236508.\n"
          ],
          "name": "stdout"
        }
      ]
    },
    {
      "cell_type": "code",
      "metadata": {
        "id": "4OKW4ebN7KrU",
        "colab_type": "code",
        "outputId": "adcd5a2e-abb3-48d9-9ac2-d7ce2434e21f",
        "colab": {
          "base_uri": "https://localhost:8080/",
          "height": 51
        }
      },
      "source": [
        "print('Mean of MSE: {}'.format(np.mean(MSE)))\n",
        "print('Standard deviation of MSE: {}'.format(np.std(MSE)))"
      ],
      "execution_count": 0,
      "outputs": [
        {
          "output_type": "stream",
          "text": [
            "Mean of MSE: 340.7533048873136\n",
            "Standard deviation of MSE: 86.11274215455198\n"
          ],
          "name": "stdout"
        }
      ]
    },
    {
      "cell_type": "markdown",
      "metadata": {
        "id": "V1hEYosBHrA6",
        "colab_type": "text"
      },
      "source": [
        "Raw data part A:\n",
        "Mean of MSE: 410.7612662626049\n",
        "Standard deviation of MSE: 461.15287074915716\n",
        "\n",
        "---\n",
        "Normalized data part B:\n",
        "Mean of MSE: 340.7533048873136\n",
        "Standard deviation of MSE: 86.11274215455198\n",
        "\n",
        "Normalizing the data had a major impact on MSE as can be seen from the mean and standard deviation of part B"
      ]
    },
    {
      "cell_type": "markdown",
      "metadata": {
        "id": "mY48F9Gk7sHV",
        "colab_type": "text"
      },
      "source": [
        "**C) Increase the number of epochs**"
      ]
    },
    {
      "cell_type": "code",
      "metadata": {
        "id": "taZFzTvc7q--",
        "colab_type": "code",
        "outputId": "57c89698-a9d5-431a-fe01-e9357ff3783f",
        "colab": {
          "base_uri": "https://localhost:8080/",
          "height": 867
        }
      },
      "source": [
        "#Empty list to store the mean squared errors\n",
        "MSE = []\n",
        "\n",
        "for x in range(50):#run loop 50 times\n",
        "    \n",
        "    #define structure\n",
        "    model = Sequential()\n",
        "    model.add(Dense(10, activation='relu', input_shape=(X.shape[1],)))#Hidden layer\n",
        "    model.add(Dense(1))#last layer\n",
        "\n",
        "    #Splitting the data with the desired parameters\n",
        "    X_train, X_test, y_train, y_test = train_test_split(X_Norm, y, test_size=0.3, random_state=42)\n",
        "\n",
        "    # compile model\n",
        "    model.compile(optimizer='adam', loss='mean_squared_error')\n",
        "    \n",
        "    #Verbose is set to 0 to prevent excess printing\n",
        "    model.fit(X_train, y_train, epochs=100, verbose=0)#Fit the model\n",
        "    \n",
        "    #Model evaluation\n",
        "    y_pred = model.predict(X_test)\n",
        "    MSE.append(mean_squared_error(y_test, y_pred))\n",
        "    print('{}) Mean Squared Error: {}.'.format(x,MSE[x]))"
      ],
      "execution_count": 0,
      "outputs": [
        {
          "output_type": "stream",
          "text": [
            "0) Mean Squared Error: 151.76837172210043.\n",
            "1) Mean Squared Error: 151.28236460628955.\n",
            "2) Mean Squared Error: 152.07590344350808.\n",
            "3) Mean Squared Error: 137.3851226874244.\n",
            "4) Mean Squared Error: 150.17505842954802.\n",
            "5) Mean Squared Error: 158.1134961766837.\n",
            "6) Mean Squared Error: 176.53653018356783.\n",
            "7) Mean Squared Error: 141.24305885685996.\n",
            "8) Mean Squared Error: 184.90496659202375.\n",
            "9) Mean Squared Error: 156.08951937963235.\n",
            "10) Mean Squared Error: 168.6540191259447.\n",
            "11) Mean Squared Error: 143.68485203931382.\n",
            "12) Mean Squared Error: 159.2122552209865.\n",
            "13) Mean Squared Error: 152.93942252133024.\n",
            "14) Mean Squared Error: 159.86736117470366.\n",
            "15) Mean Squared Error: 155.4491736139565.\n",
            "16) Mean Squared Error: 150.6868911759727.\n",
            "17) Mean Squared Error: 140.3681875001285.\n",
            "18) Mean Squared Error: 150.7176609720258.\n",
            "19) Mean Squared Error: 156.19185388216758.\n",
            "20) Mean Squared Error: 171.99836068873358.\n",
            "21) Mean Squared Error: 168.52107771544246.\n",
            "22) Mean Squared Error: 141.9256028398914.\n",
            "23) Mean Squared Error: 146.0109895639867.\n",
            "24) Mean Squared Error: 150.1240759510954.\n",
            "25) Mean Squared Error: 155.14099581546978.\n",
            "26) Mean Squared Error: 181.1568431158619.\n",
            "27) Mean Squared Error: 151.18450706999963.\n",
            "28) Mean Squared Error: 144.99077925890384.\n",
            "29) Mean Squared Error: 140.77725742654576.\n",
            "30) Mean Squared Error: 159.40192654453944.\n",
            "31) Mean Squared Error: 162.1286531027248.\n",
            "32) Mean Squared Error: 151.3347652196828.\n",
            "33) Mean Squared Error: 165.83640567187715.\n",
            "34) Mean Squared Error: 149.20490582583346.\n",
            "35) Mean Squared Error: 149.28053297067248.\n",
            "36) Mean Squared Error: 150.51452391953566.\n",
            "37) Mean Squared Error: 140.6940875439175.\n",
            "38) Mean Squared Error: 157.37698638124385.\n",
            "39) Mean Squared Error: 153.8830502382878.\n",
            "40) Mean Squared Error: 152.07766385869647.\n",
            "41) Mean Squared Error: 157.9423668725755.\n",
            "42) Mean Squared Error: 169.7523628891341.\n",
            "43) Mean Squared Error: 136.01469812406052.\n",
            "44) Mean Squared Error: 154.76676825720077.\n",
            "45) Mean Squared Error: 143.2512349151517.\n",
            "46) Mean Squared Error: 205.81148463690388.\n",
            "47) Mean Squared Error: 206.9917247013723.\n",
            "48) Mean Squared Error: 152.8066595512506.\n",
            "49) Mean Squared Error: 175.86382370595462.\n"
          ],
          "name": "stdout"
        }
      ]
    },
    {
      "cell_type": "code",
      "metadata": {
        "id": "kyDin6Hq7y4R",
        "colab_type": "code",
        "outputId": "f26c216d-41e3-43c4-89c3-3ea3969a2ea4",
        "colab": {
          "base_uri": "https://localhost:8080/",
          "height": 51
        }
      },
      "source": [
        "print('Mean of MSE: {}'.format(np.mean(MSE)))\n",
        "print('Standard deviation of MSE: {}'.format(np.std(MSE)))"
      ],
      "execution_count": 0,
      "outputs": [
        {
          "output_type": "stream",
          "text": [
            "Mean of MSE: 156.8822236736143\n",
            "Standard deviation of MSE: 14.876999573250623\n"
          ],
          "name": "stdout"
        }
      ]
    },
    {
      "cell_type": "markdown",
      "metadata": {
        "id": "15gDdti6EZ2C",
        "colab_type": "text"
      },
      "source": [
        "**Normalized data on 50 epochs**\n",
        "Mean of MSE: 340.7533048873136\n",
        "Standard deviation of MSE: 86.11274215455198\n",
        "\n",
        "---\n",
        "**Normalized data on 100 epochs**\n",
        "Mean of MSE: 156.8822236736143\n",
        "Standard deviation of MSE: 14.876999573250623\n",
        "\n",
        "Increasing the number of epochs in part C on normalized data reduced the MSE alot. It means the model made less errors in prediction"
      ]
    },
    {
      "cell_type": "markdown",
      "metadata": {
        "id": "jpUOPDS-FvST",
        "colab_type": "text"
      },
      "source": [
        "**D) Increase the number of hidden layers**"
      ]
    },
    {
      "cell_type": "code",
      "metadata": {
        "id": "PKXun_QYFzGK",
        "colab_type": "code",
        "outputId": "45da407c-c46b-421a-8e94-551cc666c688",
        "colab": {
          "base_uri": "https://localhost:8080/",
          "height": 867
        }
      },
      "source": [
        "#Empty list to store the mean squared errors\n",
        "MSE = []\n",
        "\n",
        "for x in range(50):#run loop 50 times\n",
        "    \n",
        "    #define structure\n",
        "    model = Sequential()\n",
        "    model.add(Dense(10, activation='relu', input_shape=(X.shape[1],)))#Hidden layer\n",
        "    model.add(Dense(10, activation='relu'))#Hidden layer\n",
        "    model.add(Dense(10, activation='relu'))#Hidden layer\n",
        "    model.add(Dense(1))#last layer\n",
        "\n",
        "    #Splitting the data with the desired parameters\n",
        "    X_train, X_test, y_train, y_test = train_test_split(X_Norm, y, test_size=0.3, random_state=42)\n",
        "\n",
        "    # compile model\n",
        "    model.compile(optimizer='adam', loss='mean_squared_error')\n",
        "    \n",
        "    #Verbose is set to 0 to prevent excess printing\n",
        "    model.fit(X_train, y_train, epochs=100, verbose=0)#Fit the model\n",
        "    \n",
        "    #Model evaluation\n",
        "    y_pred = model.predict(X_test)\n",
        "    MSE.append(mean_squared_error(y_test, y_pred))\n",
        "    print('{}) Mean Squared Error: {}.'.format(x,MSE[x]))"
      ],
      "execution_count": 0,
      "outputs": [
        {
          "output_type": "stream",
          "text": [
            "0) Mean Squared Error: 54.84852170977952.\n",
            "1) Mean Squared Error: 56.69453649388759.\n",
            "2) Mean Squared Error: 84.3842197905414.\n",
            "3) Mean Squared Error: 67.95222161025592.\n",
            "4) Mean Squared Error: 106.64498971562149.\n",
            "5) Mean Squared Error: 100.97250208351407.\n",
            "6) Mean Squared Error: 53.316228809131886.\n",
            "7) Mean Squared Error: 115.1475458648279.\n",
            "8) Mean Squared Error: 65.60977507456857.\n",
            "9) Mean Squared Error: 78.04866256288742.\n",
            "10) Mean Squared Error: 77.33922547397755.\n",
            "11) Mean Squared Error: 73.27694332998743.\n",
            "12) Mean Squared Error: 76.54031714546154.\n",
            "13) Mean Squared Error: 116.80736798026318.\n",
            "14) Mean Squared Error: 57.138712547466845.\n",
            "15) Mean Squared Error: 114.28027674829893.\n",
            "16) Mean Squared Error: 88.02151751634256.\n",
            "17) Mean Squared Error: 93.4887710740757.\n",
            "18) Mean Squared Error: 81.44674365047315.\n",
            "19) Mean Squared Error: 118.69207504446271.\n",
            "20) Mean Squared Error: 115.0033813218328.\n",
            "21) Mean Squared Error: 72.83664690928525.\n",
            "22) Mean Squared Error: 74.56057883507486.\n",
            "23) Mean Squared Error: 115.27941855326365.\n",
            "24) Mean Squared Error: 62.570043259387965.\n",
            "25) Mean Squared Error: 51.055599736179076.\n",
            "26) Mean Squared Error: 107.25397652020975.\n",
            "27) Mean Squared Error: 62.52843359141603.\n",
            "28) Mean Squared Error: 65.00904923579385.\n",
            "29) Mean Squared Error: 77.75889082618264.\n",
            "30) Mean Squared Error: 57.52876663571248.\n",
            "31) Mean Squared Error: 84.58196503728422.\n",
            "32) Mean Squared Error: 100.53045526837893.\n",
            "33) Mean Squared Error: 108.85053657687325.\n",
            "34) Mean Squared Error: 110.02668985190824.\n",
            "35) Mean Squared Error: 92.0843833337435.\n",
            "36) Mean Squared Error: 95.63164435113.\n",
            "37) Mean Squared Error: 116.44685027765034.\n",
            "38) Mean Squared Error: 108.19495670089178.\n",
            "39) Mean Squared Error: 55.93911517850752.\n",
            "40) Mean Squared Error: 93.64891635756175.\n",
            "41) Mean Squared Error: 101.90869098025709.\n",
            "42) Mean Squared Error: 72.6884404153162.\n",
            "43) Mean Squared Error: 49.05424555587177.\n",
            "44) Mean Squared Error: 114.19940740366746.\n",
            "45) Mean Squared Error: 113.34467729835798.\n",
            "46) Mean Squared Error: 51.784285313961675.\n",
            "47) Mean Squared Error: 113.47217778939802.\n",
            "48) Mean Squared Error: 94.21613522864631.\n",
            "49) Mean Squared Error: 102.10934421999245.\n"
          ],
          "name": "stdout"
        }
      ]
    },
    {
      "cell_type": "code",
      "metadata": {
        "id": "Cez3282pF9J9",
        "colab_type": "code",
        "outputId": "2094b6b6-9800-4c12-e83e-d1f42ce94e26",
        "colab": {
          "base_uri": "https://localhost:8080/",
          "height": 51
        }
      },
      "source": [
        "print('Mean of MSE: {}'.format(np.mean(MSE)))\n",
        "print('Standard deviation of MSE: {}'.format(np.std(MSE)))"
      ],
      "execution_count": 0,
      "outputs": [
        {
          "output_type": "stream",
          "text": [
            "Mean of MSE: 86.41497713579125\n",
            "Standard deviation of MSE: 22.2545782834827\n"
          ],
          "name": "stdout"
        }
      ]
    },
    {
      "cell_type": "markdown",
      "metadata": {
        "id": "K49rS4CvI-dW",
        "colab_type": "text"
      },
      "source": [
        "**Pard D) Normalized data on 100 epochs on a 3 layer densed network**\n",
        "\n",
        "Mean of MSE: 86.41497713579125\n",
        "\n",
        "Standard deviation of MSE: 22.2545782834827\n",
        "\n",
        "---\n",
        "\n",
        "**Part B)**\n",
        "\n",
        "Mean of MSE: 340.7533048873136\n",
        "\n",
        "Standard deviation of MSE: 86.11274215455198\n",
        "\n",
        "Increasing the number of layers in the network in part D on normalized data reduced the MSE. It means the model's prediction quality has improved. The standard deviation has slightly increased."
      ]
    }
  ]
}