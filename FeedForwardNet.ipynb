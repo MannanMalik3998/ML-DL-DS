{
  "nbformat": 4,
  "nbformat_minor": 0,
  "metadata": {
    "colab": {
      "name": "FeedForwardNet.ipynb",
      "provenance": []
    },
    "kernelspec": {
      "name": "python3",
      "display_name": "Python 3"
    }
  },
  "cells": [
    {
      "cell_type": "markdown",
      "metadata": {
        "id": "hvWbPZW70FQA",
        "colab_type": "text"
      },
      "source": [
        "First try"
      ]
    },
    {
      "cell_type": "code",
      "metadata": {
        "id": "NvE-v9iUsWWD",
        "colab_type": "code",
        "colab": {
          "base_uri": "https://localhost:8080/",
          "height": 621
        },
        "outputId": "52a263a9-26b2-4c9e-98d6-c53b3993dd3a"
      },
      "source": [
        "from numpy import exp, array, random, dot\n",
        "\n",
        "#Definining a class for model\n",
        "class sequential():\n",
        "\n",
        "    def __init__(self):\n",
        "\n",
        "        #initialing the seed\n",
        "        random.seed(1)\n",
        "        self.weights = 2 * random.random((3, 1)) - 1 #Initializing weights\n",
        "\n",
        "    def sigmoid(self, x):\n",
        "        return 1 / (1 + exp(-x))#Sigmoid function\n",
        "\n",
        "    def calcSlope(self, x):\n",
        "        return x * (1 - x) #Slope \n",
        "\n",
        "    def predict(self, X):\n",
        "        return self.sigmoid(dot(X, self.weights)) #Activation\n",
        "\n",
        "    def predict_class(self, X):\n",
        "        if(self.predict(X)>0.5):\n",
        "          return 1\n",
        "        else:\n",
        "          return 0  \n",
        "    \n",
        "    def train(self, X, y, epochs):\n",
        "\n",
        "        for i in range(epochs): #Iterations aka epochs\n",
        "\n",
        "            y_pred = self.predict(X) # label predicted by network, (single neuron)\n",
        "\n",
        "            error = y - y_pred # Calculating error\n",
        "\n",
        "            weight_update = dot(X.T, error * self.calcSlope(y_pred)) \n",
        "\n",
        "            # Updating weights on the basis of slope, \n",
        "            # each weight gets updated on the basis of its contribution in error\n",
        "\n",
        "            self.weights += weight_update\n",
        "\n",
        "#Dataset\n",
        "X = array([[0, 0, 1], [1, 1, 1], [1, 0, 1], [0, 1, 1]])\n",
        "y = array([[0, 1, 1, 0]]).T\n",
        "\n",
        "\n",
        "print ('\\n Input:')\n",
        "print(X)\n",
        "\n",
        "print ('\\n Actual Output:')\n",
        "print(y)\n",
        "\n",
        "model = sequential() #Instantiating model\n",
        "\n",
        "print (\"\\nWeights before training: \")\n",
        "print (model.weights)\n",
        "\n",
        "#Training on 10000 epochs\n",
        "model.train(X, y, 5000)\n",
        "\n",
        "print (\"\\nWeights after training: \")\n",
        "print (model.weights)\n",
        "\n",
        "print ('\\n\\n*************************\\nPrediction:')\n",
        "\n",
        "print (\"\\n\\nTesting on [1, 0, 0]:\")\n",
        "print (model.predict_class(array([1, 0, 0]))) \n",
        "\n",
        "print (\"\\n\\nTesting on [0, 0, 1]:\")\n",
        "print (model.predict_class(array([0, 0, 1]))) "
      ],
      "execution_count": 1,
      "outputs": [
        {
          "output_type": "stream",
          "text": [
            "\n",
            " Input:\n",
            "[[0 0 1]\n",
            " [1 1 1]\n",
            " [1 0 1]\n",
            " [0 1 1]]\n",
            "\n",
            " Actual Output:\n",
            "[[0]\n",
            " [1]\n",
            " [1]\n",
            " [0]]\n",
            "\n",
            "Weights before training: \n",
            "[[-0.16595599]\n",
            " [ 0.44064899]\n",
            " [-0.99977125]]\n",
            "\n",
            "Weights after training: \n",
            "[[ 8.95950703]\n",
            " [-0.20975775]\n",
            " [-4.27128529]]\n",
            "\n",
            "\n",
            "*************************\n",
            "Prediction:\n",
            "\n",
            "\n",
            "Testing on [1, 0, 0]:\n",
            "1\n",
            "\n",
            "\n",
            "Testing on [0, 0, 1]:\n",
            "0\n"
          ],
          "name": "stdout"
        }
      ]
    },
    {
      "cell_type": "markdown",
      "metadata": {
        "id": "z75T96En0IbO",
        "colab_type": "text"
      },
      "source": [
        "Second Try"
      ]
    },
    {
      "cell_type": "code",
      "metadata": {
        "id": "cy5xtx0Uzv-a",
        "colab_type": "code",
        "colab": {}
      },
      "source": [
        "import numpy as np\n",
        "\n",
        "X=np.array([ \n",
        "             [1,0,1,0],\n",
        "             [1,0,1,1],\n",
        "             [0,1,0,1]\n",
        "           ])\n",
        "\n",
        "y=np.array([[1],[1],[0]])\n"
      ],
      "execution_count": 0,
      "outputs": []
    },
    {
      "cell_type": "code",
      "metadata": {
        "id": "2fB44V8e9Z6g",
        "colab_type": "code",
        "colab": {
          "base_uri": "https://localhost:8080/",
          "height": 727
        },
        "outputId": "15f4aeba-8aae-44d4-c3ee-26ade74d54be"
      },
      "source": [
        "class sequential2():\n",
        "\n",
        "    def __init__(self):\n",
        "      # initializing the variables\n",
        "        # self.epoch=5000 \n",
        "        self.lr=0.1 \n",
        "\n",
        "        # initializing weight and bias\n",
        "        self.w1=np.random.uniform(size=(X.shape[1],3))\n",
        "        self.b1=np.random.uniform(size=(1,3))\n",
        "        self.w2=np.random.uniform(size=(3,1))\n",
        "        self.b2=np.random.uniform(size=(1,1))\n",
        "\n",
        "        self.z1=0\n",
        "        self.z2=0\n",
        "        self.a1=0\n",
        "        self.a2=0\n",
        "        print('\\nWeights before training:\\nwh:\\n{} \\nwout: \\n{} \\n'.format(self.w1,self.w2))\n",
        "\n",
        "\n",
        "\n",
        "    def sigmoid (self,x):\n",
        "        return 1/(1 + np.exp(-x))\n",
        "\n",
        "    def calc_slope(self,x):\n",
        "        return x * (1 - x)\n",
        "\n",
        "    def predict(self,X):\n",
        "        #Forward prop\n",
        "        self.z1=np.dot(X,self.w1)\n",
        "        self.z1=self.z1 + self.b1\n",
        "        self.a1 = self.sigmoid(self.z1)#activation\n",
        "\n",
        "        self.z2=np.dot(self.a1,self.w2)\n",
        "        self.z2= self.z2+ self.b2\n",
        "        self.a2 =self.sigmoid(self.z2)\n",
        "        return self.a2\n",
        "\n",
        "    def predict_class(self, X):\n",
        "        if(self.predict(X)>0.5):\n",
        "          return 1\n",
        "        else:\n",
        "          return 0  \n",
        "\n",
        "    def train(self,X, epoch):\n",
        "\n",
        "      # training the model\n",
        "        for i in range(epoch):\n",
        "\n",
        "            #forward propagation\n",
        "            self.predict(X)\n",
        "\n",
        "            #Backpropagation\n",
        "            \n",
        "            #calculating error\n",
        "            E = y-self.a2\n",
        "\n",
        "            #calculating slopes\n",
        "            l2 = self.calc_slope(self.a2)\n",
        "            l1 = self.calc_slope(self.a1)\n",
        "\n",
        "            d2 = E * l2\n",
        "            e1 = d2.dot(self.w2.T)\n",
        "            d1 = e1 * l1\n",
        "\n",
        "            #Updation of weights and biases with respect to error and learning rate\n",
        "            # T = transpose\n",
        "            self.w2 += self.a1.T.dot(d2) *self.lr\n",
        "            self.b2 += np.sum(d2, axis=0,keepdims=True) *self.lr\n",
        "            self.w1 += X.T.dot(d1) *self.lr\n",
        "            self.b1 += np.sum(d1, axis=0,keepdims=True) *self.lr\n",
        "\n",
        "        print('\\nWeights after training:\\nwh: \\n{}\\nwout: \\n{}'.format(self.w1,self.w2))\n",
        "\n",
        "print ('\\n Input:')\n",
        "print(X)\n",
        "\n",
        "print ('\\n Actual Output:')\n",
        "print(y)\n",
        "\n",
        "model = sequential2()\n",
        "model.train(X,5000)\n",
        "print ('\\n\\n*************************\\nPrediction:')\n",
        "\n",
        "print(model.predict_class([1,0,1,0]))\n",
        "print(model.predict_class([1,0,1,1]))\n",
        "print(model.predict_class([0,1,0,1]))"
      ],
      "execution_count": 3,
      "outputs": [
        {
          "output_type": "stream",
          "text": [
            "\n",
            " Input:\n",
            "[[1 0 1 0]\n",
            " [1 0 1 1]\n",
            " [0 1 0 1]]\n",
            "\n",
            " Actual Output:\n",
            "[[1]\n",
            " [1]\n",
            " [0]]\n",
            "\n",
            "Weights before training:\n",
            "wh:\n",
            "[[0.30233257 0.14675589 0.09233859]\n",
            " [0.18626021 0.34556073 0.39676747]\n",
            " [0.53881673 0.41919451 0.6852195 ]\n",
            " [0.20445225 0.87811744 0.02738759]] \n",
            "wout: \n",
            "[[0.14038694]\n",
            " [0.19810149]\n",
            " [0.80074457]] \n",
            "\n",
            "\n",
            "Weights after training:\n",
            "wh: \n",
            "[[ 0.12834561 -1.41338192  1.6931045 ]\n",
            " [ 0.41635588  1.39998964 -1.86176229]\n",
            " [ 0.36482977 -1.1409433   2.28598541]\n",
            " [ 0.32695637  0.86934366 -1.0568335 ]]\n",
            "wout: \n",
            "[[-0.38489259]\n",
            " [-3.07912606]\n",
            " [ 4.84661501]]\n",
            "\n",
            "\n",
            "*************************\n",
            "Prediction:\n",
            "1\n",
            "1\n",
            "0\n"
          ],
          "name": "stdout"
        }
      ]
    },
    {
      "cell_type": "markdown",
      "metadata": {
        "id": "yXcM2EH1IN_j",
        "colab_type": "text"
      },
      "source": [
        "Try 3 (XOR function)"
      ]
    },
    {
      "cell_type": "code",
      "metadata": {
        "id": "p7WgeC47GhtT",
        "colab_type": "code",
        "colab": {
          "base_uri": "https://localhost:8080/",
          "height": 567
        },
        "outputId": "cbd0db6f-c386-49a1-c269-678f28b95fdd"
      },
      "source": [
        "import numpy as np\n",
        "def sigmoid (x):\n",
        "    return 1/(1 + np.exp(-x))\n",
        " \n",
        "#Input data\n",
        "X = np.array([[0,0], [0,1], [1,0], [1,1]])\n",
        "y = np.array([ [0],   [1],   [1],   [0]])\n",
        "\n",
        "epochs = 50000 #was giving poor accuracy on smaller epochs\n",
        "LR = .3 # learning rate\n",
        "\n",
        "#Weight initialization \n",
        "w1 = np.random.uniform(size=(2, 3))\n",
        "w2 = np.random.uniform(size=(3, 1))\n",
        "\n",
        "print ('\\n Input:')\n",
        "print(X)\n",
        "\n",
        "print ('\\n Actual Output:')\n",
        "print(y)\n",
        "\n",
        "print('\\nWeights before training:\\nwh:\\n{} \\nwout: \\n{} \\n'.format(w1,w2))\n",
        "\n",
        "for i in range(epochs):\n",
        " \n",
        "    # Forward propagation\n",
        "    a = sigmoid(np.dot(X, w1))\n",
        "    y_pred = np.dot(a, w2)\n",
        "    \n",
        "    # Calculate error\n",
        "    e = y - y_pred\n",
        "    \n",
        "    # if i % 10000 == 0:\n",
        "    #     print(f'Error: {sum(e)}')\n",
        "\n",
        "    # Backward Propagation \n",
        "    #Weight updation\n",
        "    d2 = e * LR\n",
        "    w2 += a.T.dot(d2)\n",
        "    d1 = d2.dot(w2.T) * sigmoid(a)\n",
        "    w1 += X.T.dot(d1)\n",
        "\n",
        "\n",
        "print('\\nWeights after training:\\nwh: \\n{}\\nwout: \\n{}'.format(w1,w2))\n"
      ],
      "execution_count": 4,
      "outputs": [
        {
          "output_type": "stream",
          "text": [
            "\n",
            " Input:\n",
            "[[0 0]\n",
            " [0 1]\n",
            " [1 0]\n",
            " [1 1]]\n",
            "\n",
            " Actual Output:\n",
            "[[0]\n",
            " [1]\n",
            " [1]\n",
            " [0]]\n",
            "\n",
            "Weights before training:\n",
            "wh:\n",
            "[[0.31342418 0.69232262 0.87638915]\n",
            " [0.89460666 0.08504421 0.03905478]] \n",
            "wout: \n",
            "[[0.16983042]\n",
            " [0.8781425 ]\n",
            " [0.09834683]] \n",
            "\n",
            "\n",
            "Weights after training:\n",
            "wh: \n",
            "[[ 3.03000179e-01 -4.24453501e+02  4.25631797e+02]\n",
            " [ 1.18593982e+00  4.24350419e+02 -4.25734879e+02]]\n",
            "wout: \n",
            "[[3.60822483e-15]\n",
            " [5.12865101e-01]\n",
            " [5.12865101e-01]]\n"
          ],
          "name": "stdout"
        }
      ]
    },
    {
      "cell_type": "code",
      "metadata": {
        "id": "kZS2PwmjHdT6",
        "colab_type": "code",
        "colab": {
          "base_uri": "https://localhost:8080/",
          "height": 34
        },
        "outputId": "6f4acc79-5390-47ae-d891-9df788c30bdb"
      },
      "source": [
        "\n",
        "a = sigmoid(np.dot([1,1], w1))\n",
        "np.dot(a, w2)# hence 0"
      ],
      "execution_count": 8,
      "outputs": [
        {
          "output_type": "execute_result",
          "data": {
            "text/plain": [
              "array([0.4864549])"
            ]
          },
          "metadata": {
            "tags": []
          },
          "execution_count": 8
        }
      ]
    }
  ]
}