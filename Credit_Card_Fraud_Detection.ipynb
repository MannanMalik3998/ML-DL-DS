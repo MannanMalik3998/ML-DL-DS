{
  "nbformat": 4,
  "nbformat_minor": 0,
  "metadata": {
    "kernelspec": {
      "display_name": "Python [default]",
      "language": "python",
      "name": "python2"
    },
    "language_info": {
      "codemirror_mode": {
        "name": "ipython",
        "version": 2
      },
      "file_extension": ".py",
      "mimetype": "text/x-python",
      "name": "python",
      "nbconvert_exporter": "python",
      "pygments_lexer": "ipython2",
      "version": "2.7.13"
    },
    "colab": {
      "name": "Credit Card Fraud Detection.ipynb",
      "provenance": []
    }
  },
  "cells": [
    {
      "cell_type": "code",
      "metadata": {
        "id": "UwAvKpr4oGZa",
        "colab_type": "code",
        "colab": {}
      },
      "source": [
        "# import the necessary packages\n",
        "import numpy as np\n",
        "import pandas as pd\n",
        "import matplotlib.pyplot as plt\n",
        "import seaborn as sns"
      ],
      "execution_count": 0,
      "outputs": []
    },
    {
      "cell_type": "markdown",
      "metadata": {
        "id": "5R-Trp3UoGZh",
        "colab_type": "text"
      },
      "source": [
        "Loading data\n"
      ]
    },
    {
      "cell_type": "code",
      "metadata": {
        "id": "PttZBWEHoGZi",
        "colab_type": "code",
        "colab": {}
      },
      "source": [
        "# Load the dataset from the csv file using pandas\n",
        "data = pd.read_csv('https://raw.githubusercontent.com/nsethi31/Kaggle-Data-Credit-Card-Fraud-Detection/master/creditcard.csv')"
      ],
      "execution_count": 0,
      "outputs": []
    },
    {
      "cell_type": "code",
      "metadata": {
        "id": "hKGtkjaxoGZo",
        "colab_type": "code",
        "colab": {
          "base_uri": "https://localhost:8080/",
          "height": 102
        },
        "outputId": "5f13ebe7-123b-4f81-906c-eb4e1e8f6afe"
      },
      "source": [
        "# Start exploring the dataset\n",
        "print(data.columns)"
      ],
      "execution_count": 53,
      "outputs": [
        {
          "output_type": "stream",
          "text": [
            "Index([u'Time', u'V1', u'V2', u'V3', u'V4', u'V5', u'V6', u'V7', u'V8', u'V9',\n",
            "       u'V10', u'V11', u'V12', u'V13', u'V14', u'V15', u'V16', u'V17', u'V18',\n",
            "       u'V19', u'V20', u'V21', u'V22', u'V23', u'V24', u'V25', u'V26', u'V27',\n",
            "       u'V28', u'Amount', u'Class'],\n",
            "      dtype='object')\n"
          ],
          "name": "stdout"
        }
      ]
    },
    {
      "cell_type": "code",
      "metadata": {
        "id": "wdMozWeioGZu",
        "colab_type": "code",
        "colab": {
          "base_uri": "https://localhost:8080/",
          "height": 238
        },
        "outputId": "f298fc47-eb11-4610-a6e2-29ef0bcae569"
      },
      "source": [
        "# Print the shape of the data\n",
        "print(data.shape)\n",
        "#Taking just a fraction of data to learn about Local Outlier factor and isolation forest\n",
        "data = data.sample(frac=0.1, random_state = 1)\n",
        "print(data.shape)\n",
        "print(data.describe())\n",
        "\n",
        "# V1 - V28 are the results of a PCA Dimensionality reduction to protect user identities and sensitive features"
      ],
      "execution_count": 54,
      "outputs": [
        {
          "output_type": "stream",
          "text": [
            "(284807, 31)\n",
            "(28481, 31)\n",
            "                Time            V1  ...        Amount         Class\n",
            "count   28481.000000  28481.000000  ...  28481.000000  28481.000000\n",
            "mean    94705.035216     -0.001143  ...     89.957884      0.001720\n",
            "std     47584.727034      1.994661  ...    270.894630      0.041443\n",
            "min         0.000000    -40.470142  ...      0.000000      0.000000\n",
            "25%     53924.000000     -0.908809  ...      5.980000      0.000000\n",
            "50%     84551.000000      0.031139  ...     22.350000      0.000000\n",
            "75%    139392.000000      1.320048  ...     78.930000      0.000000\n",
            "max    172784.000000      2.411499  ...  19656.530000      1.000000\n",
            "\n",
            "[8 rows x 31 columns]\n"
          ],
          "name": "stdout"
        }
      ]
    },
    {
      "cell_type": "code",
      "metadata": {
        "id": "3_tWuq29oGZ9",
        "colab_type": "code",
        "colab": {
          "base_uri": "https://localhost:8080/",
          "height": 68
        },
        "outputId": "1ae3c9aa-5543-4af6-c4e4-ffe6a84382bd"
      },
      "source": [
        "# Determine number of fraud cases in dataset\n",
        "#Frauds are counted as outliers in the dataset\n",
        "\n",
        "Fraud = data[data['Class'] == 1]\n",
        "Valid = data[data['Class'] == 0]\n",
        "\n",
        "outlier_fraction = len(Fraud)/float(len(Valid))\n",
        "print(outlier_fraction)\n",
        "\n",
        "print('Fraud Cases: {}'.format(len(Fraud)))\n",
        "print('Valid Transactions: {}'.format(len(Valid)))\n",
        "\n"
      ],
      "execution_count": 55,
      "outputs": [
        {
          "output_type": "stream",
          "text": [
            "0.00172341024198\n",
            "Fraud Cases: 49\n",
            "Valid Transactions: 28432\n"
          ],
          "name": "stdout"
        }
      ]
    },
    {
      "cell_type": "markdown",
      "metadata": {
        "id": "Ffs1K4sVsucD",
        "colab_type": "text"
      },
      "source": [
        "Plotting correlation matrix"
      ]
    },
    {
      "cell_type": "code",
      "metadata": {
        "id": "_B4CdhpDoGaE",
        "colab_type": "code",
        "colab": {
          "base_uri": "https://localhost:8080/",
          "height": 285
        },
        "outputId": "8c232da1-4285-45fe-ac29-faa92e48d5f2"
      },
      "source": [
        "# Correlation matrix\n",
        "corrmat = data.corr()\n",
        "sns.heatmap(corrmat)\n",
        "plt.show()"
      ],
      "execution_count": 56,
      "outputs": [
        {
          "output_type": "display_data",
          "data": {
            "image/png": "[encoded data removed]",
            "text/plain": [
              "<Figure size 432x288 with 2 Axes>"
            ]
          },
          "metadata": {
            "tags": []
          }
        }
      ]
    },
    {
      "cell_type": "markdown",
      "metadata": {
        "id": "uC2WjfTSsl04",
        "colab_type": "text"
      },
      "source": [
        "Seperating the label and feature"
      ]
    },
    {
      "cell_type": "code",
      "metadata": {
        "id": "2pywQQ_zoGaK",
        "colab_type": "code",
        "colab": {
          "base_uri": "https://localhost:8080/",
          "height": 51
        },
        "outputId": "3bb6b704-29af-476d-a606-1a10fe6743a4"
      },
      "source": [
        "# Filter the columns to remove data we do not want\n",
        "columns = [c for c in data.columns.tolist() if c not in [\"Class\"]]\n",
        "\n",
        "X = data[columns]\n",
        "y = data[\"Class\"]\n",
        "\n",
        "#Can also use the following notation but the above one is preferred\n",
        "# X = data[data.columns[0:30]]\n",
        "\n",
        "# Print shapes\n",
        "print(X.shape)\n",
        "print(y.shape)"
      ],
      "execution_count": 57,
      "outputs": [
        {
          "output_type": "stream",
          "text": [
            "(28481, 30)\n",
            "(28481,)\n"
          ],
          "name": "stdout"
        }
      ]
    },
    {
      "cell_type": "markdown",
      "metadata": {
        "id": "RwKIV3H3oGaQ",
        "colab_type": "text"
      },
      "source": [
        "\n",
        "**Local Outlier Factor**\n",
        "The anomaly score of each sample is called Local Outlier Factor. It measures the local deviation of density of a given sample with respect to its neighbors. It is local in that the anomaly score depends on how isolated the object is with respect to the surrounding neighborhood. More precisely, locality is given by k-nearest neighbors, whose distance is used to estimate the local density. By comparing the local density of a sample to the local densities of its neighbors, one can identify samples that have a substantially lower density than their neighbors. These are considered outliers.\n",
        "\n",
        "**Isolation Forest Algorithm**\n",
        "\n",
        "The IsolationForest ‘isolates’ observations by randomly selecting a feature and then randomly selecting \n",
        "a split value between the maximum and minimum values of the selected feature.\n"
      ]
    },
    {
      "cell_type": "code",
      "metadata": {
        "id": "buA1fUwj4RmB",
        "colab_type": "code",
        "colab": {}
      },
      "source": [
        "from sklearn.metrics import classification_report, accuracy_score\n",
        "from sklearn.ensemble import IsolationForest\n",
        "from sklearn.neighbors import LocalOutlierFactor\n",
        "\n",
        "lof= LocalOutlierFactor(\n",
        "        n_neighbors=20,\n",
        "        contamination=outlier_fraction)"
      ],
      "execution_count": 0,
      "outputs": []
    },
    {
      "cell_type": "markdown",
      "metadata": {
        "id": "Kn56VcDu-BXi",
        "colab_type": "text"
      },
      "source": [
        "**Local outlier factor**"
      ]
    },
    {
      "cell_type": "code",
      "metadata": {
        "id": "VJcFmKPt4h6P",
        "colab_type": "code",
        "colab": {
          "base_uri": "https://localhost:8080/",
          "height": 221
        },
        "outputId": "424fdca3-c72a-4c7e-d919-006fd7166db2"
      },
      "source": [
        "y_pred = lof.fit_predict(X)\n",
        "\n",
        "# Change the prediction values to 0 for valid, 1 for fraud. \n",
        "y_pred[y_pred == 1] = 0\n",
        "y_pred[y_pred == -1] = 1\n",
        "\n",
        "n_errors = (y_pred != y).sum()\n",
        "\n",
        "# Run classification metrics\n",
        "print('Number of predicted values: {}\\nLocal outlier factor: {}'.format(len(y_pred),n_errors))\n",
        "print('Accuracy: ',accuracy_score(y, y_pred))\n",
        "print(classification_report(y, y_pred))\n"
      ],
      "execution_count": 59,
      "outputs": [
        {
          "output_type": "stream",
          "text": [
            "Number of predicted values: 28481\n",
            "Local outlier factor: 97\n",
            "('Accuracy: ', 0.9965942207085425)\n",
            "              precision    recall  f1-score   support\n",
            "\n",
            "           0       1.00      1.00      1.00     28432\n",
            "           1       0.02      0.02      0.02        49\n",
            "\n",
            "   micro avg       1.00      1.00      1.00     28481\n",
            "   macro avg       0.51      0.51      0.51     28481\n",
            "weighted avg       1.00      1.00      1.00     28481\n",
            "\n"
          ],
          "name": "stdout"
        }
      ]
    },
    {
      "cell_type": "markdown",
      "metadata": {
        "id": "qSWk7ao2-FPY",
        "colab_type": "text"
      },
      "source": [
        "**Isolation Forest**"
      ]
    },
    {
      "cell_type": "code",
      "metadata": {
        "id": "UkePUaAjoGaR",
        "colab_type": "code",
        "colab": {
          "base_uri": "https://localhost:8080/",
          "height": 238
        },
        "outputId": "b6d07068-e5dc-43c6-bf04-df68be2cba4e"
      },
      "source": [
        "iso= IsolationForest(max_samples=len(X),contamination=outlier_fraction,random_state=1)\n",
        "\n",
        "iso.fit(X)\n",
        "\n",
        "y_pred = iso.predict(X)\n",
        "# Reshape the prediction values to 0 for valid, 1 for fraud. \n",
        "y_pred[y_pred == 1] = 0\n",
        "y_pred[y_pred == -1] = 1\n",
        "\n",
        "n_errors = (y_pred != Y).sum()\n",
        "\n",
        "# Run classification metrics\n",
        "print('Isolation forest: {}'.format(n_errors))\n",
        "print('Accuracy: ',accuracy_score(y, y_pred))\n",
        "print(classification_report(y, y_pred))\n"
      ],
      "execution_count": 60,
      "outputs": [
        {
          "output_type": "stream",
          "text": [
            "/usr/local/lib/python2.7/dist-packages/sklearn/ensemble/iforest.py:417: DeprecationWarning: threshold_ attribute is deprecated in 0.20 and will be removed in 0.22.\n",
            "  \" be removed in 0.22.\", DeprecationWarning)\n"
          ],
          "name": "stderr"
        },
        {
          "output_type": "stream",
          "text": [
            "Isolation forest: 71\n",
            "('Accuracy: ', 0.99750711000316)\n",
            "              precision    recall  f1-score   support\n",
            "\n",
            "           0       1.00      1.00      1.00     28432\n",
            "           1       0.28      0.29      0.28        49\n",
            "\n",
            "   micro avg       1.00      1.00      1.00     28481\n",
            "   macro avg       0.64      0.64      0.64     28481\n",
            "weighted avg       1.00      1.00      1.00     28481\n",
            "\n"
          ],
          "name": "stdout"
        }
      ]
    }
  ]
}