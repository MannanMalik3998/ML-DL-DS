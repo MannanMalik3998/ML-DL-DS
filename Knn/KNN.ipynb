{
  "nbformat": 4,
  "nbformat_minor": 0,
  "metadata": {
    "colab": {
      "name": "16k-3620.ipynb",
      "provenance": []
    },
    "kernelspec": {
      "name": "python3",
      "display_name": "Python 3"
    },
    "accelerator": "GPU"
  },
  "cells": [
    {
      "cell_type": "code",
      "metadata": {
        "id": "a7BeAkV-u1hC",
        "colab_type": "code",
        "colab": {}
      },
      "source": [
        "import pandas\n",
        "from sklearn.model_selection import train_test_split\n",
        "from sklearn.metrics import classification_report\n",
        "from sklearn.metrics import confusion_matrix\n",
        "from sklearn.metrics import accuracy_score\n",
        "from sklearn.neighbors import KNeighborsClassifier\n",
        "\n",
        "#paths to files\n",
        "iris_data_path=\"/content/drive/My Drive/Sem8/DS/Labs/Lab4/Iris/iris.data\"\n",
        "datatraining='/content/drive/My Drive/Sem8/DS/Labs/Lab4/Occupency_Detection/datatraining.txt'\n",
        "datatestpath='/content/drive/My Drive/Sem8/DS/Labs/Lab4/Occupency_Detection/datatest.txt'\n",
        "datatest2path='/content/drive/My Drive/Sem8/DS/Labs/Lab4/Occupency_Detection/datatest2.txt'\n"
      ],
      "execution_count": 0,
      "outputs": []
    },
    {
      "cell_type": "markdown",
      "metadata": {
        "id": "Ij3RM_hr0P7f",
        "colab_type": "text"
      },
      "source": [
        "**Task1**"
      ]
    },
    {
      "cell_type": "code",
      "metadata": {
        "id": "ATBdknEfvaVP",
        "colab_type": "code",
        "colab": {}
      },
      "source": [
        "# Load data set using pandas library\n",
        "names = ['sepal-length', 'sepal-width', 'petal-length', 'petal-width', 'class']\n",
        "dataset = pandas.read_csv(iris_data_path, names=names)"
      ],
      "execution_count": 0,
      "outputs": []
    },
    {
      "cell_type": "code",
      "metadata": {
        "id": "Yt52VRhavo6P",
        "colab_type": "code",
        "outputId": "b1a7a58b-6aa7-4ad7-a48b-33ff7e76c5e5",
        "colab": {
          "base_uri": "https://localhost:8080/",
          "height": 34
        }
      },
      "source": [
        "dataset.shape"
      ],
      "execution_count": 0,
      "outputs": [
        {
          "output_type": "execute_result",
          "data": {
            "text/plain": [
              "(150, 5)"
            ]
          },
          "metadata": {
            "tags": []
          },
          "execution_count": 4
        }
      ]
    },
    {
      "cell_type": "code",
      "metadata": {
        "id": "QTB0LwuQvss6",
        "colab_type": "code",
        "outputId": "98c5b015-f2a1-480f-bc8b-4426817a972d",
        "colab": {
          "base_uri": "https://localhost:8080/",
          "height": 102
        }
      },
      "source": [
        "dataset.groupby('class').size()"
      ],
      "execution_count": 0,
      "outputs": [
        {
          "output_type": "execute_result",
          "data": {
            "text/plain": [
              "class\n",
              "Iris-setosa        50\n",
              "Iris-versicolor    50\n",
              "Iris-virginica     50\n",
              "dtype: int64"
            ]
          },
          "metadata": {
            "tags": []
          },
          "execution_count": 5
        }
      ]
    },
    {
      "cell_type": "code",
      "metadata": {
        "id": "-HciMaqXvxPd",
        "colab_type": "code",
        "colab": {}
      },
      "source": [
        "array = dataset.values\n",
        "X = array[:,0:4]\n",
        "Y = array[:,4]\n",
        "t_size = 0.20\n",
        "seed = 7\n",
        "X_train, X_test, Y_train, Y_test = train_test_split(X, Y, test_size=t_size, random_state=seed)"
      ],
      "execution_count": 0,
      "outputs": []
    },
    {
      "cell_type": "code",
      "metadata": {
        "id": "MXJ7_3Mt9RRg",
        "colab_type": "code",
        "outputId": "5f0c9528-1369-462a-8336-5754fbf0f354",
        "colab": {
          "base_uri": "https://localhost:8080/",
          "height": 419
        }
      },
      "source": [
        "dataset"
      ],
      "execution_count": 0,
      "outputs": [
        {
          "output_type": "execute_result",
          "data": {
            "text/html": [
              "<div>\n",
              "<style scoped>\n",
              "    .dataframe tbody tr th:only-of-type {\n",
              "        vertical-align: middle;\n",
              "    }\n",
              "\n",
              "    .dataframe tbody tr th {\n",
              "        vertical-align: top;\n",
              "    }\n",
              "\n",
              "    .dataframe thead th {\n",
              "        text-align: right;\n",
              "    }\n",
              "</style>\n",
              "<table border=\"1\" class=\"dataframe\">\n",
              "  <thead>\n",
              "    <tr style=\"text-align: right;\">\n",
              "      <th></th>\n",
              "      <th>sepal-length</th>\n",
              "      <th>sepal-width</th>\n",
              "      <th>petal-length</th>\n",
              "      <th>petal-width</th>\n",
              "      <th>class</th>\n",
              "    </tr>\n",
              "  </thead>\n",
              "  <tbody>\n",
              "    <tr>\n",
              "      <th>0</th>\n",
              "      <td>5.1</td>\n",
              "      <td>3.5</td>\n",
              "      <td>1.4</td>\n",
              "      <td>0.2</td>\n",
              "      <td>Iris-setosa</td>\n",
              "    </tr>\n",
              "    <tr>\n",
              "      <th>1</th>\n",
              "      <td>4.9</td>\n",
              "      <td>3.0</td>\n",
              "      <td>1.4</td>\n",
              "      <td>0.2</td>\n",
              "      <td>Iris-setosa</td>\n",
              "    </tr>\n",
              "    <tr>\n",
              "      <th>2</th>\n",
              "      <td>4.7</td>\n",
              "      <td>3.2</td>\n",
              "      <td>1.3</td>\n",
              "      <td>0.2</td>\n",
              "      <td>Iris-setosa</td>\n",
              "    </tr>\n",
              "    <tr>\n",
              "      <th>3</th>\n",
              "      <td>4.6</td>\n",
              "      <td>3.1</td>\n",
              "      <td>1.5</td>\n",
              "      <td>0.2</td>\n",
              "      <td>Iris-setosa</td>\n",
              "    </tr>\n",
              "    <tr>\n",
              "      <th>4</th>\n",
              "      <td>5.0</td>\n",
              "      <td>3.6</td>\n",
              "      <td>1.4</td>\n",
              "      <td>0.2</td>\n",
              "      <td>Iris-setosa</td>\n",
              "    </tr>\n",
              "    <tr>\n",
              "      <th>...</th>\n",
              "      <td>...</td>\n",
              "      <td>...</td>\n",
              "      <td>...</td>\n",
              "      <td>...</td>\n",
              "      <td>...</td>\n",
              "    </tr>\n",
              "    <tr>\n",
              "      <th>145</th>\n",
              "      <td>6.7</td>\n",
              "      <td>3.0</td>\n",
              "      <td>5.2</td>\n",
              "      <td>2.3</td>\n",
              "      <td>Iris-virginica</td>\n",
              "    </tr>\n",
              "    <tr>\n",
              "      <th>146</th>\n",
              "      <td>6.3</td>\n",
              "      <td>2.5</td>\n",
              "      <td>5.0</td>\n",
              "      <td>1.9</td>\n",
              "      <td>Iris-virginica</td>\n",
              "    </tr>\n",
              "    <tr>\n",
              "      <th>147</th>\n",
              "      <td>6.5</td>\n",
              "      <td>3.0</td>\n",
              "      <td>5.2</td>\n",
              "      <td>2.0</td>\n",
              "      <td>Iris-virginica</td>\n",
              "    </tr>\n",
              "    <tr>\n",
              "      <th>148</th>\n",
              "      <td>6.2</td>\n",
              "      <td>3.4</td>\n",
              "      <td>5.4</td>\n",
              "      <td>2.3</td>\n",
              "      <td>Iris-virginica</td>\n",
              "    </tr>\n",
              "    <tr>\n",
              "      <th>149</th>\n",
              "      <td>5.9</td>\n",
              "      <td>3.0</td>\n",
              "      <td>5.1</td>\n",
              "      <td>1.8</td>\n",
              "      <td>Iris-virginica</td>\n",
              "    </tr>\n",
              "  </tbody>\n",
              "</table>\n",
              "<p>150 rows × 5 columns</p>\n",
              "</div>"
            ],
            "text/plain": [
              "     sepal-length  sepal-width  petal-length  petal-width           class\n",
              "0             5.1          3.5           1.4          0.2     Iris-setosa\n",
              "1             4.9          3.0           1.4          0.2     Iris-setosa\n",
              "2             4.7          3.2           1.3          0.2     Iris-setosa\n",
              "3             4.6          3.1           1.5          0.2     Iris-setosa\n",
              "4             5.0          3.6           1.4          0.2     Iris-setosa\n",
              "..            ...          ...           ...          ...             ...\n",
              "145           6.7          3.0           5.2          2.3  Iris-virginica\n",
              "146           6.3          2.5           5.0          1.9  Iris-virginica\n",
              "147           6.5          3.0           5.2          2.0  Iris-virginica\n",
              "148           6.2          3.4           5.4          2.3  Iris-virginica\n",
              "149           5.9          3.0           5.1          1.8  Iris-virginica\n",
              "\n",
              "[150 rows x 5 columns]"
            ]
          },
          "metadata": {
            "tags": []
          },
          "execution_count": 7
        }
      ]
    },
    {
      "cell_type": "code",
      "metadata": {
        "id": "ShiMgoE1v1_9",
        "colab_type": "code",
        "outputId": "3afcd00e-4fa4-46c5-b02b-04ed9ba319e1",
        "colab": {
          "base_uri": "https://localhost:8080/",
          "height": 255
        }
      },
      "source": [
        "\n",
        "knn = KNeighborsClassifier() \n",
        "knn.fit(X_train, Y_train) \n",
        "predictions = knn.predict(X_test) \n",
        "print(accuracy_score(Y_test, predictions)) \n",
        "print(confusion_matrix(Y_test, predictions)) \n",
        "print(classification_report(Y_test, predictions))\n"
      ],
      "execution_count": 0,
      "outputs": [
        {
          "output_type": "stream",
          "text": [
            "0.9\n",
            "[[ 7  0  0]\n",
            " [ 0 11  1]\n",
            " [ 0  2  9]]\n",
            "                 precision    recall  f1-score   support\n",
            "\n",
            "    Iris-setosa       1.00      1.00      1.00         7\n",
            "Iris-versicolor       0.85      0.92      0.88        12\n",
            " Iris-virginica       0.90      0.82      0.86        11\n",
            "\n",
            "       accuracy                           0.90        30\n",
            "      macro avg       0.92      0.91      0.91        30\n",
            "   weighted avg       0.90      0.90      0.90        30\n",
            "\n"
          ],
          "name": "stdout"
        }
      ]
    },
    {
      "cell_type": "code",
      "metadata": {
        "id": "tvSDIJCLw832",
        "colab_type": "code",
        "outputId": "5e383ce1-bfa9-4de8-ba06-2cde5df4dcba",
        "colab": {
          "base_uri": "https://localhost:8080/",
          "height": 204
        }
      },
      "source": [
        "print(\"Changing the value of neighbours\\n\")\n",
        "for i in range(1,10):\n",
        "  #k value changed\n",
        "  knn = KNeighborsClassifier(i) \n",
        "  knn.fit(X_train, Y_train) \n",
        "  predictions = knn.predict(X_test) \n",
        "  print(\"K= {0}, Accuracy = {1}\".format(i,accuracy_score(Y_test, predictions))) \n"
      ],
      "execution_count": 0,
      "outputs": [
        {
          "output_type": "stream",
          "text": [
            "Changing the value of neighbours\n",
            "\n",
            "K= 1, Accuracy = 0.9\n",
            "K= 2, Accuracy = 0.9333333333333333\n",
            "K= 3, Accuracy = 0.9\n",
            "K= 4, Accuracy = 0.9333333333333333\n",
            "K= 5, Accuracy = 0.9\n",
            "K= 6, Accuracy = 0.8666666666666667\n",
            "K= 7, Accuracy = 0.8666666666666667\n",
            "K= 8, Accuracy = 0.9\n",
            "K= 9, Accuracy = 0.9\n"
          ],
          "name": "stdout"
        }
      ]
    },
    {
      "cell_type": "code",
      "metadata": {
        "id": "FN6iqQuDx3jn",
        "colab_type": "code",
        "outputId": "ffe135e6-fbf0-4cc9-c50f-849106614068",
        "colab": {
          "base_uri": "https://localhost:8080/",
          "height": 204
        }
      },
      "source": [
        "print(\"Changing the value of seed\\n\")\n",
        "\n",
        "for i in range(1,10):\n",
        "  #seed value changed\n",
        "  seed = i\n",
        "  X_train, X_test, Y_train, Y_test = train_test_split(X, Y, test_size=t_size, random_state=seed)\n",
        "\n",
        "  knn = KNeighborsClassifier() \n",
        "  knn.fit(X_train, Y_train) \n",
        "  predictions = knn.predict(X_test) \n",
        "  print(\"Seed= {0}, Accuracy = {1}\".format(i,accuracy_score(Y_test, predictions))) \n"
      ],
      "execution_count": 0,
      "outputs": [
        {
          "output_type": "stream",
          "text": [
            "Changing the value of seed\n",
            "\n",
            "Seed= 1, Accuracy = 1.0\n",
            "Seed= 2, Accuracy = 1.0\n",
            "Seed= 3, Accuracy = 0.9666666666666667\n",
            "Seed= 4, Accuracy = 0.9666666666666667\n",
            "Seed= 5, Accuracy = 0.9333333333333333\n",
            "Seed= 6, Accuracy = 0.9666666666666667\n",
            "Seed= 7, Accuracy = 0.9\n",
            "Seed= 8, Accuracy = 0.9\n",
            "Seed= 9, Accuracy = 1.0\n"
          ],
          "name": "stdout"
        }
      ]
    },
    {
      "cell_type": "markdown",
      "metadata": {
        "id": "h3mzQcVX0MDF",
        "colab_type": "text"
      },
      "source": [
        "**Task2**"
      ]
    },
    {
      "cell_type": "code",
      "metadata": {
        "id": "uB3V-6B_zC7S",
        "colab_type": "code",
        "outputId": "86eb199d-2aa9-4e08-aa83-44e23700ce52",
        "colab": {
          "base_uri": "https://localhost:8080/",
          "height": 419
        }
      },
      "source": [
        "names = ['date','Temperature', 'Humidity', 'Light', 'CO2', 'HumidityRatio','Occupancy']\n",
        "dataset = pandas.read_csv(datatraining, names=names,header=0)\n",
        "dataset.drop(dataset.index[0])\n",
        "dataset=dataset.drop(['date'],axis=1)\n",
        "dataset\n",
        "\n"
      ],
      "execution_count": 0,
      "outputs": [
        {
          "output_type": "execute_result",
          "data": {
            "text/html": [
              "<div>\n",
              "<style scoped>\n",
              "    .dataframe tbody tr th:only-of-type {\n",
              "        vertical-align: middle;\n",
              "    }\n",
              "\n",
              "    .dataframe tbody tr th {\n",
              "        vertical-align: top;\n",
              "    }\n",
              "\n",
              "    .dataframe thead th {\n",
              "        text-align: right;\n",
              "    }\n",
              "</style>\n",
              "<table border=\"1\" class=\"dataframe\">\n",
              "  <thead>\n",
              "    <tr style=\"text-align: right;\">\n",
              "      <th></th>\n",
              "      <th>Temperature</th>\n",
              "      <th>Humidity</th>\n",
              "      <th>Light</th>\n",
              "      <th>CO2</th>\n",
              "      <th>HumidityRatio</th>\n",
              "      <th>Occupancy</th>\n",
              "    </tr>\n",
              "  </thead>\n",
              "  <tbody>\n",
              "    <tr>\n",
              "      <th>1</th>\n",
              "      <td>23.18</td>\n",
              "      <td>27.2720</td>\n",
              "      <td>426.0</td>\n",
              "      <td>721.250000</td>\n",
              "      <td>0.004793</td>\n",
              "      <td>1</td>\n",
              "    </tr>\n",
              "    <tr>\n",
              "      <th>2</th>\n",
              "      <td>23.15</td>\n",
              "      <td>27.2675</td>\n",
              "      <td>429.5</td>\n",
              "      <td>714.000000</td>\n",
              "      <td>0.004783</td>\n",
              "      <td>1</td>\n",
              "    </tr>\n",
              "    <tr>\n",
              "      <th>3</th>\n",
              "      <td>23.15</td>\n",
              "      <td>27.2450</td>\n",
              "      <td>426.0</td>\n",
              "      <td>713.500000</td>\n",
              "      <td>0.004779</td>\n",
              "      <td>1</td>\n",
              "    </tr>\n",
              "    <tr>\n",
              "      <th>4</th>\n",
              "      <td>23.15</td>\n",
              "      <td>27.2000</td>\n",
              "      <td>426.0</td>\n",
              "      <td>708.250000</td>\n",
              "      <td>0.004772</td>\n",
              "      <td>1</td>\n",
              "    </tr>\n",
              "    <tr>\n",
              "      <th>5</th>\n",
              "      <td>23.10</td>\n",
              "      <td>27.2000</td>\n",
              "      <td>426.0</td>\n",
              "      <td>704.500000</td>\n",
              "      <td>0.004757</td>\n",
              "      <td>1</td>\n",
              "    </tr>\n",
              "    <tr>\n",
              "      <th>...</th>\n",
              "      <td>...</td>\n",
              "      <td>...</td>\n",
              "      <td>...</td>\n",
              "      <td>...</td>\n",
              "      <td>...</td>\n",
              "      <td>...</td>\n",
              "    </tr>\n",
              "    <tr>\n",
              "      <th>8139</th>\n",
              "      <td>21.05</td>\n",
              "      <td>36.0975</td>\n",
              "      <td>433.0</td>\n",
              "      <td>787.250000</td>\n",
              "      <td>0.005579</td>\n",
              "      <td>1</td>\n",
              "    </tr>\n",
              "    <tr>\n",
              "      <th>8140</th>\n",
              "      <td>21.05</td>\n",
              "      <td>35.9950</td>\n",
              "      <td>433.0</td>\n",
              "      <td>789.500000</td>\n",
              "      <td>0.005563</td>\n",
              "      <td>1</td>\n",
              "    </tr>\n",
              "    <tr>\n",
              "      <th>8141</th>\n",
              "      <td>21.10</td>\n",
              "      <td>36.0950</td>\n",
              "      <td>433.0</td>\n",
              "      <td>798.500000</td>\n",
              "      <td>0.005596</td>\n",
              "      <td>1</td>\n",
              "    </tr>\n",
              "    <tr>\n",
              "      <th>8142</th>\n",
              "      <td>21.10</td>\n",
              "      <td>36.2600</td>\n",
              "      <td>433.0</td>\n",
              "      <td>820.333333</td>\n",
              "      <td>0.005621</td>\n",
              "      <td>1</td>\n",
              "    </tr>\n",
              "    <tr>\n",
              "      <th>8143</th>\n",
              "      <td>21.10</td>\n",
              "      <td>36.2000</td>\n",
              "      <td>447.0</td>\n",
              "      <td>821.000000</td>\n",
              "      <td>0.005612</td>\n",
              "      <td>1</td>\n",
              "    </tr>\n",
              "  </tbody>\n",
              "</table>\n",
              "<p>8143 rows × 6 columns</p>\n",
              "</div>"
            ],
            "text/plain": [
              "      Temperature  Humidity  Light         CO2  HumidityRatio  Occupancy\n",
              "1           23.18   27.2720  426.0  721.250000       0.004793          1\n",
              "2           23.15   27.2675  429.5  714.000000       0.004783          1\n",
              "3           23.15   27.2450  426.0  713.500000       0.004779          1\n",
              "4           23.15   27.2000  426.0  708.250000       0.004772          1\n",
              "5           23.10   27.2000  426.0  704.500000       0.004757          1\n",
              "...           ...       ...    ...         ...            ...        ...\n",
              "8139        21.05   36.0975  433.0  787.250000       0.005579          1\n",
              "8140        21.05   35.9950  433.0  789.500000       0.005563          1\n",
              "8141        21.10   36.0950  433.0  798.500000       0.005596          1\n",
              "8142        21.10   36.2600  433.0  820.333333       0.005621          1\n",
              "8143        21.10   36.2000  447.0  821.000000       0.005612          1\n",
              "\n",
              "[8143 rows x 6 columns]"
            ]
          },
          "metadata": {
            "tags": []
          },
          "execution_count": 13
        }
      ]
    },
    {
      "cell_type": "code",
      "metadata": {
        "id": "CQx8eJkk5IkX",
        "colab_type": "code",
        "outputId": "9864bc3c-08c8-4702-fde6-719749a70e84",
        "colab": {
          "base_uri": "https://localhost:8080/",
          "height": 527
        }
      },
      "source": [
        "#Test Set 1\n",
        "\n",
        "dataset2 = pandas.read_csv(datatestpath, names=names,header=0)\n",
        "dataset2.drop(dataset2.index[0])\n",
        "dataset2=dataset2.drop(['date'],axis=1)\n",
        "print(\"Test Set 1\")\n",
        "print(dataset2)\n",
        "\n",
        "#Test Set 2\n",
        "dataset3 = pandas.read_csv(datatest2path, names=names,header=0)\n",
        "dataset3.drop(dataset3.index[0])\n",
        "dataset3=dataset3.drop(['date'],axis=1)\n",
        "print(\"Test Set 2\")\n",
        "print(dataset3)"
      ],
      "execution_count": 0,
      "outputs": [
        {
          "output_type": "stream",
          "text": [
            "Test Set 1\n",
            "      Temperature   Humidity       Light          CO2  HumidityRatio  Occupancy\n",
            "140     23.700000  26.272000  585.200000   749.200000       0.004764          1\n",
            "141     23.718000  26.290000  578.400000   760.400000       0.004773          1\n",
            "142     23.730000  26.230000  572.666667   769.666667       0.004765          1\n",
            "143     23.722500  26.125000  493.750000   774.750000       0.004744          1\n",
            "144     23.754000  26.200000  488.600000   779.000000       0.004767          1\n",
            "...           ...        ...         ...          ...            ...        ...\n",
            "2800    24.290000  25.700000  808.000000  1150.250000       0.004829          1\n",
            "2801    24.330000  25.736000  809.800000  1129.200000       0.004848          1\n",
            "2802    24.330000  25.700000  817.000000  1125.800000       0.004841          1\n",
            "2803    24.356667  25.700000  813.000000  1123.000000       0.004849          1\n",
            "2804    24.408333  25.681667  798.000000  1124.000000       0.004860          1\n",
            "\n",
            "[2665 rows x 6 columns]\n",
            "Test Set 2\n",
            "      Temperature   Humidity       Light          CO2  HumidityRatio  Occupancy\n",
            "1         21.7600  31.133333  437.333333  1029.666667       0.005021          1\n",
            "2         21.7900  31.000000  437.333333  1000.000000       0.005009          1\n",
            "3         21.7675  31.122500  434.000000  1003.750000       0.005022          1\n",
            "4         21.7675  31.122500  439.000000  1009.500000       0.005022          1\n",
            "5         21.7900  31.133333  437.333333  1005.666667       0.005030          1\n",
            "...           ...        ...         ...          ...            ...        ...\n",
            "9748      20.8150  27.717500  429.750000  1505.250000       0.004213          1\n",
            "9749      20.8650  27.745000  423.500000  1514.500000       0.004230          1\n",
            "9750      20.8900  27.745000  423.500000  1521.500000       0.004237          1\n",
            "9751      20.8900  28.022500  418.750000  1632.000000       0.004279          1\n",
            "9752      21.0000  28.100000  409.000000  1864.000000       0.004321          1\n",
            "\n",
            "[9752 rows x 6 columns]\n"
          ],
          "name": "stdout"
        }
      ]
    },
    {
      "cell_type": "code",
      "metadata": {
        "id": "-TQ45xsg0ZZ9",
        "colab_type": "code",
        "outputId": "a2bd3fa7-048d-4a1c-d2fd-0a3ea2e40a06",
        "colab": {
          "base_uri": "https://localhost:8080/",
          "height": 68
        }
      },
      "source": [
        "print(dataset.shape)\n",
        "print(dataset2.shape)\n",
        "print(dataset3.shape)\n"
      ],
      "execution_count": 0,
      "outputs": [
        {
          "output_type": "stream",
          "text": [
            "(8143, 6)\n",
            "(2665, 6)\n",
            "(9752, 6)\n"
          ],
          "name": "stdout"
        }
      ]
    },
    {
      "cell_type": "code",
      "metadata": {
        "id": "CV5LY5ZE4-3q",
        "colab_type": "code",
        "colab": {}
      },
      "source": [
        "array = dataset.values\n",
        "X_train = array[:,0:5]\n",
        "y_train = array[:,5]\n",
        "\n",
        "array = dataset2.values\n",
        "X_test=  array[:,0:5]\n",
        "y_test = array[:,5]\n",
        "\n",
        "array = dataset3.values\n",
        "X2_test=  array[:,0:5]\n",
        "y2_test = array[:,5]"
      ],
      "execution_count": 0,
      "outputs": []
    },
    {
      "cell_type": "code",
      "metadata": {
        "id": "Mb0Syx3S7Ny3",
        "colab_type": "code",
        "outputId": "f3ce1bf8-e2c2-47e7-9fb7-6bba1bdb6d58",
        "colab": {
          "base_uri": "https://localhost:8080/",
          "height": 221
        }
      },
      "source": [
        "#Dataset 1\n",
        "knn = KNeighborsClassifier() \n",
        "knn.fit(X_train, y_train) \n",
        "predictions = knn.predict(X_test) \n",
        "print(accuracy_score(y_test, predictions)) \n",
        "print(confusion_matrix(y_test, predictions)) \n",
        "print(classification_report(y_test, predictions))\n"
      ],
      "execution_count": 0,
      "outputs": [
        {
          "output_type": "stream",
          "text": [
            "0.9425891181988743\n",
            "[[1645   48]\n",
            " [ 105  867]]\n",
            "              precision    recall  f1-score   support\n",
            "\n",
            "         0.0       0.94      0.97      0.96      1693\n",
            "         1.0       0.95      0.89      0.92       972\n",
            "\n",
            "    accuracy                           0.94      2665\n",
            "   macro avg       0.94      0.93      0.94      2665\n",
            "weighted avg       0.94      0.94      0.94      2665\n",
            "\n"
          ],
          "name": "stdout"
        }
      ]
    },
    {
      "cell_type": "code",
      "metadata": {
        "id": "YFNL18Gl9zbY",
        "colab_type": "code",
        "outputId": "3bdefae8-f4a9-42fc-8067-63d3f1e53d5a",
        "colab": {
          "base_uri": "https://localhost:8080/",
          "height": 221
        }
      },
      "source": [
        "#Dataset 2\n",
        " \n",
        "predictions = knn.predict(X2_test) \n",
        "print(accuracy_score(y2_test, predictions)) \n",
        "print(confusion_matrix(y2_test, predictions)) \n",
        "print(classification_report(y2_test, predictions))\n"
      ],
      "execution_count": 0,
      "outputs": [
        {
          "output_type": "stream",
          "text": [
            "0.9621616078753076\n",
            "[[7385  318]\n",
            " [  51 1998]]\n",
            "              precision    recall  f1-score   support\n",
            "\n",
            "         0.0       0.99      0.96      0.98      7703\n",
            "         1.0       0.86      0.98      0.92      2049\n",
            "\n",
            "    accuracy                           0.96      9752\n",
            "   macro avg       0.93      0.97      0.95      9752\n",
            "weighted avg       0.97      0.96      0.96      9752\n",
            "\n"
          ],
          "name": "stdout"
        }
      ]
    },
    {
      "cell_type": "code",
      "metadata": {
        "id": "DyF03Eba-0zQ",
        "colab_type": "code",
        "outputId": "144c16bf-b8a7-433b-a845-c5eea76b3fec",
        "colab": {
          "base_uri": "https://localhost:8080/",
          "height": 425
        }
      },
      "source": [
        "print(\"Changing the value of neighbours\\n\")\n",
        "print(\"Test set 1\\n\")\n",
        "#on test set 1\n",
        "for i in range(1,10):\n",
        "  #k value changed\n",
        "  knn = KNeighborsClassifier(i) \n",
        "  knn.fit(X_train, y_train) \n",
        "  predictions = knn.predict(X_test) \n",
        "  print(\"K= {0}, Accuracy = {1}\".format(i,accuracy_score(y_test, predictions))) \n",
        "\n",
        "print(\"Test set 2\\n\")\n",
        "\n",
        "#on test set 2\n",
        "for i in range(1,10):\n",
        "  #k value changed\n",
        "  knn = KNeighborsClassifier(i) \n",
        "  knn.fit(X_train, y_train) \n",
        "  predictions = knn.predict(X2_test) \n",
        "  print(\"K= {0}, Accuracy = {1}\".format(i,accuracy_score(y2_test, predictions))) "
      ],
      "execution_count": 0,
      "outputs": [
        {
          "output_type": "stream",
          "text": [
            "Changing the value of neighbours\n",
            "\n",
            "Test set 1\n",
            "\n",
            "K= 1, Accuracy = 0.9365853658536586\n",
            "K= 2, Accuracy = 0.9230769230769231\n",
            "K= 3, Accuracy = 0.9350844277673546\n",
            "K= 4, Accuracy = 0.9275797373358349\n",
            "K= 5, Accuracy = 0.9425891181988743\n",
            "K= 6, Accuracy = 0.9324577861163227\n",
            "K= 7, Accuracy = 0.9609756097560975\n",
            "K= 8, Accuracy = 0.9549718574108818\n",
            "K= 9, Accuracy = 0.9617260787992495\n",
            "Test set 2\n",
            "\n",
            "K= 1, Accuracy = 0.9502666119770303\n",
            "K= 2, Accuracy = 0.9525225594749795\n",
            "K= 3, Accuracy = 0.9579573420836751\n",
            "K= 4, Accuracy = 0.9539581624282198\n",
            "K= 5, Accuracy = 0.9621616078753076\n",
            "K= 6, Accuracy = 0.9628794093519278\n",
            "K= 7, Accuracy = 0.9649302707136997\n",
            "K= 8, Accuracy = 0.9658531583264971\n",
            "K= 9, Accuracy = 0.9656480721903199\n"
          ],
          "name": "stdout"
        }
      ]
    }
  ]
}