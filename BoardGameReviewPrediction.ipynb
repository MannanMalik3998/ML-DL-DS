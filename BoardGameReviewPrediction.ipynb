{
  "nbformat": 4,
  "nbformat_minor": 0,
  "metadata": {
    "colab": {
      "name": "BoardGamePrediction.ipynb",
      "provenance": []
    },
    "kernelspec": {
      "name": "python3",
      "display_name": "Python 3"
    },
    "accelerator": "GPU"
  },
  "cells": [
    {
      "cell_type": "markdown",
      "metadata": {
        "id": "MGR7XeAraPpB",
        "colab_type": "text"
      },
      "source": [
        "Necessary Imports and Data reading from link"
      ]
    },
    {
      "cell_type": "code",
      "metadata": {
        "id": "vgOj8Y6XWRhy",
        "colab_type": "code",
        "outputId": "dc606d0f-446b-402d-f05d-b5bbb88d20ac",
        "colab": {
          "base_uri": "https://localhost:8080/",
          "height": 147
        }
      },
      "source": [
        "#Necessary Imports\n",
        "import pandas as pd\n",
        "import matplotlib.pyplot as plt\n",
        "import seaborn as sns\n",
        "from sklearn.model_selection import train_test_split\n",
        "from sklearn.linear_model import LinearRegression\n",
        "from sklearn.metrics import mean_squared_error\n",
        "from sklearn.ensemble import RandomForestRegressor\n",
        "\n",
        "#Data reading from link\n",
        "boardGameData= pd.read_csv('https://raw.githubusercontent.com/ThaWeatherman/scrapers/master/boardgamegeek/games.csv')\n",
        "print(boardGameData.head())"
      ],
      "execution_count": 0,
      "outputs": [
        {
          "output_type": "stream",
          "text": [
            "       id       type  ... total_weights  average_weight\n",
            "0   12333  boardgame  ...          2562          3.4785\n",
            "1  120677  boardgame  ...          1423          3.8939\n",
            "2  102794  boardgame  ...           777          3.7761\n",
            "3   25613  boardgame  ...          1642          4.1590\n",
            "4    3076  boardgame  ...          5213          3.2943\n",
            "\n",
            "[5 rows x 20 columns]\n"
          ],
          "name": "stdout"
        }
      ]
    },
    {
      "cell_type": "markdown",
      "metadata": {
        "id": "o-LnvAgIaUui",
        "colab_type": "text"
      },
      "source": [
        "Description about data"
      ]
    },
    {
      "cell_type": "code",
      "metadata": {
        "id": "FjIx6A1_Wp8M",
        "colab_type": "code",
        "outputId": "7b59afe9-ee2c-49e5-892d-c06d62ce2f2a",
        "colab": {
          "base_uri": "https://localhost:8080/",
          "height": 212
        }
      },
      "source": [
        "#Description about data\n",
        "print(boardGameData.describe())\n",
        "print(boardGameData.shape)"
      ],
      "execution_count": 0,
      "outputs": [
        {
          "output_type": "stream",
          "text": [
            "                  id  yearpublished  ...  total_weights  average_weight\n",
            "count   81312.000000   81309.000000  ...   81312.000000    81312.000000\n",
            "mean    72278.150138    1806.630668  ...      16.488009        0.908083\n",
            "std     58818.237742     588.517834  ...     115.980285        1.176002\n",
            "min         1.000000   -3500.000000  ...       0.000000        0.000000\n",
            "25%     21339.750000    1984.000000  ...       0.000000        0.000000\n",
            "50%     43258.000000    2003.000000  ...       0.000000        0.000000\n",
            "75%    128836.500000    2010.000000  ...       2.000000        1.916700\n",
            "max    184451.000000    2018.000000  ...    5996.000000        5.000000\n",
            "\n",
            "[8 rows x 18 columns]\n",
            "(81312, 20)\n"
          ],
          "name": "stdout"
        }
      ]
    },
    {
      "cell_type": "markdown",
      "metadata": {
        "id": "QuR8ogryaceH",
        "colab_type": "text"
      },
      "source": [
        "Preprocessing (Removing unwanted values)"
      ]
    },
    {
      "cell_type": "code",
      "metadata": {
        "id": "ocCOxljxYJrg",
        "colab_type": "code",
        "outputId": "ede29d29-3d62-4d59-f2e3-efb20ac9ba85",
        "colab": {
          "base_uri": "https://localhost:8080/",
          "height": 265
        }
      },
      "source": [
        "games=boardGameData\n",
        "\n",
        "# Remove any rows without user reviews.\n",
        "games = games[games[\"users_rated\"] > 0]\n",
        "\n",
        "# Remove any rows with missing values.\n",
        "games = games.dropna(axis=0)\n",
        "\n",
        "#Removes any columns with missing values\n",
        "# games = games.dropna(axis=1)\n",
        "\n",
        "# Make a histogram of all the ratings in the average_rating column.\n",
        "plt.hist(games[\"average_rating\"])\n",
        "\n",
        "# Show the plot.\n",
        "plt.show()"
      ],
      "execution_count": 0,
      "outputs": [
        {
          "output_type": "display_data",
          "data": {
            "image/png": "[encoded data removed]",
            "text/plain": [
              "<Figure size 432x288 with 1 Axes>"
            ]
          },
          "metadata": {
            "tags": []
          }
        }
      ]
    },
    {
      "cell_type": "code",
      "metadata": {
        "id": "GJoVlthbdr2t",
        "colab_type": "code",
        "outputId": "b894f9d3-1b4f-4fbd-9b8e-b4637d08096d",
        "colab": {
          "base_uri": "https://localhost:8080/",
          "height": 265
        }
      },
      "source": [
        "games[['average_rating']].plot(kind='hist')\n",
        "plt.show()"
      ],
      "execution_count": 0,
      "outputs": [
        {
          "output_type": "display_data",
          "data": {
            "image/png": "[encoded data removed]",
            "text/plain": [
              "<Figure size 432x288 with 1 Axes>"
            ]
          },
          "metadata": {
            "tags": []
          }
        }
      ]
    },
    {
      "cell_type": "code",
      "metadata": {
        "id": "7fI8SGQkd6CK",
        "colab_type": "code",
        "outputId": "9f532dfe-bc55-4e36-98b3-3ce7183151d3",
        "colab": {
          "base_uri": "https://localhost:8080/",
          "height": 641
        }
      },
      "source": [
        "#correlation matrix\n",
        "corrmat = games.corr()\n",
        "fig = plt.figure(figsize = (12, 9))\n",
        "sns.heatmap(corrmat, vmax=.8, square=True);\n",
        "plt.show()"
      ],
      "execution_count": 0,
      "outputs": [
        {
          "output_type": "display_data",
          "data": {
            "image/png": "[encoded data removed]",
            "text/plain": [
              "<Figure size 864x648 with 2 Axes>"
            ]
          },
          "metadata": {
            "tags": []
          }
        }
      ]
    },
    {
      "cell_type": "markdown",
      "metadata": {
        "id": "DSPUazB4h6Ya",
        "colab_type": "text"
      },
      "source": [
        "Preparing data for training and testing"
      ]
    },
    {
      "cell_type": "code",
      "metadata": {
        "id": "6H20lqxRfOo3",
        "colab_type": "code",
        "outputId": "c25a7295-74b2-408c-ece9-f02d7eb3ebef",
        "colab": {
          "base_uri": "https://localhost:8080/",
          "height": 50
        }
      },
      "source": [
        "#features and labels\n",
        "X=games[ [ c for c in columns if c not in [\"bayes_average_rating\", \"average_rating\", \"type\", \"name\", \"id\"] ] ]\n",
        "y=games[\"average_rating\"]\n",
        "\n",
        "#Split into test and train\n",
        "X_train,X_test,y_train,y_test=train_test_split(X,y,test_size=0.2,random_state=1)\n",
        "\n",
        "# Print the shapes of both sets.\n",
        "print(X_train.shape)\n",
        "print(X_test.shape)"
      ],
      "execution_count": 0,
      "outputs": [
        {
          "output_type": "stream",
          "text": [
            "(45515, 15)\n",
            "(11379, 15)\n"
          ],
          "name": "stdout"
        }
      ]
    },
    {
      "cell_type": "markdown",
      "metadata": {
        "id": "T68bTR5Fh-wb",
        "colab_type": "text"
      },
      "source": [
        "Linear regression"
      ]
    },
    {
      "cell_type": "code",
      "metadata": {
        "id": "jsV7EC0mhOc0",
        "colab_type": "code",
        "outputId": "bf866de4-1470-4b7f-8e6a-6994796e9393",
        "colab": {
          "base_uri": "https://localhost:8080/",
          "height": 33
        }
      },
      "source": [
        "# Initialize the model class.\n",
        "model = LinearRegression()\n",
        "\n",
        "# Fit the model to the training data.\n",
        "model.fit(X_train, y_train)\n",
        "\n",
        "# Generate our predictions for the test set.\n",
        "predictions = model.predict(X_test)\n",
        "\n",
        "# Compute error between our test predictions and the actual values.\n",
        "mean_squared_error(predictions, y_test)"
      ],
      "execution_count": 0,
      "outputs": [
        {
          "output_type": "execute_result",
          "data": {
            "text/plain": [
              "2.0878654278597417"
            ]
          },
          "metadata": {
            "tags": []
          },
          "execution_count": 71
        }
      ]
    },
    {
      "cell_type": "markdown",
      "metadata": {
        "id": "intsb7x3iA1S",
        "colab_type": "text"
      },
      "source": [
        "Random Forest"
      ]
    },
    {
      "cell_type": "code",
      "metadata": {
        "id": "ivUx3r6phjs4",
        "colab_type": "code",
        "outputId": "de70dcd2-74da-4834-fa9d-7e232c97ddb8",
        "colab": {
          "base_uri": "https://localhost:8080/",
          "height": 33
        }
      },
      "source": [
        "# Initialize the model with some parameters.\n",
        "model = RandomForestRegressor(n_estimators=100, min_samples_leaf=10, random_state=1)\n",
        "# Fit the model to the data.\n",
        "model.fit(X_train, y_train)\n",
        "# Make predictions.\n",
        "predictions = model.predict(X_test)\n",
        "# Compute the error.\n",
        "mean_squared_error(predictions, y_test)\n"
      ],
      "execution_count": 0,
      "outputs": [
        {
          "output_type": "execute_result",
          "data": {
            "text/plain": [
              "1.4575588917181705"
            ]
          },
          "metadata": {
            "tags": []
          },
          "execution_count": 70
        }
      ]
    }
  ]
}