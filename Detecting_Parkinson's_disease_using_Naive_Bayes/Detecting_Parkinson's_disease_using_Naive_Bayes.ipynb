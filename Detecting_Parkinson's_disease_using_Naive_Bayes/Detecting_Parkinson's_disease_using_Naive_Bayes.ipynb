{
  "nbformat": 4,
  "nbformat_minor": 0,
  "metadata": {
    "kernelspec": {
      "display_name": "Python 3",
      "language": "python",
      "name": "python3"
    },
    "language_info": {
      "codemirror_mode": {
        "name": "ipython",
        "version": 3
      },
      "file_extension": ".py",
      "mimetype": "text/x-python",
      "name": "python",
      "nbconvert_exporter": "python",
      "pygments_lexer": "ipython3",
      "version": "3.7.6"
    },
    "colab": {
      "name": "Detecting_Parkinson's_disease_using_Naive_Bayes.ipynb",
      "provenance": [],
      "toc_visible": true
    }
  },
  "cells": [
    {
      "cell_type": "markdown",
      "metadata": {
        "id": "hZgLu9vI9cbx",
        "colab_type": "text"
      },
      "source": [
        "### Naive_Bayes_Implementation"
      ]
    },
    {
      "cell_type": "code",
      "metadata": {
        "scrolled": true,
        "id": "ADYbXA2n9cb0",
        "colab_type": "code",
        "colab": {
          "base_uri": "https://localhost:8080/",
          "height": 215
        },
        "outputId": "92b4e16d-c372-4164-d796-96f3976c0c62"
      },
      "source": [
        "#Necessary imports\n",
        "import pandas as pd\n",
        "import numpy as np\n",
        "\n",
        "#Specify paths to dataset\n",
        "train_data_path = '/content/parktraining.xlsx'\n",
        "test_data_path =  '/content/parktesting.xlsx'\n",
        "\n",
        "#Data reading\n",
        "X = pd.read_excel(train_data_path, header=None)\n",
        "\n",
        "#Data display\n",
        "X.head()\n"
      ],
      "execution_count": 1,
      "outputs": [
        {
          "output_type": "execute_result",
          "data": {
            "text/html": [
              "<div>\n",
              "<style scoped>\n",
              "    .dataframe tbody tr th:only-of-type {\n",
              "        vertical-align: middle;\n",
              "    }\n",
              "\n",
              "    .dataframe tbody tr th {\n",
              "        vertical-align: top;\n",
              "    }\n",
              "\n",
              "    .dataframe thead th {\n",
              "        text-align: right;\n",
              "    }\n",
              "</style>\n",
              "<table border=\"1\" class=\"dataframe\">\n",
              "  <thead>\n",
              "    <tr style=\"text-align: right;\">\n",
              "      <th></th>\n",
              "      <th>0</th>\n",
              "      <th>1</th>\n",
              "      <th>2</th>\n",
              "      <th>3</th>\n",
              "      <th>4</th>\n",
              "      <th>5</th>\n",
              "      <th>6</th>\n",
              "      <th>7</th>\n",
              "      <th>8</th>\n",
              "      <th>9</th>\n",
              "      <th>10</th>\n",
              "      <th>11</th>\n",
              "      <th>12</th>\n",
              "      <th>13</th>\n",
              "      <th>14</th>\n",
              "      <th>15</th>\n",
              "      <th>16</th>\n",
              "      <th>17</th>\n",
              "      <th>18</th>\n",
              "      <th>19</th>\n",
              "      <th>20</th>\n",
              "      <th>21</th>\n",
              "      <th>22</th>\n",
              "    </tr>\n",
              "  </thead>\n",
              "  <tbody>\n",
              "    <tr>\n",
              "      <th>0</th>\n",
              "      <td>187.733</td>\n",
              "      <td>202.324</td>\n",
              "      <td>173.015</td>\n",
              "      <td>0.00316</td>\n",
              "      <td>0.00002</td>\n",
              "      <td>0.00168</td>\n",
              "      <td>0.00182</td>\n",
              "      <td>0.00504</td>\n",
              "      <td>0.01663</td>\n",
              "      <td>0.151</td>\n",
              "      <td>0.00829</td>\n",
              "      <td>0.01003</td>\n",
              "      <td>0.01366</td>\n",
              "      <td>0.02488</td>\n",
              "      <td>0.00265</td>\n",
              "      <td>26.310</td>\n",
              "      <td>0.396793</td>\n",
              "      <td>0.758324</td>\n",
              "      <td>-6.006647</td>\n",
              "      <td>0.266892</td>\n",
              "      <td>2.382544</td>\n",
              "      <td>0.160691</td>\n",
              "      <td>1</td>\n",
              "    </tr>\n",
              "    <tr>\n",
              "      <th>1</th>\n",
              "      <td>186.163</td>\n",
              "      <td>197.724</td>\n",
              "      <td>177.584</td>\n",
              "      <td>0.00298</td>\n",
              "      <td>0.00002</td>\n",
              "      <td>0.00165</td>\n",
              "      <td>0.00175</td>\n",
              "      <td>0.00496</td>\n",
              "      <td>0.01495</td>\n",
              "      <td>0.135</td>\n",
              "      <td>0.00774</td>\n",
              "      <td>0.00941</td>\n",
              "      <td>0.01233</td>\n",
              "      <td>0.02321</td>\n",
              "      <td>0.00231</td>\n",
              "      <td>26.822</td>\n",
              "      <td>0.326480</td>\n",
              "      <td>0.765623</td>\n",
              "      <td>-6.647379</td>\n",
              "      <td>0.201095</td>\n",
              "      <td>2.374073</td>\n",
              "      <td>0.130554</td>\n",
              "      <td>1</td>\n",
              "    </tr>\n",
              "    <tr>\n",
              "      <th>2</th>\n",
              "      <td>184.055</td>\n",
              "      <td>196.537</td>\n",
              "      <td>166.977</td>\n",
              "      <td>0.00258</td>\n",
              "      <td>0.00001</td>\n",
              "      <td>0.00134</td>\n",
              "      <td>0.00147</td>\n",
              "      <td>0.00403</td>\n",
              "      <td>0.01463</td>\n",
              "      <td>0.132</td>\n",
              "      <td>0.00742</td>\n",
              "      <td>0.00901</td>\n",
              "      <td>0.01234</td>\n",
              "      <td>0.02226</td>\n",
              "      <td>0.00257</td>\n",
              "      <td>26.453</td>\n",
              "      <td>0.306443</td>\n",
              "      <td>0.759203</td>\n",
              "      <td>-7.044105</td>\n",
              "      <td>0.063412</td>\n",
              "      <td>2.361532</td>\n",
              "      <td>0.115730</td>\n",
              "      <td>1</td>\n",
              "    </tr>\n",
              "    <tr>\n",
              "      <th>3</th>\n",
              "      <td>237.226</td>\n",
              "      <td>247.326</td>\n",
              "      <td>225.227</td>\n",
              "      <td>0.00298</td>\n",
              "      <td>0.00001</td>\n",
              "      <td>0.00169</td>\n",
              "      <td>0.00182</td>\n",
              "      <td>0.00507</td>\n",
              "      <td>0.01752</td>\n",
              "      <td>0.164</td>\n",
              "      <td>0.01035</td>\n",
              "      <td>0.01024</td>\n",
              "      <td>0.01133</td>\n",
              "      <td>0.03104</td>\n",
              "      <td>0.00740</td>\n",
              "      <td>22.736</td>\n",
              "      <td>0.305062</td>\n",
              "      <td>0.654172</td>\n",
              "      <td>-7.310550</td>\n",
              "      <td>0.098648</td>\n",
              "      <td>2.416838</td>\n",
              "      <td>0.095032</td>\n",
              "      <td>0</td>\n",
              "    </tr>\n",
              "    <tr>\n",
              "      <th>4</th>\n",
              "      <td>241.404</td>\n",
              "      <td>248.834</td>\n",
              "      <td>232.483</td>\n",
              "      <td>0.00281</td>\n",
              "      <td>0.00001</td>\n",
              "      <td>0.00157</td>\n",
              "      <td>0.00173</td>\n",
              "      <td>0.00470</td>\n",
              "      <td>0.01760</td>\n",
              "      <td>0.154</td>\n",
              "      <td>0.01006</td>\n",
              "      <td>0.01038</td>\n",
              "      <td>0.01251</td>\n",
              "      <td>0.03017</td>\n",
              "      <td>0.00675</td>\n",
              "      <td>23.145</td>\n",
              "      <td>0.457702</td>\n",
              "      <td>0.634267</td>\n",
              "      <td>-6.793547</td>\n",
              "      <td>0.158266</td>\n",
              "      <td>2.256699</td>\n",
              "      <td>0.117399</td>\n",
              "      <td>0</td>\n",
              "    </tr>\n",
              "  </tbody>\n",
              "</table>\n",
              "</div>"
            ],
            "text/plain": [
              "        0        1        2        3   ...        19        20        21  22\n",
              "0  187.733  202.324  173.015  0.00316  ...  0.266892  2.382544  0.160691   1\n",
              "1  186.163  197.724  177.584  0.00298  ...  0.201095  2.374073  0.130554   1\n",
              "2  184.055  196.537  166.977  0.00258  ...  0.063412  2.361532  0.115730   1\n",
              "3  237.226  247.326  225.227  0.00298  ...  0.098648  2.416838  0.095032   0\n",
              "4  241.404  248.834  232.483  0.00281  ...  0.158266  2.256699  0.117399   0\n",
              "\n",
              "[5 rows x 23 columns]"
            ]
          },
          "metadata": {
            "tags": []
          },
          "execution_count": 1
        }
      ]
    },
    {
      "cell_type": "markdown",
      "metadata": {
        "id": "gl398w1K9ccO",
        "colab_type": "text"
      },
      "source": [
        "Seperating the healthy and unhealthy data"
      ]
    },
    {
      "cell_type": "code",
      "metadata": {
        "id": "q2lz7Efv9ccQ",
        "colab_type": "code",
        "colab": {
          "base_uri": "https://localhost:8080/",
          "height": 50
        },
        "outputId": "11f8e048-87a1-476b-b000-f8891e526a9d"
      },
      "source": [
        "positive = X[X[22]==1]#unhealthy\n",
        "negative = X[X[22]==0]#Healthy\n",
        "print('Number of positive patients: {}\\nNumber of negative patients: {}'.format(len(positive),len(negative)))"
      ],
      "execution_count": 2,
      "outputs": [
        {
          "output_type": "stream",
          "text": [
            "Number of positive patients: 114\n",
            "Number of negative patients: 42\n"
          ],
          "name": "stdout"
        }
      ]
    },
    {
      "cell_type": "markdown",
      "metadata": {
        "id": "XLs8sj6XSAJ6",
        "colab_type": "text"
      },
      "source": [
        "Function to calculate the mean"
      ]
    },
    {
      "cell_type": "code",
      "metadata": {
        "id": "Tx-mj4IAI8jr",
        "colab_type": "code",
        "colab": {}
      },
      "source": [
        "def calc_Mean(X): #Sum of var / num of var\n",
        "\n",
        "  mean =[]\n",
        "  sum_Col=0\n",
        "  for col in range(X.shape[1]-1): #Column traversal\n",
        "    for row in range(len(X)):#iterate over all the rows \n",
        "      \n",
        "      sum_Col += X.iloc[row, col]\n",
        "\n",
        "    mean.append(sum_Col/len(X))\n",
        "    sum_Col=0 \n",
        "  \n",
        "  return mean"
      ],
      "execution_count": 0,
      "outputs": []
    },
    {
      "cell_type": "markdown",
      "metadata": {
        "id": "DPp-YP3CSM76",
        "colab_type": "text"
      },
      "source": [
        "Function to calculate sample variance"
      ]
    },
    {
      "cell_type": "code",
      "metadata": {
        "id": "jyUn8rzCSOzi",
        "colab_type": "code",
        "colab": {}
      },
      "source": [
        "def calc_Var(X, means):# E(X-U)^2 / X.len - 1\n",
        "  var=[]\n",
        "  var_Col=0\n",
        "  for col in range(X.shape[1]-1): #Column traversal\n",
        "    for row in range(len(X)):#iterate over all the rows \n",
        "      \n",
        "      var_Col += (X.iloc[row, col] - means[col])**2 \n",
        "\n",
        "    var.append(var_Col/(len(X)-1))\n",
        "    var_Col=0 \n",
        "  \n",
        "  return var"
      ],
      "execution_count": 0,
      "outputs": []
    },
    {
      "cell_type": "markdown",
      "metadata": {
        "id": "aHkV9K0eGgZX",
        "colab_type": "text"
      },
      "source": [
        "Function for calculating probablity"
      ]
    },
    {
      "cell_type": "code",
      "metadata": {
        "id": "Y_oRa9U2GgHV",
        "colab_type": "code",
        "colab": {}
      },
      "source": [
        "def calc_Prob_class(row):\n",
        "  pos_Prob=1\n",
        "  neg_Prob=1\n",
        "  y_pred=[]\n",
        "  for rows in range(len(row)): #Row traversal\n",
        "      for i in range(row.shape[1]-1): #Column traversal\n",
        "          pos_Prob *= calc_Prob(var_means['positive_var'][i], var_means['positive_mean'][i], row.iloc[rows,i]) # var, mean, A\n",
        "          neg_Prob *= calc_Prob(var_means['negative_var'][i], var_means['negative_mean'][i], row.iloc[rows,i]) \n",
        " \n",
        "      # The class having bigger probability will be selected\n",
        "      if(pos_Prob>neg_Prob):\n",
        "          y_pred.append(1)\n",
        "      else:\n",
        "          y_pred.append(0)\n",
        "      neg_Prob=1\n",
        "      pos_Prob=1\n",
        "\n",
        "  return y_pred\n",
        "\n",
        "    "
      ],
      "execution_count": 0,
      "outputs": []
    },
    {
      "cell_type": "markdown",
      "metadata": {
        "id": "F0mYqZ3t9cdE",
        "colab_type": "text"
      },
      "source": [
        "Function for accuracy"
      ]
    },
    {
      "cell_type": "code",
      "metadata": {
        "id": "G6_CZ-Yv9cdG",
        "colab_type": "code",
        "colab": {}
      },
      "source": [
        "def acc(y, y_pred):\n",
        "    corr=0\n",
        "    for i in range(len(y)):\n",
        "        if(y[i]==y_pred[i]):\n",
        "            corr+=1\n",
        "    \n",
        "    return corr/len(y)"
      ],
      "execution_count": 0,
      "outputs": []
    },
    {
      "cell_type": "markdown",
      "metadata": {
        "id": "k4bLkmXn9cdP",
        "colab_type": "text"
      },
      "source": [
        "Function to calculate probability for naive bayes"
      ]
    },
    {
      "cell_type": "code",
      "metadata": {
        "id": "0k2M5HZM9cdR",
        "colab_type": "code",
        "colab": {}
      },
      "source": [
        "\n",
        "import math\n",
        "def calc_Prob(var,mean,A):\n",
        "    x = 1/np.sqrt(2*math.pi*var)\n",
        "    b = (A-mean)**2\n",
        "    b = b/(2*var)\n",
        "    x *= np.e**(-b)\n",
        "    return x\n",
        "    "
      ],
      "execution_count": 0,
      "outputs": []
    },
    {
      "cell_type": "markdown",
      "metadata": {
        "id": "6FowWqM49cdb",
        "colab_type": "text"
      },
      "source": [
        "Example to check the function"
      ]
    },
    {
      "cell_type": "code",
      "metadata": {
        "id": "bq--_jRN9cdc",
        "colab_type": "code",
        "colab": {
          "base_uri": "https://localhost:8080/",
          "height": 34
        },
        "outputId": "1df0fd39-3f7f-4a74-d01a-15d8ee080d21"
      },
      "source": [
        "calc_Prob(2975, 110, 120)"
      ],
      "execution_count": 8,
      "outputs": [
        {
          "output_type": "execute_result",
          "data": {
            "text/plain": [
              "0.007192295359419549"
            ]
          },
          "metadata": {
            "tags": []
          },
          "execution_count": 8
        }
      ]
    },
    {
      "cell_type": "markdown",
      "metadata": {
        "id": "WxMFr3XR9cce",
        "colab_type": "text"
      },
      "source": [
        "Dictionary to store variance and means for both classes"
      ]
    },
    {
      "cell_type": "code",
      "metadata": {
        "id": "UMdu5cEx9ccg",
        "colab_type": "code",
        "colab": {
          "base_uri": "https://localhost:8080/",
          "height": 34
        },
        "outputId": "4074bf0c-454f-4711-e23f-c59f6c43b2a1"
      },
      "source": [
        "\n",
        "var_means = ({\n",
        "                'positive_var':[],\n",
        "                'negative_var':[],\n",
        "                'positive_mean':[],\n",
        "                'negative_mean':[],\n",
        "            })\n",
        "print(var_means)"
      ],
      "execution_count": 9,
      "outputs": [
        {
          "output_type": "stream",
          "text": [
            "{'positive_var': [], 'negative_var': [], 'positive_mean': [], 'negative_mean': []}\n"
          ],
          "name": "stdout"
        }
      ]
    },
    {
      "cell_type": "markdown",
      "metadata": {
        "id": "sbHS6R2R9ccp",
        "colab_type": "text"
      },
      "source": [
        "Calculating the means and variance of the training data"
      ]
    },
    {
      "cell_type": "code",
      "metadata": {
        "id": "mqWZreHR9ccr",
        "colab_type": "code",
        "colab": {}
      },
      "source": [
        "var_means['positive_mean']=calc_Mean(positive)[:]\n",
        "var_means['negative_mean']=calc_Mean(negative)[:]\n",
        "var_means['positive_var']=calc_Var(positive, var_means['positive_mean'])[:]\n",
        "var_means['negative_var']=calc_Var(negative, var_means['negative_mean'])[:]"
      ],
      "execution_count": 0,
      "outputs": []
    },
    {
      "cell_type": "markdown",
      "metadata": {
        "id": "qk9cEUt49cdm",
        "colab_type": "text"
      },
      "source": [
        "Applying naive bayes on training data"
      ]
    },
    {
      "cell_type": "code",
      "metadata": {
        "id": "FibtSBbP9cdq",
        "colab_type": "code",
        "colab": {
          "base_uri": "https://localhost:8080/",
          "height": 34
        },
        "outputId": "5fd96b6e-5318-47bd-b0bb-1ea688720fed"
      },
      "source": [
        "y_pred = calc_Prob_class(X)\n",
        "\n",
        "print('Training accuracy: {}%'.format(acc(X[22], y_pred)*100))"
      ],
      "execution_count": 11,
      "outputs": [
        {
          "output_type": "stream",
          "text": [
            "Training accuracy: 71.7948717948718%\n"
          ],
          "name": "stdout"
        }
      ]
    },
    {
      "cell_type": "markdown",
      "metadata": {
        "id": "hHslYiNx9cdy",
        "colab_type": "text"
      },
      "source": [
        "Reading test set"
      ]
    },
    {
      "cell_type": "code",
      "metadata": {
        "scrolled": true,
        "id": "2RYI2QZY9cd0",
        "colab_type": "code",
        "colab": {
          "base_uri": "https://localhost:8080/",
          "height": 215
        },
        "outputId": "1dfcd2d4-3453-4549-bc22-c823f308d0dd"
      },
      "source": [
        "test_data = pd.read_excel('parktesting.xlsx', header=None)\n",
        "test_data.head()"
      ],
      "execution_count": 12,
      "outputs": [
        {
          "output_type": "execute_result",
          "data": {
            "text/html": [
              "<div>\n",
              "<style scoped>\n",
              "    .dataframe tbody tr th:only-of-type {\n",
              "        vertical-align: middle;\n",
              "    }\n",
              "\n",
              "    .dataframe tbody tr th {\n",
              "        vertical-align: top;\n",
              "    }\n",
              "\n",
              "    .dataframe thead th {\n",
              "        text-align: right;\n",
              "    }\n",
              "</style>\n",
              "<table border=\"1\" class=\"dataframe\">\n",
              "  <thead>\n",
              "    <tr style=\"text-align: right;\">\n",
              "      <th></th>\n",
              "      <th>0</th>\n",
              "      <th>1</th>\n",
              "      <th>2</th>\n",
              "      <th>3</th>\n",
              "      <th>4</th>\n",
              "      <th>5</th>\n",
              "      <th>6</th>\n",
              "      <th>7</th>\n",
              "      <th>8</th>\n",
              "      <th>9</th>\n",
              "      <th>10</th>\n",
              "      <th>11</th>\n",
              "      <th>12</th>\n",
              "      <th>13</th>\n",
              "      <th>14</th>\n",
              "      <th>15</th>\n",
              "      <th>16</th>\n",
              "      <th>17</th>\n",
              "      <th>18</th>\n",
              "      <th>19</th>\n",
              "      <th>20</th>\n",
              "      <th>21</th>\n",
              "      <th>22</th>\n",
              "    </tr>\n",
              "  </thead>\n",
              "  <tbody>\n",
              "    <tr>\n",
              "      <th>0</th>\n",
              "      <td>119.992</td>\n",
              "      <td>157.302</td>\n",
              "      <td>74.997</td>\n",
              "      <td>0.00784</td>\n",
              "      <td>0.00007</td>\n",
              "      <td>0.00370</td>\n",
              "      <td>0.00554</td>\n",
              "      <td>0.01109</td>\n",
              "      <td>0.04374</td>\n",
              "      <td>0.426</td>\n",
              "      <td>0.02182</td>\n",
              "      <td>0.03130</td>\n",
              "      <td>0.02971</td>\n",
              "      <td>0.06545</td>\n",
              "      <td>0.02211</td>\n",
              "      <td>21.033</td>\n",
              "      <td>0.414783</td>\n",
              "      <td>0.815285</td>\n",
              "      <td>-4.813031</td>\n",
              "      <td>0.266482</td>\n",
              "      <td>2.301442</td>\n",
              "      <td>0.284654</td>\n",
              "      <td>1</td>\n",
              "    </tr>\n",
              "    <tr>\n",
              "      <th>1</th>\n",
              "      <td>122.400</td>\n",
              "      <td>148.650</td>\n",
              "      <td>113.819</td>\n",
              "      <td>0.00968</td>\n",
              "      <td>0.00008</td>\n",
              "      <td>0.00465</td>\n",
              "      <td>0.00696</td>\n",
              "      <td>0.01394</td>\n",
              "      <td>0.06134</td>\n",
              "      <td>0.626</td>\n",
              "      <td>0.03134</td>\n",
              "      <td>0.04518</td>\n",
              "      <td>0.04368</td>\n",
              "      <td>0.09403</td>\n",
              "      <td>0.01929</td>\n",
              "      <td>19.085</td>\n",
              "      <td>0.458359</td>\n",
              "      <td>0.819521</td>\n",
              "      <td>-4.075192</td>\n",
              "      <td>0.335590</td>\n",
              "      <td>2.486855</td>\n",
              "      <td>0.368674</td>\n",
              "      <td>1</td>\n",
              "    </tr>\n",
              "    <tr>\n",
              "      <th>2</th>\n",
              "      <td>116.682</td>\n",
              "      <td>131.111</td>\n",
              "      <td>111.555</td>\n",
              "      <td>0.01050</td>\n",
              "      <td>0.00009</td>\n",
              "      <td>0.00544</td>\n",
              "      <td>0.00781</td>\n",
              "      <td>0.01633</td>\n",
              "      <td>0.05233</td>\n",
              "      <td>0.482</td>\n",
              "      <td>0.02757</td>\n",
              "      <td>0.03858</td>\n",
              "      <td>0.03590</td>\n",
              "      <td>0.08270</td>\n",
              "      <td>0.01309</td>\n",
              "      <td>20.651</td>\n",
              "      <td>0.429895</td>\n",
              "      <td>0.825288</td>\n",
              "      <td>-4.443179</td>\n",
              "      <td>0.311173</td>\n",
              "      <td>2.342259</td>\n",
              "      <td>0.332634</td>\n",
              "      <td>1</td>\n",
              "    </tr>\n",
              "    <tr>\n",
              "      <th>3</th>\n",
              "      <td>116.676</td>\n",
              "      <td>137.871</td>\n",
              "      <td>111.366</td>\n",
              "      <td>0.00997</td>\n",
              "      <td>0.00009</td>\n",
              "      <td>0.00502</td>\n",
              "      <td>0.00698</td>\n",
              "      <td>0.01505</td>\n",
              "      <td>0.05492</td>\n",
              "      <td>0.517</td>\n",
              "      <td>0.02924</td>\n",
              "      <td>0.04005</td>\n",
              "      <td>0.03772</td>\n",
              "      <td>0.08771</td>\n",
              "      <td>0.01353</td>\n",
              "      <td>20.644</td>\n",
              "      <td>0.434969</td>\n",
              "      <td>0.819235</td>\n",
              "      <td>-4.117501</td>\n",
              "      <td>0.334147</td>\n",
              "      <td>2.405554</td>\n",
              "      <td>0.368975</td>\n",
              "      <td>1</td>\n",
              "    </tr>\n",
              "    <tr>\n",
              "      <th>4</th>\n",
              "      <td>116.014</td>\n",
              "      <td>141.781</td>\n",
              "      <td>110.655</td>\n",
              "      <td>0.01284</td>\n",
              "      <td>0.00011</td>\n",
              "      <td>0.00655</td>\n",
              "      <td>0.00908</td>\n",
              "      <td>0.01966</td>\n",
              "      <td>0.06425</td>\n",
              "      <td>0.584</td>\n",
              "      <td>0.03490</td>\n",
              "      <td>0.04825</td>\n",
              "      <td>0.04465</td>\n",
              "      <td>0.10470</td>\n",
              "      <td>0.01767</td>\n",
              "      <td>19.649</td>\n",
              "      <td>0.417356</td>\n",
              "      <td>0.823484</td>\n",
              "      <td>-3.747787</td>\n",
              "      <td>0.234513</td>\n",
              "      <td>2.332180</td>\n",
              "      <td>0.410335</td>\n",
              "      <td>1</td>\n",
              "    </tr>\n",
              "  </tbody>\n",
              "</table>\n",
              "</div>"
            ],
            "text/plain": [
              "        0        1        2        3   ...        19        20        21  22\n",
              "0  119.992  157.302   74.997  0.00784  ...  0.266482  2.301442  0.284654   1\n",
              "1  122.400  148.650  113.819  0.00968  ...  0.335590  2.486855  0.368674   1\n",
              "2  116.682  131.111  111.555  0.01050  ...  0.311173  2.342259  0.332634   1\n",
              "3  116.676  137.871  111.366  0.00997  ...  0.334147  2.405554  0.368975   1\n",
              "4  116.014  141.781  110.655  0.01284  ...  0.234513  2.332180  0.410335   1\n",
              "\n",
              "[5 rows x 23 columns]"
            ]
          },
          "metadata": {
            "tags": []
          },
          "execution_count": 12
        }
      ]
    },
    {
      "cell_type": "markdown",
      "metadata": {
        "id": "X9apKfda9cd_",
        "colab_type": "text"
      },
      "source": [
        "Testing"
      ]
    },
    {
      "cell_type": "code",
      "metadata": {
        "id": "8rphkUGx9ceF",
        "colab_type": "code",
        "colab": {
          "base_uri": "https://localhost:8080/",
          "height": 34
        },
        "outputId": "d9108ea8-1d4a-41eb-8850-38e2118d089f"
      },
      "source": [
        "y_pred= calc_Prob_class(test_data)\n",
        "\n",
        "print('Testin Accuracy: {}%'.format(acc(test_data[22], y_pred)*100))"
      ],
      "execution_count": 13,
      "outputs": [
        {
          "output_type": "stream",
          "text": [
            "Testin Accuracy: 58.97435897435898%\n"
          ],
          "name": "stdout"
        }
      ]
    },
    {
      "cell_type": "markdown",
      "metadata": {
        "id": "W_Bs1BvRCnE9",
        "colab_type": "text"
      },
      "source": [
        "## Naive bayes using Sklearn"
      ]
    },
    {
      "cell_type": "code",
      "metadata": {
        "id": "-iczqF-KCmV2",
        "colab_type": "code",
        "colab": {}
      },
      "source": [
        "#Data reading\n",
        "X = pd.read_excel('/content/parktraining.xlsx', header=None)\n",
        "X # predictors\n",
        "\n",
        "y = X[X.columns[-1]] # class label\n",
        "X = X.iloc[:,0:22] # Dropping the class label"
      ],
      "execution_count": 0,
      "outputs": []
    },
    {
      "cell_type": "code",
      "metadata": {
        "id": "f1FY9U4jCvqS",
        "colab_type": "code",
        "colab": {}
      },
      "source": [
        "X_test = pd.read_excel('/content/parktesting.xlsx', header=None)\n",
        "X_test # predictors\n",
        "\n",
        "y_test = X_test[X_test.columns[-1]] # class label\n",
        "X_test = X_test.iloc[:,0:22] # Dropping the class label"
      ],
      "execution_count": 0,
      "outputs": []
    },
    {
      "cell_type": "code",
      "metadata": {
        "id": "uEdW07c4CysV",
        "colab_type": "code",
        "colab": {}
      },
      "source": [
        "from sklearn.metrics import accuracy_score\n",
        "from sklearn.naive_bayes import GaussianNB\n",
        "# Importing naive bayes\n",
        "gnb = GaussianNB()\n",
        "# Training\n",
        "model = gnb.fit(X, y)\n"
      ],
      "execution_count": 0,
      "outputs": []
    },
    {
      "cell_type": "markdown",
      "metadata": {
        "id": "QRrgX8cVDWZZ",
        "colab_type": "text"
      },
      "source": [
        "Validating on training data"
      ]
    },
    {
      "cell_type": "code",
      "metadata": {
        "id": "4cteDUqpC2nu",
        "colab_type": "code",
        "colab": {
          "base_uri": "https://localhost:8080/",
          "height": 34
        },
        "outputId": "5fdfe001-a3a9-489b-e659-fe98a0d09404"
      },
      "source": [
        "y_pred=model.predict(X)\n",
        "\n",
        "print('Training accuracy: {}%'.format(accuracy_score(y, y_pred)*100))"
      ],
      "execution_count": 17,
      "outputs": [
        {
          "output_type": "stream",
          "text": [
            "Training accuracy: 71.7948717948718%\n"
          ],
          "name": "stdout"
        }
      ]
    },
    {
      "cell_type": "markdown",
      "metadata": {
        "id": "GXT7vn_jDekq",
        "colab_type": "text"
      },
      "source": [
        "Testing on testing data"
      ]
    },
    {
      "cell_type": "code",
      "metadata": {
        "id": "1WpZdVqhC0y2",
        "colab_type": "code",
        "colab": {
          "base_uri": "https://localhost:8080/",
          "height": 34
        },
        "outputId": "9d1d7251-b826-47f1-ec9a-7f408e02c543"
      },
      "source": [
        "y_pred=model.predict(X_test)\n",
        "\n",
        "print('Testing accuracy: {}%'.format(accuracy_score(y_test, y_pred)*100))"
      ],
      "execution_count": 18,
      "outputs": [
        {
          "output_type": "stream",
          "text": [
            "Testing accuracy: 58.97435897435898%\n"
          ],
          "name": "stdout"
        }
      ]
    }
  ]
}