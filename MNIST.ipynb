{
  "nbformat": 4,
  "nbformat_minor": 0,
  "metadata": {
    "colab": {
      "name": "Basics about image processing.ipynb",
      "provenance": [],
      "toc_visible": true
    },
    "kernelspec": {
      "name": "python3",
      "display_name": "Python 3"
    },
    "accelerator": "GPU"
  },
  "cells": [
    {
      "cell_type": "markdown",
      "metadata": {
        "id": "rg7hD2uRZonp",
        "colab_type": "text"
      },
      "source": [
        "I achieved the highest accuracy from the model defined under the heading\n",
        "\"Adding dropouts and removing data augmentation (BEST MODEL TILL NOW)\".\n",
        "In this notebook I trained several models using different hyper parameters. Other than that I learnt about performing image processing using Neural network and CNN both. From what I learnt during the experiment is:\n",
        "1. Adding more layers increase the accuracy\n",
        "2. Batch normalization and dropout prevented from overfitting\n",
        "3. Neural network requires images to be flattened where as CNN dont"
      ]
    },
    {
      "cell_type": "markdown",
      "metadata": {
        "id": "Ht1ofNrhBO1b",
        "colab_type": "text"
      },
      "source": [
        "# Neural Network on MNIST"
      ]
    },
    {
      "cell_type": "markdown",
      "metadata": {
        "id": "N2Np5ZCWsX3G",
        "colab_type": "text"
      },
      "source": [
        "**Reading dataset**"
      ]
    },
    {
      "cell_type": "code",
      "metadata": {
        "id": "a-QZJX9ZvNeM",
        "colab_type": "code",
        "colab": {
          "base_uri": "https://localhost:8080/",
          "height": 87
        },
        "outputId": "3474ac54-896d-4d12-a994-48951796bba3"
      },
      "source": [
        "#import mnist from keras datasets\n",
        "from keras.datasets import mnist\n",
        "\n",
        "#Load into variables\n",
        "(X_train, y_train), (X_test, y_test) = mnist.load_data()\n",
        "\n",
        "#Displaying the shapes\n",
        "print(\"X_train shape\", X_train.shape)\n",
        "print(\"y_train shape\", y_train.shape)\n",
        "print(\"X_test shape\", X_test.shape)\n",
        "print(\"y_test shape\", y_test.shape)"
      ],
      "execution_count": 81,
      "outputs": [
        {
          "output_type": "stream",
          "text": [
            "X_train shape (60000, 28, 28)\n",
            "y_train shape (60000,)\n",
            "X_test shape (10000, 28, 28)\n",
            "y_test shape (10000,)\n"
          ],
          "name": "stdout"
        }
      ]
    },
    {
      "cell_type": "markdown",
      "metadata": {
        "id": "bkNcmT1R157F",
        "colab_type": "text"
      },
      "source": [
        "**Visualizing data**"
      ]
    },
    {
      "cell_type": "code",
      "metadata": {
        "id": "b6PO1tMXzwGZ",
        "colab_type": "code",
        "colab": {
          "base_uri": "https://localhost:8080/",
          "height": 267
        },
        "outputId": "732f0251-80cb-46c1-c303-b02eb0418b21"
      },
      "source": [
        "#Displaying 4 images from dataset\n",
        "_, axes = plt.subplots(2, 4)\n",
        "images_and_labels = list(zip(X_train, y_train))\n",
        "for ax, (image, label) in zip(axes[0, :], images_and_labels[:4]):\n",
        "    ax.set_axis_off()\n",
        "    ax.imshow(image, cmap=plt.cm.gray_r, interpolation='nearest')\n",
        "    ax.set_title('Training: %i' % label)"
      ],
      "execution_count": 82,
      "outputs": [
        {
          "output_type": "display_data",
          "data": {
            "image/png": "[encoded data removed]",
            "text/plain": [
              "<Figure size 432x288 with 8 Axes>"
            ]
          },
          "metadata": {
            "tags": [],
            "needs_background": "light"
          }
        }
      ]
    },
    {
      "cell_type": "markdown",
      "metadata": {
        "id": "ZbXW2exZxH3i",
        "colab_type": "text"
      },
      "source": [
        "**Basic steps of building a neural network for image processing**\n",
        "1. Flatten the input image dimensions to 1D (width pixels x height pixels)\n",
        "2. Normalize the image pixel values (divide by 255)\n",
        "3. One-Hot Encode the categorical column\n",
        "4. Build a model architecture (Sequential) with Dense layers\n",
        "5. Train the model and make predictions\n",
        "\n",
        "\n"
      ]
    },
    {
      "cell_type": "markdown",
      "metadata": {
        "id": "Pcm4Mn8P5V2y",
        "colab_type": "text"
      },
      "source": [
        "**Preparing the data for the neural network**"
      ]
    },
    {
      "cell_type": "code",
      "metadata": {
        "id": "i6S1uY8mxByV",
        "colab_type": "code",
        "colab": {
          "base_uri": "https://localhost:8080/",
          "height": 87
        },
        "outputId": "86dbe039-711f-4571-f321-c1e04eef0929"
      },
      "source": [
        "from keras.models import Sequential\n",
        "from keras.layers import Dense, Dropout, Conv2D, MaxPool2D\n",
        "from keras.utils import np_utils\n",
        "\n",
        "\n",
        "# Flattening the images from the 28x28 pixels to 1D 787 pixels\n",
        "#Both the following methods can be used for flattening\n",
        "#Method 1)\n",
        "X_train = X_train.reshape(X_train.shape[0],-1)\n",
        "X_test = X_test.reshape(X_test.shape[0], -1)\n",
        "#Method 2)\n",
        "# X_train = X_train.reshape(60000, 784)\n",
        "# X_test = X_test.reshape(10000, 784)\n",
        "\n",
        "print(X_train.shape)\n",
        "print(X_test.shape)\n",
        "\n",
        "#Ensuring the type to be float32\n",
        "X_train = X_train.astype('float32')\n",
        "X_test = X_test.astype('float32')\n",
        "\n",
        "# normalizing the data to help with the training\n",
        "#dividing by max value i.e. 255 because of the rgb channel\n",
        "X_train /= 255\n",
        "X_test /= 255\n",
        "\n",
        "#classes = 10 because of 10 digits\n",
        "n_classes = 10\n",
        "\n",
        "print(\"Shape before one-hot encoding: \", y_train.shape)\n",
        "y_train = np_utils.to_categorical(y_train, n_classes)\n",
        "y_test = np_utils.to_categorical(y_test, n_classes)\n",
        "print(\"Shape after one-hot encoding: \", y_train.shape)\n"
      ],
      "execution_count": 83,
      "outputs": [
        {
          "output_type": "stream",
          "text": [
            "(60000, 784)\n",
            "(10000, 784)\n",
            "Shape before one-hot encoding:  (60000,)\n",
            "Shape after one-hot encoding:  (60000, 10)\n"
          ],
          "name": "stdout"
        }
      ]
    },
    {
      "cell_type": "markdown",
      "metadata": {
        "id": "k4s5zOcn90-U",
        "colab_type": "text"
      },
      "source": [
        "**Defining the model**"
      ]
    },
    {
      "cell_type": "code",
      "metadata": {
        "id": "HyFMHT5M2N0V",
        "colab_type": "code",
        "colab": {}
      },
      "source": [
        "model = Sequential()\n",
        "# hidden layer 1\n",
        "model.add(Dense(100, input_shape=(X_train.shape[1],), activation='relu'))\n",
        "# output layer\n",
        "model.add(Dense(10, activation='softmax'))\n",
        "\n",
        "# compiling the sequential model\n",
        "\"\"\"\n",
        "Loss = categorical_crossentropy because of the multi-class classification problem\n",
        "optimizer = adam because of its self adjusting of learning rate nature\n",
        "metrics = accuracy to evaluate the model\n",
        "\"\"\"\n",
        "\n",
        "model.compile(loss='categorical_crossentropy', metrics=['accuracy'], optimizer='adam')\n"
      ],
      "execution_count": 0,
      "outputs": []
    },
    {
      "cell_type": "markdown",
      "metadata": {
        "id": "2TKUJzul9_lQ",
        "colab_type": "text"
      },
      "source": [
        "Print the summary"
      ]
    },
    {
      "cell_type": "code",
      "metadata": {
        "id": "02cUsqHi99wL",
        "colab_type": "code",
        "colab": {
          "base_uri": "https://localhost:8080/",
          "height": 230
        },
        "outputId": "ebda3662-9cd3-42b3-be27-cb4824ce0e6a"
      },
      "source": [
        "# looking at the model summary\n",
        "model.summary()\n",
        "\n"
      ],
      "execution_count": 85,
      "outputs": [
        {
          "output_type": "stream",
          "text": [
            "Model: \"sequential_31\"\n",
            "_________________________________________________________________\n",
            "Layer (type)                 Output Shape              Param #   \n",
            "=================================================================\n",
            "dense_41 (Dense)             (None, 100)               78500     \n",
            "_________________________________________________________________\n",
            "dense_42 (Dense)             (None, 10)                1010      \n",
            "=================================================================\n",
            "Total params: 79,510\n",
            "Trainable params: 79,510\n",
            "Non-trainable params: 0\n",
            "_________________________________________________________________\n"
          ],
          "name": "stdout"
        }
      ]
    },
    {
      "cell_type": "markdown",
      "metadata": {
        "id": "lse9qcGn-Me_",
        "colab_type": "text"
      },
      "source": [
        "Training the neural net"
      ]
    },
    {
      "cell_type": "code",
      "metadata": {
        "id": "KgURORGP-LFQ",
        "colab_type": "code",
        "colab": {
          "base_uri": "https://localhost:8080/",
          "height": 390
        },
        "outputId": "3feaf17a-9134-42ed-f6c7-6b9c7983a0f4"
      },
      "source": [
        "# training the model for 10 epochs and recording the training history\n",
        "# the validation data is taken from the test set, which in real life is not possible\n",
        "history=model.fit(X_train, y_train, batch_size=128, epochs=10, validation_data=(X_test, y_test))"
      ],
      "execution_count": 86,
      "outputs": [
        {
          "output_type": "stream",
          "text": [
            "Train on 60000 samples, validate on 10000 samples\n",
            "Epoch 1/10\n",
            "60000/60000 [==============================] - 2s 26us/step - loss: 0.3866 - accuracy: 0.8929 - val_loss: 0.2108 - val_accuracy: 0.9382\n",
            "Epoch 2/10\n",
            "60000/60000 [==============================] - 1s 24us/step - loss: 0.1823 - accuracy: 0.9479 - val_loss: 0.1483 - val_accuracy: 0.9572\n",
            "Epoch 3/10\n",
            "60000/60000 [==============================] - 1s 24us/step - loss: 0.1327 - accuracy: 0.9620 - val_loss: 0.1207 - val_accuracy: 0.9649\n",
            "Epoch 4/10\n",
            "60000/60000 [==============================] - 1s 25us/step - loss: 0.1045 - accuracy: 0.9692 - val_loss: 0.1084 - val_accuracy: 0.9675\n",
            "Epoch 5/10\n",
            "60000/60000 [==============================] - 1s 25us/step - loss: 0.0857 - accuracy: 0.9753 - val_loss: 0.0972 - val_accuracy: 0.9714\n",
            "Epoch 6/10\n",
            "60000/60000 [==============================] - 2s 25us/step - loss: 0.0726 - accuracy: 0.9789 - val_loss: 0.0928 - val_accuracy: 0.9727\n",
            "Epoch 7/10\n",
            "60000/60000 [==============================] - 2s 26us/step - loss: 0.0616 - accuracy: 0.9819 - val_loss: 0.0852 - val_accuracy: 0.9756\n",
            "Epoch 8/10\n",
            "60000/60000 [==============================] - 2s 27us/step - loss: 0.0533 - accuracy: 0.9846 - val_loss: 0.0796 - val_accuracy: 0.9768\n",
            "Epoch 9/10\n",
            "60000/60000 [==============================] - 2s 27us/step - loss: 0.0466 - accuracy: 0.9865 - val_loss: 0.0796 - val_accuracy: 0.9772\n",
            "Epoch 10/10\n",
            "60000/60000 [==============================] - 2s 26us/step - loss: 0.0412 - accuracy: 0.9880 - val_loss: 0.0852 - val_accuracy: 0.9756\n"
          ],
          "name": "stdout"
        }
      ]
    },
    {
      "cell_type": "code",
      "metadata": {
        "id": "P4e4BSiZ8RZF",
        "colab_type": "code",
        "colab": {
          "base_uri": "https://localhost:8080/",
          "height": 407
        },
        "outputId": "3e11ebb7-f6c2-4435-9941-acea206a5809"
      },
      "source": [
        "#increasing the batch size and changing the validation data to train set\n",
        "history=model.fit(X_train, y_train, batch_size=256, epochs=10, validation_data=(X_train, y_train))\n",
        "\"\"\"\n",
        "It can be clearly seen that the accuracy has improved\n",
        "\"\"\""
      ],
      "execution_count": 87,
      "outputs": [
        {
          "output_type": "stream",
          "text": [
            "Train on 60000 samples, validate on 60000 samples\n",
            "Epoch 1/10\n",
            "60000/60000 [==============================] - 1s 22us/step - loss: 0.0309 - accuracy: 0.9923 - val_loss: 0.0257 - val_accuracy: 0.9944\n",
            "Epoch 2/10\n",
            "60000/60000 [==============================] - 1s 23us/step - loss: 0.0282 - accuracy: 0.9930 - val_loss: 0.0235 - val_accuracy: 0.9952\n",
            "Epoch 3/10\n",
            "60000/60000 [==============================] - 1s 22us/step - loss: 0.0258 - accuracy: 0.9939 - val_loss: 0.0233 - val_accuracy: 0.9946\n",
            "Epoch 4/10\n",
            "60000/60000 [==============================] - 1s 21us/step - loss: 0.0241 - accuracy: 0.9945 - val_loss: 0.0203 - val_accuracy: 0.9959\n",
            "Epoch 5/10\n",
            "60000/60000 [==============================] - 1s 21us/step - loss: 0.0218 - accuracy: 0.9952 - val_loss: 0.0189 - val_accuracy: 0.9968\n",
            "Epoch 6/10\n",
            "60000/60000 [==============================] - 1s 21us/step - loss: 0.0204 - accuracy: 0.9956 - val_loss: 0.0166 - val_accuracy: 0.9975\n",
            "Epoch 7/10\n",
            "60000/60000 [==============================] - 1s 21us/step - loss: 0.0184 - accuracy: 0.9961 - val_loss: 0.0161 - val_accuracy: 0.9973\n",
            "Epoch 8/10\n",
            "60000/60000 [==============================] - 1s 21us/step - loss: 0.0168 - accuracy: 0.9969 - val_loss: 0.0153 - val_accuracy: 0.9974\n",
            "Epoch 9/10\n",
            "60000/60000 [==============================] - 1s 21us/step - loss: 0.0153 - accuracy: 0.9973 - val_loss: 0.0129 - val_accuracy: 0.9982\n",
            "Epoch 10/10\n",
            "60000/60000 [==============================] - 1s 21us/step - loss: 0.0140 - accuracy: 0.9976 - val_loss: 0.0110 - val_accuracy: 0.9986\n"
          ],
          "name": "stdout"
        },
        {
          "output_type": "execute_result",
          "data": {
            "text/plain": [
              "'\\nIt can be clearly seen that the accuracy has improved\\n'"
            ]
          },
          "metadata": {
            "tags": []
          },
          "execution_count": 87
        }
      ]
    },
    {
      "cell_type": "markdown",
      "metadata": {
        "id": "sOzYgil49hY5",
        "colab_type": "text"
      },
      "source": [
        "**Plotting the accuracy and loss**"
      ]
    },
    {
      "cell_type": "code",
      "metadata": {
        "id": "tWjGyJQhyOJl",
        "colab_type": "code",
        "colab": {
          "base_uri": "https://localhost:8080/",
          "height": 573
        },
        "outputId": "00ac91ef-895f-4e76-e940-04236b169d86"
      },
      "source": [
        "# Plot training & validation accuracy values\n",
        "plt.plot(history.history['accuracy'])\n",
        "plt.plot(history.history['val_accuracy'])\n",
        "plt.title('Model accuracy')\n",
        "plt.ylabel('Accuracy')\n",
        "plt.xlabel('Epoch')\n",
        "plt.legend(['Train', 'Test'], loc='upper left')\n",
        "plt.show()\n",
        "\n",
        "# Plot training & validation loss values\n",
        "plt.plot(history.history['loss'])\n",
        "plt.plot(history.history['val_loss'])\n",
        "plt.title('Model loss')\n",
        "plt.ylabel('Loss')\n",
        "plt.xlabel('Epoch')\n",
        "plt.legend(['Train', 'Test'], loc='upper left')\n",
        "plt.show()"
      ],
      "execution_count": 88,
      "outputs": [
        {
          "output_type": "display_data",
          "data": {
            "image/png": "[encoded data removed]",
            "text/plain": [
              "<Figure size 432x288 with 1 Axes>"
            ]
          },
          "metadata": {
            "tags": [],
            "needs_background": "light"
          }
        },
        {
          "output_type": "display_data",
          "data": {
            "image/png": "[encoded data removed]",
            "text/plain": [
              "<Figure size 432x288 with 1 Axes>"
            ]
          },
          "metadata": {
            "tags": [],
            "needs_background": "light"
          }
        }
      ]
    },
    {
      "cell_type": "markdown",
      "metadata": {
        "id": "PNq4lRo3BUDq",
        "colab_type": "text"
      },
      "source": [
        "# Convolutional Neural network on MNIST"
      ]
    },
    {
      "cell_type": "markdown",
      "metadata": {
        "id": "4TNxVGyVUcHi",
        "colab_type": "text"
      },
      "source": [
        "**Basic steps of building a convolutional neural network for image processing**\n",
        "1. Reshape the input image dimensions to appropriate dimensions\n",
        "2. Normalize the image pixel values (divide by 255)\n",
        "3. One-Hot Encode the categorical column\n",
        "4. Build a model architecture (Sequential) with Dense layers\n",
        "5. Train the model and make predictions\n",
        "\n",
        "\n"
      ]
    },
    {
      "cell_type": "markdown",
      "metadata": {
        "id": "zEg7bzXRBZLX",
        "colab_type": "text"
      },
      "source": [
        "**Preparing the data**"
      ]
    },
    {
      "cell_type": "code",
      "metadata": {
        "id": "PIGEA0SryAoM",
        "colab_type": "code",
        "colab": {
          "base_uri": "https://localhost:8080/",
          "height": 52
        },
        "outputId": "8eb8e7c3-8299-45ec-ca87-1f9d3014871e"
      },
      "source": [
        "from keras.datasets import mnist\n",
        "from keras.models import Sequential\n",
        "from keras.layers import Dense, Dropout, Conv2D, MaxPool2D, Flatten\n",
        "from keras.utils import np_utils\n",
        "from sklearn.metrics import accuracy_score\n",
        "\n",
        "# loading the dataset again\n",
        "(X_train, y_train), (X_test, y_test) = mnist.load_data()\n",
        "\n",
        "#reshaping the data to have a single color channel\n",
        "X_train = X_train.reshape(X_train.shape[0], 28, 28, 1)\n",
        "X_test = X_test.reshape(X_test.shape[0], 28, 28, 1)\n",
        "\n",
        "#converting to float\n",
        "X_train = X_train.astype('float32')\n",
        "X_test = X_test.astype('float32')\n",
        "\n",
        "# normalizing the data \n",
        "X_train /= 255\n",
        "X_test /= 255\n",
        "\n",
        "# one-hot encoding using keras\n",
        "\"\"\"\n",
        "now each label is replace by 10 columns\n",
        "\"\"\"\n",
        "n_classes = 10\n",
        "print(\"Shape before one-hot encoding: \", y_train.shape)\n",
        "y_train = np_utils.to_categorical(y_train, n_classes)\n",
        "y_test = np_utils.to_categorical(y_test, n_classes)\n",
        "print(\"Shape after one-hot encoding: \", Y_train.shape)\n"
      ],
      "execution_count": 89,
      "outputs": [
        {
          "output_type": "stream",
          "text": [
            "Shape before one-hot encoding:  (60000,)\n",
            "Shape after one-hot encoding:  (60000, 10)\n"
          ],
          "name": "stdout"
        }
      ]
    },
    {
      "cell_type": "code",
      "metadata": {
        "id": "qJ03S2vyB9a9",
        "colab_type": "code",
        "colab": {
          "base_uri": "https://localhost:8080/",
          "height": 34
        },
        "outputId": "69257218-72c4-4595-98b0-aa48cd54fe8d"
      },
      "source": [
        "print(X_train.shape[1:])"
      ],
      "execution_count": 90,
      "outputs": [
        {
          "output_type": "stream",
          "text": [
            "(28, 28, 1)\n"
          ],
          "name": "stdout"
        }
      ]
    },
    {
      "cell_type": "markdown",
      "metadata": {
        "id": "WmFWGiMYB2Id",
        "colab_type": "text"
      },
      "source": [
        "**Defining the CNN**"
      ]
    },
    {
      "cell_type": "code",
      "metadata": {
        "id": "bYjejj8IA7bs",
        "colab_type": "code",
        "colab": {}
      },
      "source": [
        "model = Sequential()\n",
        "\n",
        "# convolutional layer\n",
        "# model.add(Conv2D(25, kernel_size=(3,3), strides=(1,1), padding='valid', activation='relu', input_shape=(28,28,1)))\n",
        "model.add(Conv2D(25, kernel_size=(3,3), strides=(1,1), padding='valid', activation='relu', input_shape=X_train.shape[1:]))\n",
        "model.add(MaxPool2D(pool_size=(1,1)))\n",
        "\n",
        "# flatten output of conv\n",
        "model.add(Flatten())\n",
        "\n",
        "# hidden layer\n",
        "model.add(Dense(100, activation='relu'))\n",
        "\n",
        "# output layer\n",
        "model.add(Dense(10, activation='softmax'))\n",
        "\n",
        "# compiling the sequential model\n",
        "model.compile(loss='categorical_crossentropy', metrics=['accuracy'], optimizer='adam')\n"
      ],
      "execution_count": 0,
      "outputs": []
    },
    {
      "cell_type": "code",
      "metadata": {
        "id": "LaE1x6BDByNv",
        "colab_type": "code",
        "colab": {
          "base_uri": "https://localhost:8080/",
          "height": 336
        },
        "outputId": "069c639a-5639-4ffa-e2f2-b29cefe48898"
      },
      "source": [
        "model.summary()"
      ],
      "execution_count": 92,
      "outputs": [
        {
          "output_type": "stream",
          "text": [
            "Model: \"sequential_32\"\n",
            "_________________________________________________________________\n",
            "Layer (type)                 Output Shape              Param #   \n",
            "=================================================================\n",
            "conv2d_47 (Conv2D)           (None, 26, 26, 25)        250       \n",
            "_________________________________________________________________\n",
            "max_pooling2d_25 (MaxPooling (None, 26, 26, 25)        0         \n",
            "_________________________________________________________________\n",
            "flatten_16 (Flatten)         (None, 16900)             0         \n",
            "_________________________________________________________________\n",
            "dense_43 (Dense)             (None, 100)               1690100   \n",
            "_________________________________________________________________\n",
            "dense_44 (Dense)             (None, 10)                1010      \n",
            "=================================================================\n",
            "Total params: 1,691,360\n",
            "Trainable params: 1,691,360\n",
            "Non-trainable params: 0\n",
            "_________________________________________________________________\n"
          ],
          "name": "stdout"
        }
      ]
    },
    {
      "cell_type": "code",
      "metadata": {
        "id": "h5Whpd3JBxPk",
        "colab_type": "code",
        "colab": {
          "base_uri": "https://localhost:8080/",
          "height": 390
        },
        "outputId": "20245ebd-2382-430a-a813-0bd31501cce2"
      },
      "source": [
        "# training the model for 10 epochs\n",
        "history=model.fit(X_train, y_train, batch_size=128, epochs=10, validation_data=(X_test, y_test))"
      ],
      "execution_count": 93,
      "outputs": [
        {
          "output_type": "stream",
          "text": [
            "Train on 60000 samples, validate on 10000 samples\n",
            "Epoch 1/10\n",
            "60000/60000 [==============================] - 3s 45us/step - loss: 0.1986 - accuracy: 0.9419 - val_loss: 0.0836 - val_accuracy: 0.9735\n",
            "Epoch 2/10\n",
            "60000/60000 [==============================] - 3s 42us/step - loss: 0.0590 - accuracy: 0.9827 - val_loss: 0.0608 - val_accuracy: 0.9797\n",
            "Epoch 3/10\n",
            "60000/60000 [==============================] - 3s 42us/step - loss: 0.0364 - accuracy: 0.9889 - val_loss: 0.0541 - val_accuracy: 0.9814\n",
            "Epoch 4/10\n",
            "60000/60000 [==============================] - 3s 43us/step - loss: 0.0232 - accuracy: 0.9926 - val_loss: 0.0608 - val_accuracy: 0.9822\n",
            "Epoch 5/10\n",
            "60000/60000 [==============================] - 3s 43us/step - loss: 0.0148 - accuracy: 0.9959 - val_loss: 0.0570 - val_accuracy: 0.9825\n",
            "Epoch 6/10\n",
            "60000/60000 [==============================] - 3s 43us/step - loss: 0.0089 - accuracy: 0.9977 - val_loss: 0.0546 - val_accuracy: 0.9838\n",
            "Epoch 7/10\n",
            "60000/60000 [==============================] - 3s 42us/step - loss: 0.0067 - accuracy: 0.9979 - val_loss: 0.0662 - val_accuracy: 0.9819\n",
            "Epoch 8/10\n",
            "60000/60000 [==============================] - 3s 43us/step - loss: 0.0066 - accuracy: 0.9980 - val_loss: 0.0649 - val_accuracy: 0.9831\n",
            "Epoch 9/10\n",
            "60000/60000 [==============================] - 3s 42us/step - loss: 0.0086 - accuracy: 0.9970 - val_loss: 0.0640 - val_accuracy: 0.9838\n",
            "Epoch 10/10\n",
            "60000/60000 [==============================] - 3s 42us/step - loss: 0.0043 - accuracy: 0.9987 - val_loss: 0.0737 - val_accuracy: 0.9831\n"
          ],
          "name": "stdout"
        }
      ]
    },
    {
      "cell_type": "code",
      "metadata": {
        "id": "5jb5sW3-DLdO",
        "colab_type": "code",
        "colab": {
          "base_uri": "https://localhost:8080/",
          "height": 390
        },
        "outputId": "4afababf-2b86-4092-b8eb-a730700b59c8"
      },
      "source": [
        "#Increasing the batch size and changing the validation set\n",
        "# training the model for 10 epochs\n",
        "history=model.fit(X_train, y_train, batch_size=256, epochs=10, validation_data=(X_train, y_train))"
      ],
      "execution_count": 94,
      "outputs": [
        {
          "output_type": "stream",
          "text": [
            "Train on 60000 samples, validate on 60000 samples\n",
            "Epoch 1/10\n",
            "60000/60000 [==============================] - 2s 39us/step - loss: 0.0013 - accuracy: 0.9998 - val_loss: 4.5504e-04 - val_accuracy: 1.0000\n",
            "Epoch 2/10\n",
            "60000/60000 [==============================] - 2s 39us/step - loss: 3.1644e-04 - accuracy: 1.0000 - val_loss: 2.0600e-04 - val_accuracy: 1.0000\n",
            "Epoch 3/10\n",
            "60000/60000 [==============================] - 2s 38us/step - loss: 1.9237e-04 - accuracy: 1.0000 - val_loss: 1.5628e-04 - val_accuracy: 1.0000\n",
            "Epoch 4/10\n",
            "60000/60000 [==============================] - 2s 38us/step - loss: 1.5379e-04 - accuracy: 1.0000 - val_loss: 1.2720e-04 - val_accuracy: 1.0000\n",
            "Epoch 5/10\n",
            "60000/60000 [==============================] - 2s 39us/step - loss: 1.2774e-04 - accuracy: 1.0000 - val_loss: 1.0757e-04 - val_accuracy: 1.0000\n",
            "Epoch 6/10\n",
            "60000/60000 [==============================] - 2s 39us/step - loss: 1.0771e-04 - accuracy: 1.0000 - val_loss: 9.3332e-05 - val_accuracy: 1.0000\n",
            "Epoch 7/10\n",
            "60000/60000 [==============================] - 2s 39us/step - loss: 9.2921e-05 - accuracy: 1.0000 - val_loss: 8.0213e-05 - val_accuracy: 1.0000\n",
            "Epoch 8/10\n",
            "60000/60000 [==============================] - 2s 40us/step - loss: 8.1228e-05 - accuracy: 1.0000 - val_loss: 7.0397e-05 - val_accuracy: 1.0000\n",
            "Epoch 9/10\n",
            "60000/60000 [==============================] - 2s 40us/step - loss: 7.0908e-05 - accuracy: 1.0000 - val_loss: 6.1736e-05 - val_accuracy: 1.0000\n",
            "Epoch 10/10\n",
            "60000/60000 [==============================] - 2s 39us/step - loss: 6.2912e-05 - accuracy: 1.0000 - val_loss: 5.4136e-05 - val_accuracy: 1.0000\n"
          ],
          "name": "stdout"
        }
      ]
    },
    {
      "cell_type": "markdown",
      "metadata": {
        "id": "zBLnWdUiEoid",
        "colab_type": "text"
      },
      "source": [
        "Plotting training and loss"
      ]
    },
    {
      "cell_type": "code",
      "metadata": {
        "id": "AcwDr-wCzDJa",
        "colab_type": "code",
        "colab": {
          "base_uri": "https://localhost:8080/",
          "height": 573
        },
        "outputId": "11b1f030-b76e-4b22-9561-c55e333ae959"
      },
      "source": [
        "# Plot training & validation accuracy values\n",
        "plt.plot(history.history['accuracy'])\n",
        "plt.plot(history.history['val_accuracy'])\n",
        "plt.title('Model accuracy')\n",
        "plt.ylabel('Accuracy')\n",
        "plt.xlabel('Epoch')\n",
        "plt.legend(['Train', 'Test'], loc='upper left')\n",
        "plt.show()\n",
        "\n",
        "# Plot training & validation loss values\n",
        "plt.plot(history.history['loss'])\n",
        "plt.plot(history.history['val_loss'])\n",
        "plt.title('Model loss')\n",
        "plt.ylabel('Loss')\n",
        "plt.xlabel('Epoch')\n",
        "plt.legend(['Train', 'Test'], loc='upper left')\n",
        "plt.show()"
      ],
      "execution_count": 95,
      "outputs": [
        {
          "output_type": "display_data",
          "data": {
            "image/png": "[encoded data removed]",
            "text/plain": [
              "<Figure size 432x288 with 1 Axes>"
            ]
          },
          "metadata": {
            "tags": [],
            "needs_background": "light"
          }
        },
        {
          "output_type": "display_data",
          "data": {
            "image/png": "[encoded data removed]",
            "text/plain": [
              "<Figure size 432x288 with 1 Axes>"
            ]
          },
          "metadata": {
            "tags": [],
            "needs_background": "light"
          }
        }
      ]
    },
    {
      "cell_type": "code",
      "metadata": {
        "id": "hMgqMKZ2Dh7z",
        "colab_type": "code",
        "colab": {
          "base_uri": "https://localhost:8080/",
          "height": 34
        },
        "outputId": "33ca3201-b67a-4cec-a3d9-1d77c94e37e8"
      },
      "source": [
        "_, acc = model.evaluate(X_test, y_test, verbose=0)\n",
        "print('> %.3f' % (acc * 100.0))"
      ],
      "execution_count": 96,
      "outputs": [
        {
          "output_type": "stream",
          "text": [
            "> 98.620\n"
          ],
          "name": "stdout"
        }
      ]
    },
    {
      "cell_type": "markdown",
      "metadata": {
        "id": "dBp2lRkyFRhR",
        "colab_type": "text"
      },
      "source": [
        "## Introducing batch normalization on normalized data**"
      ]
    },
    {
      "cell_type": "code",
      "metadata": {
        "id": "wjySA6ozFREE",
        "colab_type": "code",
        "colab": {
          "base_uri": "https://localhost:8080/",
          "height": 478
        },
        "outputId": "4c7e0ddf-bd25-496e-f0f2-e0cd4c900752"
      },
      "source": [
        "from keras.layers import  BatchNormalization\n",
        "model = Sequential()\n",
        "\n",
        "# convolutional layer\n",
        "model.add(Conv2D(25, kernel_size=(3,3), strides=(1,1), padding='valid', activation='relu', input_shape=X_train.shape[1:]))\n",
        "model.add(BatchNormalization())\n",
        "model.add(MaxPool2D(pool_size=(1,1)))\n",
        "\n",
        "# flatten output of conv\n",
        "model.add(Flatten())\n",
        "\n",
        "# hidden layer\n",
        "model.add(Dense(100, activation='relu'))\n",
        "\n",
        "# output layer\n",
        "model.add(Dense(10, activation='softmax'))\n",
        "\n",
        "# compiling the sequential model\n",
        "model.compile(loss='categorical_crossentropy', metrics=['accuracy'], optimizer='adam')\n",
        "\n",
        "#Training\n",
        "model.fit(X_train, y_train, batch_size=256, epochs=10, validation_data=(X_train, y_train))\n",
        "\n",
        "#Evaluation\n",
        "_, acc = model.evaluate(X_test, y_test, verbose=0)\n",
        "print('\\n\\n\\n***************************************************\\nAccuracy:%.3f' % (acc * 100.0))\n"
      ],
      "execution_count": 97,
      "outputs": [
        {
          "output_type": "stream",
          "text": [
            "Train on 60000 samples, validate on 60000 samples\n",
            "Epoch 1/10\n",
            "60000/60000 [==============================] - 4s 68us/step - loss: 0.1798 - accuracy: 0.9468 - val_loss: 0.9077 - val_accuracy: 0.9591\n",
            "Epoch 2/10\n",
            "60000/60000 [==============================] - 4s 63us/step - loss: 0.0378 - accuracy: 0.9884 - val_loss: 0.1091 - val_accuracy: 0.9928\n",
            "Epoch 3/10\n",
            "60000/60000 [==============================] - 4s 63us/step - loss: 0.0149 - accuracy: 0.9956 - val_loss: 0.0101 - val_accuracy: 0.9979\n",
            "Epoch 4/10\n",
            "60000/60000 [==============================] - 4s 63us/step - loss: 0.0070 - accuracy: 0.9979 - val_loss: 0.0032 - val_accuracy: 0.9993\n",
            "Epoch 5/10\n",
            "60000/60000 [==============================] - 4s 63us/step - loss: 0.0040 - accuracy: 0.9990 - val_loss: 0.0031 - val_accuracy: 0.9992\n",
            "Epoch 6/10\n",
            "60000/60000 [==============================] - 4s 63us/step - loss: 0.0058 - accuracy: 0.9985 - val_loss: 0.0041 - val_accuracy: 0.9987\n",
            "Epoch 7/10\n",
            "60000/60000 [==============================] - 4s 63us/step - loss: 0.0077 - accuracy: 0.9975 - val_loss: 0.0110 - val_accuracy: 0.9963\n",
            "Epoch 8/10\n",
            "60000/60000 [==============================] - 4s 63us/step - loss: 0.0087 - accuracy: 0.9970 - val_loss: 0.0137 - val_accuracy: 0.9951\n",
            "Epoch 9/10\n",
            "60000/60000 [==============================] - 4s 63us/step - loss: 0.0088 - accuracy: 0.9972 - val_loss: 0.0068 - val_accuracy: 0.9978\n",
            "Epoch 10/10\n",
            "60000/60000 [==============================] - 4s 63us/step - loss: 0.0049 - accuracy: 0.9984 - val_loss: 0.0021 - val_accuracy: 0.9992\n",
            "\n",
            "\n",
            "\n",
            "***************************************************\n",
            "Accuracy:98.330\n"
          ],
          "name": "stdout"
        }
      ]
    },
    {
      "cell_type": "markdown",
      "metadata": {
        "id": "tZEZN4NnIvOL",
        "colab_type": "text"
      },
      "source": [
        "## Including batch norm on non normalized data"
      ]
    },
    {
      "cell_type": "code",
      "metadata": {
        "id": "O9Yp864iIsGF",
        "colab_type": "code",
        "colab": {}
      },
      "source": [
        "from keras.datasets import mnist\n",
        "from keras.models import Sequential\n",
        "from keras.layers import Dense, Dropout, Conv2D, MaxPool2D, Flatten\n",
        "from keras.utils import np_utils\n",
        "from sklearn.metrics import accuracy_score\n",
        "\n",
        "# loading the dataset again\n",
        "(X_train, y_train), (X_test, y_test) = mnist.load_data()\n",
        "\n",
        "#reshaping the data to have a single color channel\n",
        "X_train = X_train.reshape(X_train.shape[0], 28, 28, 1)\n",
        "X_test = X_test.reshape(X_test.shape[0], 28, 28, 1)\n",
        "\n",
        "#converting to float\n",
        "X_train = X_train.astype('float32')\n",
        "X_test = X_test.astype('float32')\n",
        "\n",
        "# one-hot encoding using keras\n",
        "\"\"\"\n",
        "now each label is replace by 10 columns\n",
        "\"\"\"\n",
        "n_classes = 10\n",
        "y_train = np_utils.to_categorical(y_train, n_classes)\n",
        "y_test = np_utils.to_categorical(y_test, n_classes)\n"
      ],
      "execution_count": 0,
      "outputs": []
    },
    {
      "cell_type": "code",
      "metadata": {
        "id": "EFbkGLExGrh5",
        "colab_type": "code",
        "colab": {
          "base_uri": "https://localhost:8080/",
          "height": 478
        },
        "outputId": "0a2e19f5-eac6-4c54-f422-5d87f925279c"
      },
      "source": [
        "from keras.layers import  BatchNormalization\n",
        "model = Sequential()\n",
        "\n",
        "# convolutional layer\n",
        "model.add(Conv2D(25, kernel_size=(3,3), strides=(1,1), padding='valid', activation='relu', input_shape=X_train.shape[1:]))\n",
        "model.add(BatchNormalization())\n",
        "model.add(MaxPool2D(pool_size=(1,1)))\n",
        "\n",
        "# flatten output of conv\n",
        "model.add(Flatten())\n",
        "\n",
        "# hidden layer\n",
        "model.add(Dense(100, activation='relu'))\n",
        "\n",
        "# output layer\n",
        "model.add(Dense(10, activation='softmax'))\n",
        "\n",
        "# compiling the sequential model\n",
        "model.compile(loss='categorical_crossentropy', metrics=['accuracy'], optimizer='adam')\n",
        "\n",
        "#Training\n",
        "model.fit(X_train, y_train, batch_size=256, epochs=10, validation_data=(X_train, y_train))\n",
        "\n",
        "#Evaluation\n",
        "_, acc = model.evaluate(X_test, y_test, verbose=0)\n",
        "print('\\n\\n\\n***************************************************\\nAccuracy:%.3f' % (acc * 100.0))\n"
      ],
      "execution_count": 99,
      "outputs": [
        {
          "output_type": "stream",
          "text": [
            "Train on 60000 samples, validate on 60000 samples\n",
            "Epoch 1/10\n",
            "60000/60000 [==============================] - 4s 67us/step - loss: 0.2943 - accuracy: 0.9272 - val_loss: 0.0546 - val_accuracy: 0.9838\n",
            "Epoch 2/10\n",
            "60000/60000 [==============================] - 4s 63us/step - loss: 0.0553 - accuracy: 0.9833 - val_loss: 0.0260 - val_accuracy: 0.9922\n",
            "Epoch 3/10\n",
            "60000/60000 [==============================] - 4s 63us/step - loss: 0.0245 - accuracy: 0.9922 - val_loss: 0.0141 - val_accuracy: 0.9961\n",
            "Epoch 4/10\n",
            "60000/60000 [==============================] - 4s 63us/step - loss: 0.0138 - accuracy: 0.9958 - val_loss: 0.0118 - val_accuracy: 0.9961\n",
            "Epoch 5/10\n",
            "60000/60000 [==============================] - 4s 63us/step - loss: 0.0083 - accuracy: 0.9976 - val_loss: 0.0063 - val_accuracy: 0.9981\n",
            "Epoch 6/10\n",
            "60000/60000 [==============================] - 4s 63us/step - loss: 0.0054 - accuracy: 0.9984 - val_loss: 0.0034 - val_accuracy: 0.9990\n",
            "Epoch 7/10\n",
            "60000/60000 [==============================] - 4s 63us/step - loss: 0.0035 - accuracy: 0.9991 - val_loss: 0.0033 - val_accuracy: 0.9991\n",
            "Epoch 8/10\n",
            "60000/60000 [==============================] - 4s 63us/step - loss: 0.0126 - accuracy: 0.9961 - val_loss: 0.0104 - val_accuracy: 0.9965\n",
            "Epoch 9/10\n",
            "60000/60000 [==============================] - 4s 63us/step - loss: 0.0154 - accuracy: 0.9948 - val_loss: 0.0093 - val_accuracy: 0.9968\n",
            "Epoch 10/10\n",
            "60000/60000 [==============================] - 4s 63us/step - loss: 0.0150 - accuracy: 0.9953 - val_loss: 0.0063 - val_accuracy: 0.9981\n",
            "\n",
            "\n",
            "\n",
            "***************************************************\n",
            "Accuracy:98.040\n"
          ],
          "name": "stdout"
        }
      ]
    },
    {
      "cell_type": "markdown",
      "metadata": {
        "id": "HrWvYcnfJhya",
        "colab_type": "text"
      },
      "source": [
        "There is not much difference by including batch normalization on normal data vs normalized data. Hence we can use batch normalization in place of normalizing the data"
      ]
    },
    {
      "cell_type": "markdown",
      "metadata": {
        "id": "soGgJcDhJ_9s",
        "colab_type": "text"
      },
      "source": [
        "## Building a deeper CNN"
      ]
    },
    {
      "cell_type": "markdown",
      "metadata": {
        "id": "GfTOUWhqQ8hz",
        "colab_type": "text"
      },
      "source": [
        "### Adding data augmentation"
      ]
    },
    {
      "cell_type": "code",
      "metadata": {
        "id": "U_zgqxC7LkcU",
        "colab_type": "code",
        "colab": {
          "base_uri": "https://localhost:8080/",
          "height": 0
        },
        "outputId": "ef511b9f-6163-4509-b483-5d791c971933"
      },
      "source": [
        "from keras.preprocessing.image import ImageDataGenerator\n",
        "from keras.layers import  BatchNormalization\n",
        "model = Sequential()\n",
        "\n",
        "# convolutional layer\n",
        "model.add(Conv2D(25, kernel_size=(3,3), strides=(1,1), padding='valid', activation='relu', input_shape=X_train.shape[1:]))\n",
        "model.add(Conv2D(100, kernel_size=(3,3), strides=(1,1), padding='valid', activation='relu'))\n",
        "\n",
        "model.add(BatchNormalization())\n",
        "model.add(MaxPool2D(pool_size=(1,1)))\n",
        "\n",
        "# flatten output of conv\n",
        "model.add(Flatten())\n",
        "\n",
        "# hidden layer\n",
        "model.add(Dense(100, activation='relu'))\n",
        "\n",
        "# output layer\n",
        "model.add(Dense(10, activation='softmax'))\n",
        "\n",
        "# compiling the sequential model\n",
        "model.compile(loss='categorical_crossentropy', metrics=['accuracy'], optimizer='adam')\n",
        "\n",
        "\n",
        "datagen = ImageDataGenerator(\n",
        "        featurewise_center=False,  # set input mean to 0 over the dataset\n",
        "        samplewise_center=False,  # set each sample mean to 0\n",
        "        featurewise_std_normalization=False,  # divide inputs by std of the dataset\n",
        "        samplewise_std_normalization=False,  # divide each input by its std\n",
        "        zca_whitening=False,  # apply ZCA whitening\n",
        "        rotation_range=10,  # randomly rotate images in the range (degrees, 0 to 180)\n",
        "        zoom_range = 0.1, # Randomly zoom image \n",
        "        width_shift_range=0.1,  # randomly shift images horizontally (fraction of total width)\n",
        "        height_shift_range=0.1,  # randomly shift images vertically (fraction of total height)\n",
        "        horizontal_flip=False,  # randomly flip images\n",
        "        vertical_flip=False)  # randomly flip images\n",
        "\n",
        "batch_size=256\n",
        "#datagen.fit(X_train)\n",
        "X = datagen.flow(X_train, y_train, batch_size=256)\n",
        "test = datagen.flow(X_test, y_test, batch_size=256)\n",
        "\n",
        "history = model.fit_generator(X, \n",
        "                              epochs = 10, \n",
        "                              steps_per_epoch = X_train.shape[0] // batch_size,\n",
        "                              validation_data = test,\n",
        "                              validation_steps = X_test.shape[0] // batch_size)\n",
        "\n",
        "#Evaluation\n",
        "_, acc = model.evaluate(X_test, y_test, verbose=0)\n",
        "print('\\n\\n\\n***************************************************\\nAccuracy:%.3f' % (acc * 100.0))\n"
      ],
      "execution_count": 100,
      "outputs": [
        {
          "output_type": "stream",
          "text": [
            "Epoch 1/10\n",
            "234/234 [==============================] - 19s 80ms/step - loss: 0.4538 - accuracy: 0.8890 - val_loss: 0.2481 - val_accuracy: 0.9512\n",
            "Epoch 2/10\n",
            "234/234 [==============================] - 18s 76ms/step - loss: 0.1206 - accuracy: 0.9637 - val_loss: 0.0683 - val_accuracy: 0.9690\n",
            "Epoch 3/10\n",
            "234/234 [==============================] - 18s 77ms/step - loss: 0.0937 - accuracy: 0.9721 - val_loss: 0.1242 - val_accuracy: 0.9652\n",
            "Epoch 4/10\n",
            "234/234 [==============================] - 18s 76ms/step - loss: 0.0817 - accuracy: 0.9756 - val_loss: 0.1023 - val_accuracy: 0.9751\n",
            "Epoch 5/10\n",
            "234/234 [==============================] - 18s 76ms/step - loss: 0.0667 - accuracy: 0.9803 - val_loss: 0.0449 - val_accuracy: 0.9788\n",
            "Epoch 6/10\n",
            "234/234 [==============================] - 19s 79ms/step - loss: 0.0599 - accuracy: 0.9829 - val_loss: 0.0428 - val_accuracy: 0.9763\n",
            "Epoch 7/10\n",
            "234/234 [==============================] - 19s 79ms/step - loss: 0.0591 - accuracy: 0.9824 - val_loss: 0.0637 - val_accuracy: 0.9782\n",
            "Epoch 8/10\n",
            "234/234 [==============================] - 19s 79ms/step - loss: 0.0530 - accuracy: 0.9844 - val_loss: 0.0958 - val_accuracy: 0.9795\n",
            "Epoch 9/10\n",
            "234/234 [==============================] - 19s 80ms/step - loss: 0.0498 - accuracy: 0.9851 - val_loss: 0.0559 - val_accuracy: 0.9783\n",
            "Epoch 10/10\n",
            "234/234 [==============================] - 19s 80ms/step - loss: 0.0476 - accuracy: 0.9854 - val_loss: 0.2220 - val_accuracy: 0.9767\n",
            "\n",
            "\n",
            "\n",
            "***************************************************\n",
            "Accuracy:97.230\n"
          ],
          "name": "stdout"
        }
      ]
    },
    {
      "cell_type": "markdown",
      "metadata": {
        "id": "jKDfZ6nIRCX4",
        "colab_type": "text"
      },
      "source": [
        "### Increasing the layers"
      ]
    },
    {
      "cell_type": "code",
      "metadata": {
        "id": "q2Hn_EVfPGKc",
        "colab_type": "code",
        "colab": {
          "base_uri": "https://localhost:8080/",
          "height": 461
        },
        "outputId": "7aae15ec-3665-4b88-d179-c5d745757401"
      },
      "source": [
        "model=Sequential()\n",
        "  \n",
        "model.add(Conv2D(64, (3,3), activation=\"relu\", input_shape=X_train.shape[1:]))\n",
        "model.add(Conv2D(64, (3,3), activation=\"relu\"))\n",
        "\n",
        "model.add(MaxPool2D(pool_size=(2,2)))\n",
        "model.add(BatchNormalization())\n",
        "\n",
        "model.add(Conv2D(128,  (3,3), activation=\"relu\"))\n",
        "model.add(Conv2D(128, (3,3), activation=\"relu\"))\n",
        "\n",
        "model.add(MaxPool2D(pool_size=(2,2)))\n",
        "model.add(BatchNormalization())    \n",
        "model.add(Conv2D(256, (3,3), activation=\"relu\"))\n",
        "    \n",
        "model.add(MaxPool2D(pool_size=(2,2)))\n",
        "    \n",
        "model.add(Flatten())\n",
        "model.add(BatchNormalization())\n",
        "model.add(Dense(512,activation=\"relu\"))\n",
        "    \n",
        "model.add(Dense(10,activation=\"softmax\"))\n",
        "    \n",
        "model.compile(loss=\"categorical_crossentropy\", optimizer=\"adam\", metrics=[\"accuracy\"])\n",
        "\n",
        "\n",
        "history = model.fit_generator(X, \n",
        "                              epochs = 10, \n",
        "                              steps_per_epoch = X_train.shape[0] // batch_size,\n",
        "                              validation_data = test,\n",
        "                              validation_steps = X_test.shape[0] // batch_size)\n",
        "\n",
        "#Evaluation\n",
        "_, acc = model.evaluate(X_test, y_test, verbose=0)\n",
        "print('\\n\\n\\n***************************************************\\nAccuracy:%.3f' % (acc * 100.0))"
      ],
      "execution_count": 102,
      "outputs": [
        {
          "output_type": "stream",
          "text": [
            "Epoch 1/10\n",
            "234/234 [==============================] - 18s 77ms/step - loss: 0.1290 - accuracy: 0.9597 - val_loss: 0.1732 - val_accuracy: 0.9677\n",
            "Epoch 2/10\n",
            "234/234 [==============================] - 18s 76ms/step - loss: 0.0489 - accuracy: 0.9848 - val_loss: 0.0478 - val_accuracy: 0.9831\n",
            "Epoch 3/10\n",
            "234/234 [==============================] - 18s 76ms/step - loss: 0.0392 - accuracy: 0.9877 - val_loss: 0.0661 - val_accuracy: 0.9845\n",
            "Epoch 4/10\n",
            "234/234 [==============================] - 18s 77ms/step - loss: 0.0320 - accuracy: 0.9899 - val_loss: 0.0505 - val_accuracy: 0.9868\n",
            "Epoch 5/10\n",
            "234/234 [==============================] - 18s 77ms/step - loss: 0.0300 - accuracy: 0.9910 - val_loss: 0.0690 - val_accuracy: 0.9859\n",
            "Epoch 6/10\n",
            "234/234 [==============================] - 18s 77ms/step - loss: 0.0244 - accuracy: 0.9922 - val_loss: 0.0392 - val_accuracy: 0.9867\n",
            "Epoch 7/10\n",
            "234/234 [==============================] - 18s 76ms/step - loss: 0.0250 - accuracy: 0.9924 - val_loss: 0.1213 - val_accuracy: 0.9874\n",
            "Epoch 8/10\n",
            "234/234 [==============================] - 18s 77ms/step - loss: 0.0216 - accuracy: 0.9936 - val_loss: 0.0551 - val_accuracy: 0.9917\n",
            "Epoch 9/10\n",
            "234/234 [==============================] - 18s 78ms/step - loss: 0.0222 - accuracy: 0.9930 - val_loss: 0.0501 - val_accuracy: 0.9905\n",
            "Epoch 10/10\n",
            "234/234 [==============================] - 18s 77ms/step - loss: 0.0200 - accuracy: 0.9935 - val_loss: 0.0840 - val_accuracy: 0.9903\n",
            "\n",
            "\n",
            "\n",
            "***************************************************\n",
            "Accuracy:99.140\n"
          ],
          "name": "stdout"
        }
      ]
    },
    {
      "cell_type": "markdown",
      "metadata": {
        "id": "lBgEuSIhRaDD",
        "colab_type": "text"
      },
      "source": [
        "It can be clearly seen that the testing accuracy increased by adding more layers which means the model has not overfitted to the data. Previously we did attain a training accuracy of 1 but not a good testing accuracy pointing towards overfitting of the model but adding more layers overcame that problem."
      ]
    },
    {
      "cell_type": "markdown",
      "metadata": {
        "id": "DRTU5Xr7RxAA",
        "colab_type": "text"
      },
      "source": [
        "**Adding dropouts and removing data augmentation (BEST MODEL TILL NOW)**"
      ]
    },
    {
      "cell_type": "markdown",
      "metadata": {
        "id": "rQhygoCRT0qg",
        "colab_type": "text"
      },
      "source": [
        "Reading data"
      ]
    },
    {
      "cell_type": "code",
      "metadata": {
        "id": "sKta5X4sTSXY",
        "colab_type": "code",
        "colab": {}
      },
      "source": [
        "from keras.datasets import mnist\n",
        "from keras.models import Sequential\n",
        "from keras.layers import Dense, Dropout, Conv2D, MaxPool2D, Flatten\n",
        "from keras.utils import np_utils\n",
        "from sklearn.metrics import accuracy_score\n",
        "\n",
        "# loading the dataset again\n",
        "(X_train, y_train), (X_test, y_test) = mnist.load_data()\n",
        "\n",
        "#reshaping the data to have a single color channel\n",
        "X_train = X_train.reshape(X_train.shape[0], 28, 28, 1)\n",
        "X_test = X_test.reshape(X_test.shape[0], 28, 28, 1)\n",
        "\n",
        "#converting to float\n",
        "X_train = X_train.astype('float32')\n",
        "X_test = X_test.astype('float32')\n",
        "\n",
        "# one-hot encoding using keras\n",
        "\"\"\"\n",
        "now each label is replace by 10 columns\n",
        "\"\"\"\n",
        "n_classes = 10\n",
        "y_train = np_utils.to_categorical(y_train, n_classes)\n",
        "y_test = np_utils.to_categorical(y_test, n_classes)\n"
      ],
      "execution_count": 0,
      "outputs": []
    },
    {
      "cell_type": "code",
      "metadata": {
        "id": "ClKESCoeRwKo",
        "colab_type": "code",
        "colab": {
          "base_uri": "https://localhost:8080/",
          "height": 478
        },
        "outputId": "c788cc4b-407c-4d6e-e468-89c14386a3cf"
      },
      "source": [
        "model=Sequential()\n",
        "  \n",
        "model.add(Conv2D(64, (3,3), activation=\"relu\", input_shape=X_train.shape[1:]))\n",
        "model.add(Conv2D(64, (3,3), activation=\"relu\"))\n",
        "\n",
        "model.add(MaxPool2D(pool_size=(2,2)))\n",
        "model.add(BatchNormalization())\n",
        "\n",
        "model.add(Conv2D(128,  (3,3), activation=\"relu\"))\n",
        "model.add(Conv2D(128, (3,3), activation=\"relu\"))\n",
        "model.add(Dropout(0.4))#Dropout added in the same model architecture\n",
        "\n",
        "model.add(MaxPool2D(pool_size=(2,2)))\n",
        "model.add(BatchNormalization())    \n",
        "model.add(Conv2D(256, (3,3), activation=\"relu\"))\n",
        "    \n",
        "model.add(MaxPool2D(pool_size=(2,2)))\n",
        "    \n",
        "model.add(Flatten())\n",
        "model.add(BatchNormalization())\n",
        "model.add(Dense(512,activation=\"relu\"))\n",
        "    \n",
        "model.add(Dense(10,activation=\"softmax\"))\n",
        "    \n",
        "model.compile(loss=\"categorical_crossentropy\", optimizer=\"adam\", metrics=[\"accuracy\"])\n",
        "\n",
        "\n",
        "#Training\n",
        "model.fit(X_train, y_train, batch_size=256, epochs=10, validation_data=(X_train, y_train))\n",
        "\n",
        "\n",
        "#Evaluation\n",
        "_, acc = model.evaluate(X_test, y_test, verbose=0)\n",
        "print('\\n\\n\\n***************************************************\\nAccuracy:%.3f' % (acc * 100.0))"
      ],
      "execution_count": 108,
      "outputs": [
        {
          "output_type": "stream",
          "text": [
            "Train on 60000 samples, validate on 60000 samples\n",
            "Epoch 1/10\n",
            "60000/60000 [==============================] - 10s 165us/step - loss: 0.0970 - accuracy: 0.9705 - val_loss: 0.0304 - val_accuracy: 0.9904\n",
            "Epoch 2/10\n",
            "60000/60000 [==============================] - 9s 153us/step - loss: 0.0325 - accuracy: 0.9902 - val_loss: 0.0391 - val_accuracy: 0.9878\n",
            "Epoch 3/10\n",
            "60000/60000 [==============================] - 9s 154us/step - loss: 0.0232 - accuracy: 0.9925 - val_loss: 0.0515 - val_accuracy: 0.9833\n",
            "Epoch 4/10\n",
            "60000/60000 [==============================] - 9s 154us/step - loss: 0.0189 - accuracy: 0.9939 - val_loss: 0.0263 - val_accuracy: 0.9911\n",
            "Epoch 5/10\n",
            "60000/60000 [==============================] - 9s 154us/step - loss: 0.0156 - accuracy: 0.9951 - val_loss: 0.0141 - val_accuracy: 0.9956\n",
            "Epoch 6/10\n",
            "60000/60000 [==============================] - 9s 153us/step - loss: 0.0134 - accuracy: 0.9960 - val_loss: 0.0474 - val_accuracy: 0.9827\n",
            "Epoch 7/10\n",
            "60000/60000 [==============================] - 9s 152us/step - loss: 0.0109 - accuracy: 0.9963 - val_loss: 0.0144 - val_accuracy: 0.9954\n",
            "Epoch 8/10\n",
            "60000/60000 [==============================] - 9s 152us/step - loss: 0.0112 - accuracy: 0.9963 - val_loss: 0.0229 - val_accuracy: 0.9922\n",
            "Epoch 9/10\n",
            "60000/60000 [==============================] - 9s 153us/step - loss: 0.0104 - accuracy: 0.9967 - val_loss: 0.0139 - val_accuracy: 0.9957\n",
            "Epoch 10/10\n",
            "60000/60000 [==============================] - 9s 154us/step - loss: 0.0089 - accuracy: 0.9971 - val_loss: 0.0132 - val_accuracy: 0.9958\n",
            "\n",
            "\n",
            "\n",
            "***************************************************\n",
            "Accuracy:99.170\n"
          ],
          "name": "stdout"
        }
      ]
    },
    {
      "cell_type": "markdown",
      "metadata": {
        "id": "a85VCJB6WRID",
        "colab_type": "text"
      },
      "source": [
        "The best accuracy achieved till now"
      ]
    },
    {
      "cell_type": "code",
      "metadata": {
        "id": "Zk9258rNWHTL",
        "colab_type": "code",
        "colab": {
          "base_uri": "https://localhost:8080/",
          "height": 820
        },
        "outputId": "71172a24-37b3-4ef0-a263-5e85b6959d69"
      },
      "source": [
        "#Displaying the predictions\n",
        "y_pred = model.predict(X_test)\n",
        "X_test__ = X_test.reshape(X_test.shape[0], 28, 28)\n",
        "\n",
        "fig, axis = plt.subplots(4, 4, figsize=(12, 14))\n",
        "for i, ax in enumerate(axis.flat):\n",
        "    ax.imshow(X_test__[i], cmap='binary')\n",
        "    ax.set(title = f\"Real Number is {y_test[i].argmax()}\\nPredict Number is {y_pred[i].argmax()}\");"
      ],
      "execution_count": 109,
      "outputs": [
        {
          "output_type": "display_data",
          "data": {
            "image/png": "[encoded data removed]",
            "text/plain": [
              "<Figure size 864x1008 with 16 Axes>"
            ]
          },
          "metadata": {
            "tags": [],
            "needs_background": "light"
          }
        }
      ]
    }
  ]
}
